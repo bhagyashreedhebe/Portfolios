{
 "cells": [
  {
   "cell_type": "markdown",
   "metadata": {},
   "source": [
    "# Portfolio 2: Analysing COVID-19 Data"
   ]
  },
  {
   "cell_type": "code",
   "execution_count": 1,
   "metadata": {},
   "outputs": [],
   "source": [
    "#loading the libraries required\n",
    "import pandas as pd\n",
    "import numpy as np\n",
    "from matplotlib import pyplot as plt\n",
    "from sklearn.model_selection import train_test_split\n",
    "from datetime import datetime\n",
    "from datetime import time\n",
    "import seaborn as sns\n",
    "from pylab import rcParams\n",
    "\n",
    "%matplotlib inline"
   ]
  },
  {
   "cell_type": "markdown",
   "metadata": {},
   "source": [
    "Reading the live dataset from the git directory"
   ]
  },
  {
   "cell_type": "code",
   "execution_count": 2,
   "metadata": {},
   "outputs": [],
   "source": [
    "# load the live dataset, assumes a working network connection\n",
    "covid_data_url = 'https://github.com/CSSEGISandData/COVID-19/raw/master/csse_covid_19_data/csse_covid_19_time_series/time_series_covid19_confirmed_global.csv'\n",
    "covid = pd.read_csv(covid_data_url)"
   ]
  },
  {
   "cell_type": "code",
   "execution_count": 3,
   "metadata": {},
   "outputs": [
    {
     "data": {
      "text/html": [
       "<div>\n",
       "<style scoped>\n",
       "    .dataframe tbody tr th:only-of-type {\n",
       "        vertical-align: middle;\n",
       "    }\n",
       "\n",
       "    .dataframe tbody tr th {\n",
       "        vertical-align: top;\n",
       "    }\n",
       "\n",
       "    .dataframe thead th {\n",
       "        text-align: right;\n",
       "    }\n",
       "</style>\n",
       "<table border=\"1\" class=\"dataframe\">\n",
       "  <thead>\n",
       "    <tr style=\"text-align: right;\">\n",
       "      <th></th>\n",
       "      <th>Province/State</th>\n",
       "      <th>Country/Region</th>\n",
       "      <th>Lat</th>\n",
       "      <th>Long</th>\n",
       "      <th>1/22/20</th>\n",
       "      <th>1/23/20</th>\n",
       "      <th>1/24/20</th>\n",
       "      <th>1/25/20</th>\n",
       "      <th>1/26/20</th>\n",
       "      <th>1/27/20</th>\n",
       "      <th>...</th>\n",
       "      <th>5/13/20</th>\n",
       "      <th>5/14/20</th>\n",
       "      <th>5/15/20</th>\n",
       "      <th>5/16/20</th>\n",
       "      <th>5/17/20</th>\n",
       "      <th>5/18/20</th>\n",
       "      <th>5/19/20</th>\n",
       "      <th>5/20/20</th>\n",
       "      <th>5/21/20</th>\n",
       "      <th>5/22/20</th>\n",
       "    </tr>\n",
       "  </thead>\n",
       "  <tbody>\n",
       "    <tr>\n",
       "      <td>0</td>\n",
       "      <td>NaN</td>\n",
       "      <td>Afghanistan</td>\n",
       "      <td>33.0000</td>\n",
       "      <td>65.0000</td>\n",
       "      <td>0</td>\n",
       "      <td>0</td>\n",
       "      <td>0</td>\n",
       "      <td>0</td>\n",
       "      <td>0</td>\n",
       "      <td>0</td>\n",
       "      <td>...</td>\n",
       "      <td>5226</td>\n",
       "      <td>5639</td>\n",
       "      <td>6053</td>\n",
       "      <td>6402</td>\n",
       "      <td>6664</td>\n",
       "      <td>7072</td>\n",
       "      <td>7653</td>\n",
       "      <td>8145</td>\n",
       "      <td>8676</td>\n",
       "      <td>9216</td>\n",
       "    </tr>\n",
       "    <tr>\n",
       "      <td>1</td>\n",
       "      <td>NaN</td>\n",
       "      <td>Albania</td>\n",
       "      <td>41.1533</td>\n",
       "      <td>20.1683</td>\n",
       "      <td>0</td>\n",
       "      <td>0</td>\n",
       "      <td>0</td>\n",
       "      <td>0</td>\n",
       "      <td>0</td>\n",
       "      <td>0</td>\n",
       "      <td>...</td>\n",
       "      <td>880</td>\n",
       "      <td>898</td>\n",
       "      <td>916</td>\n",
       "      <td>933</td>\n",
       "      <td>946</td>\n",
       "      <td>948</td>\n",
       "      <td>949</td>\n",
       "      <td>964</td>\n",
       "      <td>969</td>\n",
       "      <td>981</td>\n",
       "    </tr>\n",
       "    <tr>\n",
       "      <td>2</td>\n",
       "      <td>NaN</td>\n",
       "      <td>Algeria</td>\n",
       "      <td>28.0339</td>\n",
       "      <td>1.6596</td>\n",
       "      <td>0</td>\n",
       "      <td>0</td>\n",
       "      <td>0</td>\n",
       "      <td>0</td>\n",
       "      <td>0</td>\n",
       "      <td>0</td>\n",
       "      <td>...</td>\n",
       "      <td>6253</td>\n",
       "      <td>6442</td>\n",
       "      <td>6629</td>\n",
       "      <td>6821</td>\n",
       "      <td>7019</td>\n",
       "      <td>7201</td>\n",
       "      <td>7377</td>\n",
       "      <td>7542</td>\n",
       "      <td>7728</td>\n",
       "      <td>7918</td>\n",
       "    </tr>\n",
       "    <tr>\n",
       "      <td>3</td>\n",
       "      <td>NaN</td>\n",
       "      <td>Andorra</td>\n",
       "      <td>42.5063</td>\n",
       "      <td>1.5218</td>\n",
       "      <td>0</td>\n",
       "      <td>0</td>\n",
       "      <td>0</td>\n",
       "      <td>0</td>\n",
       "      <td>0</td>\n",
       "      <td>0</td>\n",
       "      <td>...</td>\n",
       "      <td>760</td>\n",
       "      <td>761</td>\n",
       "      <td>761</td>\n",
       "      <td>761</td>\n",
       "      <td>761</td>\n",
       "      <td>761</td>\n",
       "      <td>761</td>\n",
       "      <td>762</td>\n",
       "      <td>762</td>\n",
       "      <td>762</td>\n",
       "    </tr>\n",
       "    <tr>\n",
       "      <td>4</td>\n",
       "      <td>NaN</td>\n",
       "      <td>Angola</td>\n",
       "      <td>-11.2027</td>\n",
       "      <td>17.8739</td>\n",
       "      <td>0</td>\n",
       "      <td>0</td>\n",
       "      <td>0</td>\n",
       "      <td>0</td>\n",
       "      <td>0</td>\n",
       "      <td>0</td>\n",
       "      <td>...</td>\n",
       "      <td>45</td>\n",
       "      <td>48</td>\n",
       "      <td>48</td>\n",
       "      <td>48</td>\n",
       "      <td>48</td>\n",
       "      <td>50</td>\n",
       "      <td>52</td>\n",
       "      <td>52</td>\n",
       "      <td>58</td>\n",
       "      <td>60</td>\n",
       "    </tr>\n",
       "  </tbody>\n",
       "</table>\n",
       "<p>5 rows × 126 columns</p>\n",
       "</div>"
      ],
      "text/plain": [
       "  Province/State Country/Region      Lat     Long  1/22/20  1/23/20  1/24/20  \\\n",
       "0            NaN    Afghanistan  33.0000  65.0000        0        0        0   \n",
       "1            NaN        Albania  41.1533  20.1683        0        0        0   \n",
       "2            NaN        Algeria  28.0339   1.6596        0        0        0   \n",
       "3            NaN        Andorra  42.5063   1.5218        0        0        0   \n",
       "4            NaN         Angola -11.2027  17.8739        0        0        0   \n",
       "\n",
       "   1/25/20  1/26/20  1/27/20  ...  5/13/20  5/14/20  5/15/20  5/16/20  \\\n",
       "0        0        0        0  ...     5226     5639     6053     6402   \n",
       "1        0        0        0  ...      880      898      916      933   \n",
       "2        0        0        0  ...     6253     6442     6629     6821   \n",
       "3        0        0        0  ...      760      761      761      761   \n",
       "4        0        0        0  ...       45       48       48       48   \n",
       "\n",
       "   5/17/20  5/18/20  5/19/20  5/20/20  5/21/20  5/22/20  \n",
       "0     6664     7072     7653     8145     8676     9216  \n",
       "1      946      948      949      964      969      981  \n",
       "2     7019     7201     7377     7542     7728     7918  \n",
       "3      761      761      761      762      762      762  \n",
       "4       48       50       52       52       58       60  \n",
       "\n",
       "[5 rows x 126 columns]"
      ]
     },
     "execution_count": 3,
     "metadata": {},
     "output_type": "execute_result"
    }
   ],
   "source": [
    "#Displays the first five entries of our dataframe covid\n",
    "covid.head()"
   ]
  },
  {
   "cell_type": "code",
   "execution_count": 4,
   "metadata": {},
   "outputs": [
    {
     "data": {
      "text/plain": [
       "(266, 126)"
      ]
     },
     "execution_count": 4,
     "metadata": {},
     "output_type": "execute_result"
    }
   ],
   "source": [
    "covid.shape"
   ]
  },
  {
   "cell_type": "markdown",
   "metadata": {},
   "source": [
    "## Explore the Data\n",
    "\n",
    "The format of this data is one row per geographical region with columns for Lat/Long and then one column for each day's data.  Most regions are countries but in some cases, as in Australia, they are states.  \n",
    "\n",
    "For the analysis we want to do we'll look at data for countries only, so the first operation on the data frame is to combine all of the rows for countries like Australia that are split into states.  We then want to drop the non-numeric columns to leave us with just the numbers on each day for each country.  This can be done using the [`groupby`](https://pandas.pydata.org/docs/getting_started/10min.html#grouping) method and the [`drop`](https://pandas.pydata.org/docs/reference/api/pandas.DataFrame.drop.html) method.  We can use these to make a new dataframe containing just the numerical data."
   ]
  },
  {
   "cell_type": "code",
   "execution_count": 5,
   "metadata": {},
   "outputs": [],
   "source": [
    "grouped = covid.groupby('Country/Region').sum()\n",
    "grouped = grouped.drop(columns=['Lat', 'Long'])"
   ]
  },
  {
   "cell_type": "code",
   "execution_count": 6,
   "metadata": {},
   "outputs": [
    {
     "data": {
      "text/plain": [
       "(188, 122)"
      ]
     },
     "execution_count": 6,
     "metadata": {},
     "output_type": "execute_result"
    }
   ],
   "source": [
    "grouped.shape"
   ]
  },
  {
   "cell_type": "code",
   "execution_count": 7,
   "metadata": {},
   "outputs": [
    {
     "data": {
      "text/html": [
       "<div>\n",
       "<style scoped>\n",
       "    .dataframe tbody tr th:only-of-type {\n",
       "        vertical-align: middle;\n",
       "    }\n",
       "\n",
       "    .dataframe tbody tr th {\n",
       "        vertical-align: top;\n",
       "    }\n",
       "\n",
       "    .dataframe thead th {\n",
       "        text-align: right;\n",
       "    }\n",
       "</style>\n",
       "<table border=\"1\" class=\"dataframe\">\n",
       "  <thead>\n",
       "    <tr style=\"text-align: right;\">\n",
       "      <th></th>\n",
       "      <th>1/22/20</th>\n",
       "      <th>1/23/20</th>\n",
       "      <th>1/24/20</th>\n",
       "      <th>1/25/20</th>\n",
       "      <th>1/26/20</th>\n",
       "      <th>1/27/20</th>\n",
       "      <th>1/28/20</th>\n",
       "      <th>1/29/20</th>\n",
       "      <th>1/30/20</th>\n",
       "      <th>1/31/20</th>\n",
       "      <th>...</th>\n",
       "      <th>5/13/20</th>\n",
       "      <th>5/14/20</th>\n",
       "      <th>5/15/20</th>\n",
       "      <th>5/16/20</th>\n",
       "      <th>5/17/20</th>\n",
       "      <th>5/18/20</th>\n",
       "      <th>5/19/20</th>\n",
       "      <th>5/20/20</th>\n",
       "      <th>5/21/20</th>\n",
       "      <th>5/22/20</th>\n",
       "    </tr>\n",
       "    <tr>\n",
       "      <th>Country/Region</th>\n",
       "      <th></th>\n",
       "      <th></th>\n",
       "      <th></th>\n",
       "      <th></th>\n",
       "      <th></th>\n",
       "      <th></th>\n",
       "      <th></th>\n",
       "      <th></th>\n",
       "      <th></th>\n",
       "      <th></th>\n",
       "      <th></th>\n",
       "      <th></th>\n",
       "      <th></th>\n",
       "      <th></th>\n",
       "      <th></th>\n",
       "      <th></th>\n",
       "      <th></th>\n",
       "      <th></th>\n",
       "      <th></th>\n",
       "      <th></th>\n",
       "      <th></th>\n",
       "    </tr>\n",
       "  </thead>\n",
       "  <tbody>\n",
       "    <tr>\n",
       "      <td>Afghanistan</td>\n",
       "      <td>0</td>\n",
       "      <td>0</td>\n",
       "      <td>0</td>\n",
       "      <td>0</td>\n",
       "      <td>0</td>\n",
       "      <td>0</td>\n",
       "      <td>0</td>\n",
       "      <td>0</td>\n",
       "      <td>0</td>\n",
       "      <td>0</td>\n",
       "      <td>...</td>\n",
       "      <td>5226</td>\n",
       "      <td>5639</td>\n",
       "      <td>6053</td>\n",
       "      <td>6402</td>\n",
       "      <td>6664</td>\n",
       "      <td>7072</td>\n",
       "      <td>7653</td>\n",
       "      <td>8145</td>\n",
       "      <td>8676</td>\n",
       "      <td>9216</td>\n",
       "    </tr>\n",
       "    <tr>\n",
       "      <td>Albania</td>\n",
       "      <td>0</td>\n",
       "      <td>0</td>\n",
       "      <td>0</td>\n",
       "      <td>0</td>\n",
       "      <td>0</td>\n",
       "      <td>0</td>\n",
       "      <td>0</td>\n",
       "      <td>0</td>\n",
       "      <td>0</td>\n",
       "      <td>0</td>\n",
       "      <td>...</td>\n",
       "      <td>880</td>\n",
       "      <td>898</td>\n",
       "      <td>916</td>\n",
       "      <td>933</td>\n",
       "      <td>946</td>\n",
       "      <td>948</td>\n",
       "      <td>949</td>\n",
       "      <td>964</td>\n",
       "      <td>969</td>\n",
       "      <td>981</td>\n",
       "    </tr>\n",
       "    <tr>\n",
       "      <td>Algeria</td>\n",
       "      <td>0</td>\n",
       "      <td>0</td>\n",
       "      <td>0</td>\n",
       "      <td>0</td>\n",
       "      <td>0</td>\n",
       "      <td>0</td>\n",
       "      <td>0</td>\n",
       "      <td>0</td>\n",
       "      <td>0</td>\n",
       "      <td>0</td>\n",
       "      <td>...</td>\n",
       "      <td>6253</td>\n",
       "      <td>6442</td>\n",
       "      <td>6629</td>\n",
       "      <td>6821</td>\n",
       "      <td>7019</td>\n",
       "      <td>7201</td>\n",
       "      <td>7377</td>\n",
       "      <td>7542</td>\n",
       "      <td>7728</td>\n",
       "      <td>7918</td>\n",
       "    </tr>\n",
       "    <tr>\n",
       "      <td>Andorra</td>\n",
       "      <td>0</td>\n",
       "      <td>0</td>\n",
       "      <td>0</td>\n",
       "      <td>0</td>\n",
       "      <td>0</td>\n",
       "      <td>0</td>\n",
       "      <td>0</td>\n",
       "      <td>0</td>\n",
       "      <td>0</td>\n",
       "      <td>0</td>\n",
       "      <td>...</td>\n",
       "      <td>760</td>\n",
       "      <td>761</td>\n",
       "      <td>761</td>\n",
       "      <td>761</td>\n",
       "      <td>761</td>\n",
       "      <td>761</td>\n",
       "      <td>761</td>\n",
       "      <td>762</td>\n",
       "      <td>762</td>\n",
       "      <td>762</td>\n",
       "    </tr>\n",
       "    <tr>\n",
       "      <td>Angola</td>\n",
       "      <td>0</td>\n",
       "      <td>0</td>\n",
       "      <td>0</td>\n",
       "      <td>0</td>\n",
       "      <td>0</td>\n",
       "      <td>0</td>\n",
       "      <td>0</td>\n",
       "      <td>0</td>\n",
       "      <td>0</td>\n",
       "      <td>0</td>\n",
       "      <td>...</td>\n",
       "      <td>45</td>\n",
       "      <td>48</td>\n",
       "      <td>48</td>\n",
       "      <td>48</td>\n",
       "      <td>48</td>\n",
       "      <td>50</td>\n",
       "      <td>52</td>\n",
       "      <td>52</td>\n",
       "      <td>58</td>\n",
       "      <td>60</td>\n",
       "    </tr>\n",
       "  </tbody>\n",
       "</table>\n",
       "<p>5 rows × 122 columns</p>\n",
       "</div>"
      ],
      "text/plain": [
       "                1/22/20  1/23/20  1/24/20  1/25/20  1/26/20  1/27/20  1/28/20  \\\n",
       "Country/Region                                                                  \n",
       "Afghanistan           0        0        0        0        0        0        0   \n",
       "Albania               0        0        0        0        0        0        0   \n",
       "Algeria               0        0        0        0        0        0        0   \n",
       "Andorra               0        0        0        0        0        0        0   \n",
       "Angola                0        0        0        0        0        0        0   \n",
       "\n",
       "                1/29/20  1/30/20  1/31/20  ...  5/13/20  5/14/20  5/15/20  \\\n",
       "Country/Region                             ...                              \n",
       "Afghanistan           0        0        0  ...     5226     5639     6053   \n",
       "Albania               0        0        0  ...      880      898      916   \n",
       "Algeria               0        0        0  ...     6253     6442     6629   \n",
       "Andorra               0        0        0  ...      760      761      761   \n",
       "Angola                0        0        0  ...       45       48       48   \n",
       "\n",
       "                5/16/20  5/17/20  5/18/20  5/19/20  5/20/20  5/21/20  5/22/20  \n",
       "Country/Region                                                                 \n",
       "Afghanistan        6402     6664     7072     7653     8145     8676     9216  \n",
       "Albania             933      946      948      949      964      969      981  \n",
       "Algeria            6821     7019     7201     7377     7542     7728     7918  \n",
       "Andorra             761      761      761      761      762      762      762  \n",
       "Angola               48       48       50       52       52       58       60  \n",
       "\n",
       "[5 rows x 122 columns]"
      ]
     },
     "execution_count": 7,
     "metadata": {},
     "output_type": "execute_result"
    }
   ],
   "source": [
    "grouped.head()"
   ]
  },
  {
   "cell_type": "markdown",
   "metadata": {},
   "source": [
    "You can now select just the data for one country [using the `loc` method](https://pandas.pydata.org/docs/getting_started/10min.html#selection) since the new dataframe will have the grouped values (Countries) as the row labels. Select the data for one country (you choose which) and plot it.  You should see the exponential rise in case numbers over time."
   ]
  },
  {
   "cell_type": "code",
   "execution_count": 8,
   "metadata": {},
   "outputs": [
    {
     "data": {
      "text/plain": [
       "<matplotlib.axes._subplots.AxesSubplot at 0x23cdadff808>"
      ]
     },
     "execution_count": 8,
     "metadata": {},
     "output_type": "execute_result"
    },
    {
     "data": {
      "image/png": "[encoded data removed]",
      "text/plain": [
       "<Figure size 576x288 with 1 Axes>"
      ]
     },
     "metadata": {
      "needs_background": "light"
     },
     "output_type": "display_data"
    }
   ],
   "source": [
    "#loc method is used to filter and select data based on labels\n",
    "#Our labels are 'Country/Region' and dates\n",
    "plt.figure(figsize=(8,4))\n",
    "df =grouped.loc['US']\n",
    "df.plot.line()"
   ]
  },
  {
   "cell_type": "markdown",
   "metadata": {},
   "source": [
    "* Plotted the data for US using line plot. We can observe from the graph that there is an increase in the number of cases after 2nd March'20."
   ]
  },
  {
   "cell_type": "markdown",
   "metadata": {},
   "source": [
    "## Comparing Countries\n",
    "\n",
    "One of the classic displays in the news is the comparison between countries. "
   ]
  },
  {
   "cell_type": "code",
   "execution_count": 9,
   "metadata": {},
   "outputs": [],
   "source": [
    "a= grouped.loc['China']\n",
    "b= grouped.loc['US']\n",
    "c= grouped.loc['Italy']\n",
    "d= grouped.loc['United Kingdom']\n",
    "e= grouped.loc['Australia']\n",
    "g= grouped.loc['Ireland']\n",
    "h= grouped.loc['India']"
   ]
  },
  {
   "cell_type": "code",
   "execution_count": 10,
   "metadata": {
    "scrolled": false
   },
   "outputs": [
    {
     "data": {
      "image/png": "[encoded data removed]",
      "text/plain": [
       "<Figure size 1296x432 with 1 Axes>"
      ]
     },
     "metadata": {
      "needs_background": "light"
     },
     "output_type": "display_data"
    }
   ],
   "source": [
    "plt.figure(figsize=(18,6))\n",
    "plt.xticks(rotation=75)\n",
    "plt.plot(a, label= 'China')\n",
    "plt.plot(b, label= 'US')\n",
    "plt.plot(c, label= 'Italy')\n",
    "plt.plot(d, label= 'United Kingdom')\n",
    "plt.plot(e, label= 'Australia')\n",
    "plt.plot(g, label= 'Ireland')\n",
    "plt.plot(h, label= 'India')\n",
    "\n",
    "\n",
    "#Adding legend, title and labels\n",
    "plt.title('Comparision between Countries')\n",
    "plt.xlabel('Dates')\n",
    "plt.ylabel('Affected population')\n",
    "plt.legend()\n",
    "\n",
    "plt.show()"
   ]
  },
  {
   "cell_type": "markdown",
   "metadata": {},
   "source": [
    "* Here 'Country/Region' is as an index. Here we want to plot for different countries. So I have selected the data using loc on the index."
   ]
  },
  {
   "cell_type": "code",
   "execution_count": 11,
   "metadata": {},
   "outputs": [
    {
     "data": {
      "text/plain": [
       "<matplotlib.axes._subplots.AxesSubplot at 0x23cdb2a8cc8>"
      ]
     },
     "execution_count": 11,
     "metadata": {},
     "output_type": "execute_result"
    },
    {
     "data": {
      "image/png": "[encoded data removed]",
      "text/plain": [
       "<Figure size 720x504 with 1 Axes>"
      ]
     },
     "metadata": {
      "needs_background": "light"
     },
     "output_type": "display_data"
    }
   ],
   "source": [
    "grouped_cp =grouped.T\n",
    "grouped_cp =grouped_cp[['Australia','China','Italy','US','United Kingdom','India']]\n",
    "\n",
    "plt.rcParams['figure.figsize'] = (10,7)\n",
    "grouped_cp.plot.line()"
   ]
  },
  {
   "cell_type": "markdown",
   "metadata": {},
   "source": [
    "* A better visualisation in terms of x axis labelling can be observed by taking the transpose of the dataframe and plotting it"
   ]
  },
  {
   "cell_type": "markdown",
   "metadata": {},
   "source": [
    "**Challenge** A very useful visualisation shows the data for different countries aligned from the time that they have 100 confirmed cases.  To create this figure, you need to take only the part of each time series after the value is greater than or equal to 100 and then plot this starting at 0 on the x-axis.  This is a bit more involved but will allow you to explore Pandas a bit more."
   ]
  },
  {
   "cell_type": "code",
   "execution_count": 12,
   "metadata": {},
   "outputs": [],
   "source": [
    "my_analysis = grouped.copy()"
   ]
  },
  {
   "cell_type": "code",
   "execution_count": 13,
   "metadata": {},
   "outputs": [
    {
     "name": "stderr",
     "output_type": "stream",
     "text": [
      "C:\\Users\\Bhagyashree\\Anaconda3\\lib\\site-packages\\ipykernel_launcher.py:5: SettingWithCopyWarning: \n",
      "A value is trying to be set on a copy of a slice from a DataFrame\n",
      "\n",
      "See the caveats in the documentation: http://pandas.pydata.org/pandas-docs/stable/user_guide/indexing.html#returning-a-view-versus-a-copy\n",
      "  \"\"\"\n"
     ]
    }
   ],
   "source": [
    "# Iterated over the column values for original data\n",
    "# if the value is less than 100 then it is set to NaN\n",
    "# Using loc filtered out the countries in interest\n",
    "for col in my_analysis.columns:\n",
    "    my_analysis[col][my_analysis[col] < 100] = 'NaN'\n",
    "\n",
    "#Selected data for countries of our interest\n",
    "my_countries = my_analysis.loc[['Australia','China','Italy','US','United Kingdom','India']]"
   ]
  },
  {
   "cell_type": "code",
   "execution_count": 14,
   "metadata": {},
   "outputs": [
    {
     "data": {
      "text/html": [
       "<div>\n",
       "<style scoped>\n",
       "    .dataframe tbody tr th:only-of-type {\n",
       "        vertical-align: middle;\n",
       "    }\n",
       "\n",
       "    .dataframe tbody tr th {\n",
       "        vertical-align: top;\n",
       "    }\n",
       "\n",
       "    .dataframe thead th {\n",
       "        text-align: right;\n",
       "    }\n",
       "</style>\n",
       "<table border=\"1\" class=\"dataframe\">\n",
       "  <thead>\n",
       "    <tr style=\"text-align: right;\">\n",
       "      <th></th>\n",
       "      <th>1/22/20</th>\n",
       "      <th>1/23/20</th>\n",
       "      <th>1/24/20</th>\n",
       "      <th>1/25/20</th>\n",
       "      <th>1/26/20</th>\n",
       "      <th>1/27/20</th>\n",
       "      <th>1/28/20</th>\n",
       "      <th>1/29/20</th>\n",
       "      <th>1/30/20</th>\n",
       "      <th>1/31/20</th>\n",
       "      <th>...</th>\n",
       "      <th>5/13/20</th>\n",
       "      <th>5/14/20</th>\n",
       "      <th>5/15/20</th>\n",
       "      <th>5/16/20</th>\n",
       "      <th>5/17/20</th>\n",
       "      <th>5/18/20</th>\n",
       "      <th>5/19/20</th>\n",
       "      <th>5/20/20</th>\n",
       "      <th>5/21/20</th>\n",
       "      <th>5/22/20</th>\n",
       "    </tr>\n",
       "    <tr>\n",
       "      <th>Country/Region</th>\n",
       "      <th></th>\n",
       "      <th></th>\n",
       "      <th></th>\n",
       "      <th></th>\n",
       "      <th></th>\n",
       "      <th></th>\n",
       "      <th></th>\n",
       "      <th></th>\n",
       "      <th></th>\n",
       "      <th></th>\n",
       "      <th></th>\n",
       "      <th></th>\n",
       "      <th></th>\n",
       "      <th></th>\n",
       "      <th></th>\n",
       "      <th></th>\n",
       "      <th></th>\n",
       "      <th></th>\n",
       "      <th></th>\n",
       "      <th></th>\n",
       "      <th></th>\n",
       "    </tr>\n",
       "  </thead>\n",
       "  <tbody>\n",
       "    <tr>\n",
       "      <td>Australia</td>\n",
       "      <td>NaN</td>\n",
       "      <td>NaN</td>\n",
       "      <td>NaN</td>\n",
       "      <td>NaN</td>\n",
       "      <td>NaN</td>\n",
       "      <td>NaN</td>\n",
       "      <td>NaN</td>\n",
       "      <td>NaN</td>\n",
       "      <td>NaN</td>\n",
       "      <td>NaN</td>\n",
       "      <td>...</td>\n",
       "      <td>6989</td>\n",
       "      <td>7019</td>\n",
       "      <td>7035</td>\n",
       "      <td>7044</td>\n",
       "      <td>7054</td>\n",
       "      <td>7068</td>\n",
       "      <td>7072</td>\n",
       "      <td>7081</td>\n",
       "      <td>7095</td>\n",
       "      <td>7099</td>\n",
       "    </tr>\n",
       "    <tr>\n",
       "      <td>China</td>\n",
       "      <td>548</td>\n",
       "      <td>643</td>\n",
       "      <td>920</td>\n",
       "      <td>1406</td>\n",
       "      <td>2075</td>\n",
       "      <td>2877</td>\n",
       "      <td>5509</td>\n",
       "      <td>6087</td>\n",
       "      <td>8141</td>\n",
       "      <td>9802</td>\n",
       "      <td>...</td>\n",
       "      <td>84024</td>\n",
       "      <td>84029</td>\n",
       "      <td>84038</td>\n",
       "      <td>84044</td>\n",
       "      <td>84054</td>\n",
       "      <td>84063</td>\n",
       "      <td>84063</td>\n",
       "      <td>84063</td>\n",
       "      <td>84063</td>\n",
       "      <td>84081</td>\n",
       "    </tr>\n",
       "    <tr>\n",
       "      <td>Italy</td>\n",
       "      <td>NaN</td>\n",
       "      <td>NaN</td>\n",
       "      <td>NaN</td>\n",
       "      <td>NaN</td>\n",
       "      <td>NaN</td>\n",
       "      <td>NaN</td>\n",
       "      <td>NaN</td>\n",
       "      <td>NaN</td>\n",
       "      <td>NaN</td>\n",
       "      <td>NaN</td>\n",
       "      <td>...</td>\n",
       "      <td>222104</td>\n",
       "      <td>223096</td>\n",
       "      <td>223885</td>\n",
       "      <td>224760</td>\n",
       "      <td>225435</td>\n",
       "      <td>225886</td>\n",
       "      <td>226699</td>\n",
       "      <td>227364</td>\n",
       "      <td>228006</td>\n",
       "      <td>228658</td>\n",
       "    </tr>\n",
       "    <tr>\n",
       "      <td>US</td>\n",
       "      <td>NaN</td>\n",
       "      <td>NaN</td>\n",
       "      <td>NaN</td>\n",
       "      <td>NaN</td>\n",
       "      <td>NaN</td>\n",
       "      <td>NaN</td>\n",
       "      <td>NaN</td>\n",
       "      <td>NaN</td>\n",
       "      <td>NaN</td>\n",
       "      <td>NaN</td>\n",
       "      <td>...</td>\n",
       "      <td>1390406</td>\n",
       "      <td>1417774</td>\n",
       "      <td>1442824</td>\n",
       "      <td>1467820</td>\n",
       "      <td>1486757</td>\n",
       "      <td>1508308</td>\n",
       "      <td>1528568</td>\n",
       "      <td>1551853</td>\n",
       "      <td>1577147</td>\n",
       "      <td>1600937</td>\n",
       "    </tr>\n",
       "    <tr>\n",
       "      <td>United Kingdom</td>\n",
       "      <td>NaN</td>\n",
       "      <td>NaN</td>\n",
       "      <td>NaN</td>\n",
       "      <td>NaN</td>\n",
       "      <td>NaN</td>\n",
       "      <td>NaN</td>\n",
       "      <td>NaN</td>\n",
       "      <td>NaN</td>\n",
       "      <td>NaN</td>\n",
       "      <td>NaN</td>\n",
       "      <td>...</td>\n",
       "      <td>230985</td>\n",
       "      <td>234440</td>\n",
       "      <td>238004</td>\n",
       "      <td>241461</td>\n",
       "      <td>244995</td>\n",
       "      <td>247709</td>\n",
       "      <td>250138</td>\n",
       "      <td>249619</td>\n",
       "      <td>252246</td>\n",
       "      <td>255544</td>\n",
       "    </tr>\n",
       "    <tr>\n",
       "      <td>India</td>\n",
       "      <td>NaN</td>\n",
       "      <td>NaN</td>\n",
       "      <td>NaN</td>\n",
       "      <td>NaN</td>\n",
       "      <td>NaN</td>\n",
       "      <td>NaN</td>\n",
       "      <td>NaN</td>\n",
       "      <td>NaN</td>\n",
       "      <td>NaN</td>\n",
       "      <td>NaN</td>\n",
       "      <td>...</td>\n",
       "      <td>78055</td>\n",
       "      <td>81997</td>\n",
       "      <td>85784</td>\n",
       "      <td>90648</td>\n",
       "      <td>95698</td>\n",
       "      <td>100328</td>\n",
       "      <td>106475</td>\n",
       "      <td>112028</td>\n",
       "      <td>118226</td>\n",
       "      <td>124794</td>\n",
       "    </tr>\n",
       "  </tbody>\n",
       "</table>\n",
       "<p>6 rows × 122 columns</p>\n",
       "</div>"
      ],
      "text/plain": [
       "               1/22/20 1/23/20 1/24/20 1/25/20 1/26/20 1/27/20 1/28/20  \\\n",
       "Country/Region                                                           \n",
       "Australia          NaN     NaN     NaN     NaN     NaN     NaN     NaN   \n",
       "China              548     643     920    1406    2075    2877    5509   \n",
       "Italy              NaN     NaN     NaN     NaN     NaN     NaN     NaN   \n",
       "US                 NaN     NaN     NaN     NaN     NaN     NaN     NaN   \n",
       "United Kingdom     NaN     NaN     NaN     NaN     NaN     NaN     NaN   \n",
       "India              NaN     NaN     NaN     NaN     NaN     NaN     NaN   \n",
       "\n",
       "               1/29/20 1/30/20 1/31/20  ...  5/13/20  5/14/20  5/15/20  \\\n",
       "Country/Region                          ...                              \n",
       "Australia          NaN     NaN     NaN  ...     6989     7019     7035   \n",
       "China             6087    8141    9802  ...    84024    84029    84038   \n",
       "Italy              NaN     NaN     NaN  ...   222104   223096   223885   \n",
       "US                 NaN     NaN     NaN  ...  1390406  1417774  1442824   \n",
       "United Kingdom     NaN     NaN     NaN  ...   230985   234440   238004   \n",
       "India              NaN     NaN     NaN  ...    78055    81997    85784   \n",
       "\n",
       "                5/16/20  5/17/20  5/18/20  5/19/20  5/20/20  5/21/20  5/22/20  \n",
       "Country/Region                                                                 \n",
       "Australia          7044     7054     7068     7072     7081     7095     7099  \n",
       "China             84044    84054    84063    84063    84063    84063    84081  \n",
       "Italy            224760   225435   225886   226699   227364   228006   228658  \n",
       "US              1467820  1486757  1508308  1528568  1551853  1577147  1600937  \n",
       "United Kingdom   241461   244995   247709   250138   249619   252246   255544  \n",
       "India             90648    95698   100328   106475   112028   118226   124794  \n",
       "\n",
       "[6 rows x 122 columns]"
      ]
     },
     "execution_count": 14,
     "metadata": {},
     "output_type": "execute_result"
    }
   ],
   "source": [
    "my_countries"
   ]
  },
  {
   "cell_type": "code",
   "execution_count": 15,
   "metadata": {},
   "outputs": [],
   "source": [
    "# Created a copy to use for later analysis\n",
    "mylist=my_countries "
   ]
  },
  {
   "cell_type": "code",
   "execution_count": 16,
   "metadata": {},
   "outputs": [],
   "source": [
    "# Created a transpose of the dataframe for better evaluation and representation\n",
    "my_countries=my_countries.T"
   ]
  },
  {
   "cell_type": "code",
   "execution_count": 17,
   "metadata": {},
   "outputs": [],
   "source": [
    "my_new_countries=my_countries#.rename_axis(\"Dates\")"
   ]
  },
  {
   "cell_type": "code",
   "execution_count": 18,
   "metadata": {},
   "outputs": [
    {
     "data": {
      "text/html": [
       "<div>\n",
       "<style scoped>\n",
       "    .dataframe tbody tr th:only-of-type {\n",
       "        vertical-align: middle;\n",
       "    }\n",
       "\n",
       "    .dataframe tbody tr th {\n",
       "        vertical-align: top;\n",
       "    }\n",
       "\n",
       "    .dataframe thead th {\n",
       "        text-align: right;\n",
       "    }\n",
       "</style>\n",
       "<table border=\"1\" class=\"dataframe\">\n",
       "  <thead>\n",
       "    <tr style=\"text-align: right;\">\n",
       "      <th>Country/Region</th>\n",
       "      <th>Australia</th>\n",
       "      <th>China</th>\n",
       "      <th>Italy</th>\n",
       "      <th>US</th>\n",
       "      <th>United Kingdom</th>\n",
       "      <th>India</th>\n",
       "    </tr>\n",
       "  </thead>\n",
       "  <tbody>\n",
       "    <tr>\n",
       "      <td>1/22/20</td>\n",
       "      <td>NaN</td>\n",
       "      <td>548</td>\n",
       "      <td>NaN</td>\n",
       "      <td>NaN</td>\n",
       "      <td>NaN</td>\n",
       "      <td>NaN</td>\n",
       "    </tr>\n",
       "    <tr>\n",
       "      <td>1/23/20</td>\n",
       "      <td>NaN</td>\n",
       "      <td>643</td>\n",
       "      <td>NaN</td>\n",
       "      <td>NaN</td>\n",
       "      <td>NaN</td>\n",
       "      <td>NaN</td>\n",
       "    </tr>\n",
       "    <tr>\n",
       "      <td>1/24/20</td>\n",
       "      <td>NaN</td>\n",
       "      <td>920</td>\n",
       "      <td>NaN</td>\n",
       "      <td>NaN</td>\n",
       "      <td>NaN</td>\n",
       "      <td>NaN</td>\n",
       "    </tr>\n",
       "    <tr>\n",
       "      <td>1/25/20</td>\n",
       "      <td>NaN</td>\n",
       "      <td>1406</td>\n",
       "      <td>NaN</td>\n",
       "      <td>NaN</td>\n",
       "      <td>NaN</td>\n",
       "      <td>NaN</td>\n",
       "    </tr>\n",
       "    <tr>\n",
       "      <td>1/26/20</td>\n",
       "      <td>NaN</td>\n",
       "      <td>2075</td>\n",
       "      <td>NaN</td>\n",
       "      <td>NaN</td>\n",
       "      <td>NaN</td>\n",
       "      <td>NaN</td>\n",
       "    </tr>\n",
       "    <tr>\n",
       "      <td>...</td>\n",
       "      <td>...</td>\n",
       "      <td>...</td>\n",
       "      <td>...</td>\n",
       "      <td>...</td>\n",
       "      <td>...</td>\n",
       "      <td>...</td>\n",
       "    </tr>\n",
       "    <tr>\n",
       "      <td>5/18/20</td>\n",
       "      <td>7068</td>\n",
       "      <td>84063</td>\n",
       "      <td>225886</td>\n",
       "      <td>1508308</td>\n",
       "      <td>247709</td>\n",
       "      <td>100328</td>\n",
       "    </tr>\n",
       "    <tr>\n",
       "      <td>5/19/20</td>\n",
       "      <td>7072</td>\n",
       "      <td>84063</td>\n",
       "      <td>226699</td>\n",
       "      <td>1528568</td>\n",
       "      <td>250138</td>\n",
       "      <td>106475</td>\n",
       "    </tr>\n",
       "    <tr>\n",
       "      <td>5/20/20</td>\n",
       "      <td>7081</td>\n",
       "      <td>84063</td>\n",
       "      <td>227364</td>\n",
       "      <td>1551853</td>\n",
       "      <td>249619</td>\n",
       "      <td>112028</td>\n",
       "    </tr>\n",
       "    <tr>\n",
       "      <td>5/21/20</td>\n",
       "      <td>7095</td>\n",
       "      <td>84063</td>\n",
       "      <td>228006</td>\n",
       "      <td>1577147</td>\n",
       "      <td>252246</td>\n",
       "      <td>118226</td>\n",
       "    </tr>\n",
       "    <tr>\n",
       "      <td>5/22/20</td>\n",
       "      <td>7099</td>\n",
       "      <td>84081</td>\n",
       "      <td>228658</td>\n",
       "      <td>1600937</td>\n",
       "      <td>255544</td>\n",
       "      <td>124794</td>\n",
       "    </tr>\n",
       "  </tbody>\n",
       "</table>\n",
       "<p>122 rows × 6 columns</p>\n",
       "</div>"
      ],
      "text/plain": [
       "Country/Region Australia  China   Italy       US United Kingdom   India\n",
       "1/22/20              NaN    548     NaN      NaN            NaN     NaN\n",
       "1/23/20              NaN    643     NaN      NaN            NaN     NaN\n",
       "1/24/20              NaN    920     NaN      NaN            NaN     NaN\n",
       "1/25/20              NaN   1406     NaN      NaN            NaN     NaN\n",
       "1/26/20              NaN   2075     NaN      NaN            NaN     NaN\n",
       "...                  ...    ...     ...      ...            ...     ...\n",
       "5/18/20             7068  84063  225886  1508308         247709  100328\n",
       "5/19/20             7072  84063  226699  1528568         250138  106475\n",
       "5/20/20             7081  84063  227364  1551853         249619  112028\n",
       "5/21/20             7095  84063  228006  1577147         252246  118226\n",
       "5/22/20             7099  84081  228658  1600937         255544  124794\n",
       "\n",
       "[122 rows x 6 columns]"
      ]
     },
     "execution_count": 18,
     "metadata": {},
     "output_type": "execute_result"
    }
   ],
   "source": [
    "my_new_countries"
   ]
  },
  {
   "cell_type": "code",
   "execution_count": 19,
   "metadata": {},
   "outputs": [
    {
     "data": {
      "text/html": [
       "<div>\n",
       "<style scoped>\n",
       "    .dataframe tbody tr th:only-of-type {\n",
       "        vertical-align: middle;\n",
       "    }\n",
       "\n",
       "    .dataframe tbody tr th {\n",
       "        vertical-align: top;\n",
       "    }\n",
       "\n",
       "    .dataframe thead th {\n",
       "        text-align: right;\n",
       "    }\n",
       "</style>\n",
       "<table border=\"1\" class=\"dataframe\">\n",
       "  <thead>\n",
       "    <tr style=\"text-align: right;\">\n",
       "      <th>Country/Region</th>\n",
       "      <th>Australia</th>\n",
       "      <th>China</th>\n",
       "      <th>Italy</th>\n",
       "      <th>US</th>\n",
       "      <th>United Kingdom</th>\n",
       "      <th>India</th>\n",
       "    </tr>\n",
       "  </thead>\n",
       "  <tbody>\n",
       "    <tr>\n",
       "      <td>3/14/20</td>\n",
       "      <td>250</td>\n",
       "      <td>80977</td>\n",
       "      <td>21157</td>\n",
       "      <td>2729</td>\n",
       "      <td>1144</td>\n",
       "      <td>102</td>\n",
       "    </tr>\n",
       "    <tr>\n",
       "      <td>3/15/20</td>\n",
       "      <td>297</td>\n",
       "      <td>81003</td>\n",
       "      <td>24747</td>\n",
       "      <td>3536</td>\n",
       "      <td>1145</td>\n",
       "      <td>113</td>\n",
       "    </tr>\n",
       "    <tr>\n",
       "      <td>3/16/20</td>\n",
       "      <td>377</td>\n",
       "      <td>81033</td>\n",
       "      <td>27980</td>\n",
       "      <td>4661</td>\n",
       "      <td>1551</td>\n",
       "      <td>119</td>\n",
       "    </tr>\n",
       "    <tr>\n",
       "      <td>3/17/20</td>\n",
       "      <td>452</td>\n",
       "      <td>81058</td>\n",
       "      <td>31506</td>\n",
       "      <td>6437</td>\n",
       "      <td>1960</td>\n",
       "      <td>142</td>\n",
       "    </tr>\n",
       "    <tr>\n",
       "      <td>3/18/20</td>\n",
       "      <td>568</td>\n",
       "      <td>81102</td>\n",
       "      <td>35713</td>\n",
       "      <td>7781</td>\n",
       "      <td>2642</td>\n",
       "      <td>156</td>\n",
       "    </tr>\n",
       "    <tr>\n",
       "      <td>...</td>\n",
       "      <td>...</td>\n",
       "      <td>...</td>\n",
       "      <td>...</td>\n",
       "      <td>...</td>\n",
       "      <td>...</td>\n",
       "      <td>...</td>\n",
       "    </tr>\n",
       "    <tr>\n",
       "      <td>5/18/20</td>\n",
       "      <td>7068</td>\n",
       "      <td>84063</td>\n",
       "      <td>225886</td>\n",
       "      <td>1508308</td>\n",
       "      <td>247709</td>\n",
       "      <td>100328</td>\n",
       "    </tr>\n",
       "    <tr>\n",
       "      <td>5/19/20</td>\n",
       "      <td>7072</td>\n",
       "      <td>84063</td>\n",
       "      <td>226699</td>\n",
       "      <td>1528568</td>\n",
       "      <td>250138</td>\n",
       "      <td>106475</td>\n",
       "    </tr>\n",
       "    <tr>\n",
       "      <td>5/20/20</td>\n",
       "      <td>7081</td>\n",
       "      <td>84063</td>\n",
       "      <td>227364</td>\n",
       "      <td>1551853</td>\n",
       "      <td>249619</td>\n",
       "      <td>112028</td>\n",
       "    </tr>\n",
       "    <tr>\n",
       "      <td>5/21/20</td>\n",
       "      <td>7095</td>\n",
       "      <td>84063</td>\n",
       "      <td>228006</td>\n",
       "      <td>1577147</td>\n",
       "      <td>252246</td>\n",
       "      <td>118226</td>\n",
       "    </tr>\n",
       "    <tr>\n",
       "      <td>5/22/20</td>\n",
       "      <td>7099</td>\n",
       "      <td>84081</td>\n",
       "      <td>228658</td>\n",
       "      <td>1600937</td>\n",
       "      <td>255544</td>\n",
       "      <td>124794</td>\n",
       "    </tr>\n",
       "  </tbody>\n",
       "</table>\n",
       "<p>70 rows × 6 columns</p>\n",
       "</div>"
      ],
      "text/plain": [
       "Country/Region Australia  China   Italy       US United Kingdom   India\n",
       "3/14/20              250  80977   21157     2729           1144     102\n",
       "3/15/20              297  81003   24747     3536           1145     113\n",
       "3/16/20              377  81033   27980     4661           1551     119\n",
       "3/17/20              452  81058   31506     6437           1960     142\n",
       "3/18/20              568  81102   35713     7781           2642     156\n",
       "...                  ...    ...     ...      ...            ...     ...\n",
       "5/18/20             7068  84063  225886  1508308         247709  100328\n",
       "5/19/20             7072  84063  226699  1528568         250138  106475\n",
       "5/20/20             7081  84063  227364  1551853         249619  112028\n",
       "5/21/20             7095  84063  228006  1577147         252246  118226\n",
       "5/22/20             7099  84081  228658  1600937         255544  124794\n",
       "\n",
       "[70 rows x 6 columns]"
      ]
     },
     "execution_count": 19,
     "metadata": {},
     "output_type": "execute_result"
    }
   ],
   "source": [
    "# Dropped the NaN cells\n",
    "# Done this to ignore the cells below 100\n",
    "my_new_countries=my_new_countries[(my_new_countries != 'NaN').all(1)]\n",
    "my_new_countries"
   ]
  },
  {
   "cell_type": "code",
   "execution_count": 20,
   "metadata": {},
   "outputs": [
    {
     "data": {
      "image/png": "[encoded data removed]",
      "text/plain": [
       "<Figure size 720x504 with 1 Axes>"
      ]
     },
     "metadata": {
      "needs_background": "light"
     },
     "output_type": "display_data"
    }
   ],
   "source": [
    "plt.rcParams['figure.figsize'] = (10,7)\n",
    "_ = my_new_countries.plot()"
   ]
  },
  {
   "cell_type": "code",
   "execution_count": 21,
   "metadata": {},
   "outputs": [
    {
     "data": {
      "text/plain": [
       "Text(0.5, 0, 'Affected Population')"
      ]
     },
     "execution_count": 21,
     "metadata": {},
     "output_type": "execute_result"
    },
    {
     "data": {
      "image/png": "[encoded data removed]",
      "text/plain": [
       "<Figure size 1440x1440 with 1 Axes>"
      ]
     },
     "metadata": {},
     "output_type": "display_data"
    }
   ],
   "source": [
    "#Used Bar plot to plot the values \n",
    "\n",
    "rcParams['figure.figsize'] = 20, 20\n",
    "plt.style.use('ggplot')\n",
    "\n",
    "my_new_countries.plot(kind='barh')\n",
    "plt.xlabel('Affected Population')"
   ]
  },
  {
   "cell_type": "markdown",
   "metadata": {},
   "source": [
    "* Used above two plots to depict the trend of growth of the population affected on country level"
   ]
  },
  {
   "cell_type": "markdown",
   "metadata": {},
   "source": [
    "## Normalisation by Population\n",
    "\n",
    "Calculating the number of cases per million.\n",
    "\n",
    "Downloaded the file from [datahub.io](https://datahub.io/JohnSnowLabs/population-figures-by-country) and considered the data for year-2016"
   ]
  },
  {
   "cell_type": "code",
   "execution_count": 22,
   "metadata": {},
   "outputs": [
    {
     "data": {
      "text/html": [
       "<div>\n",
       "<style scoped>\n",
       "    .dataframe tbody tr th:only-of-type {\n",
       "        vertical-align: middle;\n",
       "    }\n",
       "\n",
       "    .dataframe tbody tr th {\n",
       "        vertical-align: top;\n",
       "    }\n",
       "\n",
       "    .dataframe thead th {\n",
       "        text-align: right;\n",
       "    }\n",
       "</style>\n",
       "<table border=\"1\" class=\"dataframe\">\n",
       "  <thead>\n",
       "    <tr style=\"text-align: right;\">\n",
       "      <th></th>\n",
       "      <th>Country</th>\n",
       "      <th>Country_Code</th>\n",
       "      <th>Year_1960</th>\n",
       "      <th>Year_1961</th>\n",
       "      <th>Year_1962</th>\n",
       "      <th>Year_1963</th>\n",
       "      <th>Year_1964</th>\n",
       "      <th>Year_1965</th>\n",
       "      <th>Year_1966</th>\n",
       "      <th>Year_1967</th>\n",
       "      <th>...</th>\n",
       "      <th>Year_2007</th>\n",
       "      <th>Year_2008</th>\n",
       "      <th>Year_2009</th>\n",
       "      <th>Year_2010</th>\n",
       "      <th>Year_2011</th>\n",
       "      <th>Year_2012</th>\n",
       "      <th>Year_2013</th>\n",
       "      <th>Year_2014</th>\n",
       "      <th>Year_2015</th>\n",
       "      <th>Year_2016</th>\n",
       "    </tr>\n",
       "  </thead>\n",
       "  <tbody>\n",
       "    <tr>\n",
       "      <td>237</td>\n",
       "      <td>South Asia (IDA &amp; IBRD)</td>\n",
       "      <td>TSA</td>\n",
       "      <td>571857185.0</td>\n",
       "      <td>583950448.0</td>\n",
       "      <td>596504751.0</td>\n",
       "      <td>609376285.0</td>\n",
       "      <td>622875636.0</td>\n",
       "      <td>636754992.0</td>\n",
       "      <td>651094669.0</td>\n",
       "      <td>665871993.0</td>\n",
       "      <td>...</td>\n",
       "      <td>1.560689e+09</td>\n",
       "      <td>1.584247e+09</td>\n",
       "      <td>1.607562e+09</td>\n",
       "      <td>1.630730e+09</td>\n",
       "      <td>1.653756e+09</td>\n",
       "      <td>1.676614e+09</td>\n",
       "      <td>1.699306e+09</td>\n",
       "      <td>1.721841e+09</td>\n",
       "      <td>1.744191e+09</td>\n",
       "      <td>1.766383e+09</td>\n",
       "    </tr>\n",
       "  </tbody>\n",
       "</table>\n",
       "<p>1 rows × 59 columns</p>\n",
       "</div>"
      ],
      "text/plain": [
       "                     Country Country_Code    Year_1960    Year_1961  \\\n",
       "237  South Asia (IDA & IBRD)          TSA  571857185.0  583950448.0   \n",
       "\n",
       "       Year_1962    Year_1963    Year_1964    Year_1965    Year_1966  \\\n",
       "237  596504751.0  609376285.0  622875636.0  636754992.0  651094669.0   \n",
       "\n",
       "       Year_1967  ...     Year_2007     Year_2008     Year_2009     Year_2010  \\\n",
       "237  665871993.0  ...  1.560689e+09  1.584247e+09  1.607562e+09  1.630730e+09   \n",
       "\n",
       "        Year_2011     Year_2012     Year_2013     Year_2014     Year_2015  \\\n",
       "237  1.653756e+09  1.676614e+09  1.699306e+09  1.721841e+09  1.744191e+09   \n",
       "\n",
       "        Year_2016  \n",
       "237  1.766383e+09  \n",
       "\n",
       "[1 rows x 59 columns]"
      ]
     },
     "execution_count": 22,
     "metadata": {},
     "output_type": "execute_result"
    }
   ],
   "source": [
    "population = pd.read_csv('data/population-figures-by-country-csv_csv.csv')\n",
    "population.sample()"
   ]
  },
  {
   "cell_type": "code",
   "execution_count": 23,
   "metadata": {},
   "outputs": [
    {
     "data": {
      "text/html": [
       "<div>\n",
       "<style scoped>\n",
       "    .dataframe tbody tr th:only-of-type {\n",
       "        vertical-align: middle;\n",
       "    }\n",
       "\n",
       "    .dataframe tbody tr th {\n",
       "        vertical-align: top;\n",
       "    }\n",
       "\n",
       "    .dataframe thead th {\n",
       "        text-align: right;\n",
       "    }\n",
       "</style>\n",
       "<table border=\"1\" class=\"dataframe\">\n",
       "  <thead>\n",
       "    <tr style=\"text-align: right;\">\n",
       "      <th></th>\n",
       "      <th>Country</th>\n",
       "      <th>Year_2016</th>\n",
       "    </tr>\n",
       "  </thead>\n",
       "  <tbody>\n",
       "    <tr>\n",
       "      <td>11</td>\n",
       "      <td>Australia</td>\n",
       "      <td>2.412716e+07</td>\n",
       "    </tr>\n",
       "    <tr>\n",
       "      <td>38</td>\n",
       "      <td>China</td>\n",
       "      <td>1.378665e+09</td>\n",
       "    </tr>\n",
       "    <tr>\n",
       "      <td>79</td>\n",
       "      <td>United Kingdom</td>\n",
       "      <td>6.563724e+07</td>\n",
       "    </tr>\n",
       "    <tr>\n",
       "      <td>107</td>\n",
       "      <td>India</td>\n",
       "      <td>1.324171e+09</td>\n",
       "    </tr>\n",
       "    <tr>\n",
       "      <td>108</td>\n",
       "      <td>Ireland</td>\n",
       "      <td>4.773095e+06</td>\n",
       "    </tr>\n",
       "    <tr>\n",
       "      <td>113</td>\n",
       "      <td>Italy</td>\n",
       "      <td>6.060059e+07</td>\n",
       "    </tr>\n",
       "    <tr>\n",
       "      <td>248</td>\n",
       "      <td>United States</td>\n",
       "      <td>3.231275e+08</td>\n",
       "    </tr>\n",
       "  </tbody>\n",
       "</table>\n",
       "</div>"
      ],
      "text/plain": [
       "            Country     Year_2016\n",
       "11        Australia  2.412716e+07\n",
       "38            China  1.378665e+09\n",
       "79   United Kingdom  6.563724e+07\n",
       "107           India  1.324171e+09\n",
       "108         Ireland  4.773095e+06\n",
       "113           Italy  6.060059e+07\n",
       "248   United States  3.231275e+08"
      ]
     },
     "execution_count": 23,
     "metadata": {},
     "output_type": "execute_result"
    }
   ],
   "source": [
    "#Create a new dataframe which contains only the country name and the latest population recorded\n",
    "country_population= population.copy()[['Country', 'Year_2016']]\n",
    "country_population['Country']=country_population.loc[:,'Country']\n",
    "# Extracted the data for countries in interest\n",
    "co = ['Australia','China','Italy','United States','United Kingdom','Ireland','India']\n",
    "country_population= country_population.loc[country_population['Country'].isin(co)]\n",
    "country_population"
   ]
  },
  {
   "cell_type": "markdown",
   "metadata": {},
   "source": [
    "* As the country name for US didnt match with the population extracr. I have used reaplce method to change the column name."
   ]
  },
  {
   "cell_type": "code",
   "execution_count": 24,
   "metadata": {},
   "outputs": [
    {
     "data": {
      "text/html": [
       "<div>\n",
       "<style scoped>\n",
       "    .dataframe tbody tr th:only-of-type {\n",
       "        vertical-align: middle;\n",
       "    }\n",
       "\n",
       "    .dataframe tbody tr th {\n",
       "        vertical-align: top;\n",
       "    }\n",
       "\n",
       "    .dataframe thead th {\n",
       "        text-align: right;\n",
       "    }\n",
       "</style>\n",
       "<table border=\"1\" class=\"dataframe\">\n",
       "  <thead>\n",
       "    <tr style=\"text-align: right;\">\n",
       "      <th></th>\n",
       "      <th>Country</th>\n",
       "      <th>Year_2016</th>\n",
       "    </tr>\n",
       "  </thead>\n",
       "  <tbody>\n",
       "    <tr>\n",
       "      <td>11</td>\n",
       "      <td>Australia</td>\n",
       "      <td>2.412716e+07</td>\n",
       "    </tr>\n",
       "    <tr>\n",
       "      <td>38</td>\n",
       "      <td>China</td>\n",
       "      <td>1.378665e+09</td>\n",
       "    </tr>\n",
       "    <tr>\n",
       "      <td>79</td>\n",
       "      <td>United Kingdom</td>\n",
       "      <td>6.563724e+07</td>\n",
       "    </tr>\n",
       "    <tr>\n",
       "      <td>107</td>\n",
       "      <td>India</td>\n",
       "      <td>1.324171e+09</td>\n",
       "    </tr>\n",
       "    <tr>\n",
       "      <td>108</td>\n",
       "      <td>Ireland</td>\n",
       "      <td>4.773095e+06</td>\n",
       "    </tr>\n",
       "    <tr>\n",
       "      <td>113</td>\n",
       "      <td>Italy</td>\n",
       "      <td>6.060059e+07</td>\n",
       "    </tr>\n",
       "    <tr>\n",
       "      <td>248</td>\n",
       "      <td>United States</td>\n",
       "      <td>3.231275e+08</td>\n",
       "    </tr>\n",
       "  </tbody>\n",
       "</table>\n",
       "</div>"
      ],
      "text/plain": [
       "            Country     Year_2016\n",
       "11        Australia  2.412716e+07\n",
       "38            China  1.378665e+09\n",
       "79   United Kingdom  6.563724e+07\n",
       "107           India  1.324171e+09\n",
       "108         Ireland  4.773095e+06\n",
       "113           Italy  6.060059e+07\n",
       "248   United States  3.231275e+08"
      ]
     },
     "execution_count": 24,
     "metadata": {},
     "output_type": "execute_result"
    }
   ],
   "source": [
    "# As US isn't matching with the grouped dataframe, replaced it using replace method\n",
    "# Used copy method to overcome SettingWithCopyWarning warning\n",
    "country_population[\"Country\"].copy().replace({\"United States\": \"US\"}, inplace=True)\n",
    "country_population"
   ]
  },
  {
   "cell_type": "code",
   "execution_count": 25,
   "metadata": {},
   "outputs": [
    {
     "data": {
      "text/html": [
       "<div>\n",
       "<style scoped>\n",
       "    .dataframe tbody tr th:only-of-type {\n",
       "        vertical-align: middle;\n",
       "    }\n",
       "\n",
       "    .dataframe tbody tr th {\n",
       "        vertical-align: top;\n",
       "    }\n",
       "\n",
       "    .dataframe thead th {\n",
       "        text-align: right;\n",
       "    }\n",
       "</style>\n",
       "<table border=\"1\" class=\"dataframe\">\n",
       "  <thead>\n",
       "    <tr style=\"text-align: right;\">\n",
       "      <th></th>\n",
       "      <th>1/22/20</th>\n",
       "      <th>1/23/20</th>\n",
       "      <th>1/24/20</th>\n",
       "      <th>1/25/20</th>\n",
       "      <th>1/26/20</th>\n",
       "      <th>1/27/20</th>\n",
       "      <th>1/28/20</th>\n",
       "      <th>1/29/20</th>\n",
       "      <th>1/30/20</th>\n",
       "      <th>1/31/20</th>\n",
       "      <th>...</th>\n",
       "      <th>5/13/20</th>\n",
       "      <th>5/14/20</th>\n",
       "      <th>5/15/20</th>\n",
       "      <th>5/16/20</th>\n",
       "      <th>5/17/20</th>\n",
       "      <th>5/18/20</th>\n",
       "      <th>5/19/20</th>\n",
       "      <th>5/20/20</th>\n",
       "      <th>5/21/20</th>\n",
       "      <th>5/22/20</th>\n",
       "    </tr>\n",
       "    <tr>\n",
       "      <th>Country/Region</th>\n",
       "      <th></th>\n",
       "      <th></th>\n",
       "      <th></th>\n",
       "      <th></th>\n",
       "      <th></th>\n",
       "      <th></th>\n",
       "      <th></th>\n",
       "      <th></th>\n",
       "      <th></th>\n",
       "      <th></th>\n",
       "      <th></th>\n",
       "      <th></th>\n",
       "      <th></th>\n",
       "      <th></th>\n",
       "      <th></th>\n",
       "      <th></th>\n",
       "      <th></th>\n",
       "      <th></th>\n",
       "      <th></th>\n",
       "      <th></th>\n",
       "      <th></th>\n",
       "    </tr>\n",
       "  </thead>\n",
       "  <tbody>\n",
       "    <tr>\n",
       "      <td>Australia</td>\n",
       "      <td>NaN</td>\n",
       "      <td>NaN</td>\n",
       "      <td>NaN</td>\n",
       "      <td>NaN</td>\n",
       "      <td>NaN</td>\n",
       "      <td>NaN</td>\n",
       "      <td>NaN</td>\n",
       "      <td>NaN</td>\n",
       "      <td>NaN</td>\n",
       "      <td>NaN</td>\n",
       "      <td>...</td>\n",
       "      <td>6989</td>\n",
       "      <td>7019</td>\n",
       "      <td>7035</td>\n",
       "      <td>7044</td>\n",
       "      <td>7054</td>\n",
       "      <td>7068</td>\n",
       "      <td>7072</td>\n",
       "      <td>7081</td>\n",
       "      <td>7095</td>\n",
       "      <td>7099</td>\n",
       "    </tr>\n",
       "    <tr>\n",
       "      <td>China</td>\n",
       "      <td>548</td>\n",
       "      <td>643</td>\n",
       "      <td>920</td>\n",
       "      <td>1406</td>\n",
       "      <td>2075</td>\n",
       "      <td>2877</td>\n",
       "      <td>5509</td>\n",
       "      <td>6087</td>\n",
       "      <td>8141</td>\n",
       "      <td>9802</td>\n",
       "      <td>...</td>\n",
       "      <td>84024</td>\n",
       "      <td>84029</td>\n",
       "      <td>84038</td>\n",
       "      <td>84044</td>\n",
       "      <td>84054</td>\n",
       "      <td>84063</td>\n",
       "      <td>84063</td>\n",
       "      <td>84063</td>\n",
       "      <td>84063</td>\n",
       "      <td>84081</td>\n",
       "    </tr>\n",
       "    <tr>\n",
       "      <td>Italy</td>\n",
       "      <td>NaN</td>\n",
       "      <td>NaN</td>\n",
       "      <td>NaN</td>\n",
       "      <td>NaN</td>\n",
       "      <td>NaN</td>\n",
       "      <td>NaN</td>\n",
       "      <td>NaN</td>\n",
       "      <td>NaN</td>\n",
       "      <td>NaN</td>\n",
       "      <td>NaN</td>\n",
       "      <td>...</td>\n",
       "      <td>222104</td>\n",
       "      <td>223096</td>\n",
       "      <td>223885</td>\n",
       "      <td>224760</td>\n",
       "      <td>225435</td>\n",
       "      <td>225886</td>\n",
       "      <td>226699</td>\n",
       "      <td>227364</td>\n",
       "      <td>228006</td>\n",
       "      <td>228658</td>\n",
       "    </tr>\n",
       "    <tr>\n",
       "      <td>US</td>\n",
       "      <td>NaN</td>\n",
       "      <td>NaN</td>\n",
       "      <td>NaN</td>\n",
       "      <td>NaN</td>\n",
       "      <td>NaN</td>\n",
       "      <td>NaN</td>\n",
       "      <td>NaN</td>\n",
       "      <td>NaN</td>\n",
       "      <td>NaN</td>\n",
       "      <td>NaN</td>\n",
       "      <td>...</td>\n",
       "      <td>1390406</td>\n",
       "      <td>1417774</td>\n",
       "      <td>1442824</td>\n",
       "      <td>1467820</td>\n",
       "      <td>1486757</td>\n",
       "      <td>1508308</td>\n",
       "      <td>1528568</td>\n",
       "      <td>1551853</td>\n",
       "      <td>1577147</td>\n",
       "      <td>1600937</td>\n",
       "    </tr>\n",
       "    <tr>\n",
       "      <td>United Kingdom</td>\n",
       "      <td>NaN</td>\n",
       "      <td>NaN</td>\n",
       "      <td>NaN</td>\n",
       "      <td>NaN</td>\n",
       "      <td>NaN</td>\n",
       "      <td>NaN</td>\n",
       "      <td>NaN</td>\n",
       "      <td>NaN</td>\n",
       "      <td>NaN</td>\n",
       "      <td>NaN</td>\n",
       "      <td>...</td>\n",
       "      <td>230985</td>\n",
       "      <td>234440</td>\n",
       "      <td>238004</td>\n",
       "      <td>241461</td>\n",
       "      <td>244995</td>\n",
       "      <td>247709</td>\n",
       "      <td>250138</td>\n",
       "      <td>249619</td>\n",
       "      <td>252246</td>\n",
       "      <td>255544</td>\n",
       "    </tr>\n",
       "    <tr>\n",
       "      <td>India</td>\n",
       "      <td>NaN</td>\n",
       "      <td>NaN</td>\n",
       "      <td>NaN</td>\n",
       "      <td>NaN</td>\n",
       "      <td>NaN</td>\n",
       "      <td>NaN</td>\n",
       "      <td>NaN</td>\n",
       "      <td>NaN</td>\n",
       "      <td>NaN</td>\n",
       "      <td>NaN</td>\n",
       "      <td>...</td>\n",
       "      <td>78055</td>\n",
       "      <td>81997</td>\n",
       "      <td>85784</td>\n",
       "      <td>90648</td>\n",
       "      <td>95698</td>\n",
       "      <td>100328</td>\n",
       "      <td>106475</td>\n",
       "      <td>112028</td>\n",
       "      <td>118226</td>\n",
       "      <td>124794</td>\n",
       "    </tr>\n",
       "  </tbody>\n",
       "</table>\n",
       "<p>6 rows × 122 columns</p>\n",
       "</div>"
      ],
      "text/plain": [
       "               1/22/20 1/23/20 1/24/20 1/25/20 1/26/20 1/27/20 1/28/20  \\\n",
       "Country/Region                                                           \n",
       "Australia          NaN     NaN     NaN     NaN     NaN     NaN     NaN   \n",
       "China              548     643     920    1406    2075    2877    5509   \n",
       "Italy              NaN     NaN     NaN     NaN     NaN     NaN     NaN   \n",
       "US                 NaN     NaN     NaN     NaN     NaN     NaN     NaN   \n",
       "United Kingdom     NaN     NaN     NaN     NaN     NaN     NaN     NaN   \n",
       "India              NaN     NaN     NaN     NaN     NaN     NaN     NaN   \n",
       "\n",
       "               1/29/20 1/30/20 1/31/20  ...  5/13/20  5/14/20  5/15/20  \\\n",
       "Country/Region                          ...                              \n",
       "Australia          NaN     NaN     NaN  ...     6989     7019     7035   \n",
       "China             6087    8141    9802  ...    84024    84029    84038   \n",
       "Italy              NaN     NaN     NaN  ...   222104   223096   223885   \n",
       "US                 NaN     NaN     NaN  ...  1390406  1417774  1442824   \n",
       "United Kingdom     NaN     NaN     NaN  ...   230985   234440   238004   \n",
       "India              NaN     NaN     NaN  ...    78055    81997    85784   \n",
       "\n",
       "                5/16/20  5/17/20  5/18/20  5/19/20  5/20/20  5/21/20  5/22/20  \n",
       "Country/Region                                                                 \n",
       "Australia          7044     7054     7068     7072     7081     7095     7099  \n",
       "China             84044    84054    84063    84063    84063    84063    84081  \n",
       "Italy            224760   225435   225886   226699   227364   228006   228658  \n",
       "US              1467820  1486757  1508308  1528568  1551853  1577147  1600937  \n",
       "United Kingdom   241461   244995   247709   250138   249619   252246   255544  \n",
       "India             90648    95698   100328   106475   112028   118226   124794  \n",
       "\n",
       "[6 rows x 122 columns]"
      ]
     },
     "execution_count": 25,
     "metadata": {},
     "output_type": "execute_result"
    }
   ],
   "source": [
    "mylist"
   ]
  },
  {
   "cell_type": "code",
   "execution_count": 26,
   "metadata": {},
   "outputs": [
    {
     "data": {
      "text/html": [
       "<div>\n",
       "<style scoped>\n",
       "    .dataframe tbody tr th:only-of-type {\n",
       "        vertical-align: middle;\n",
       "    }\n",
       "\n",
       "    .dataframe tbody tr th {\n",
       "        vertical-align: top;\n",
       "    }\n",
       "\n",
       "    .dataframe thead th {\n",
       "        text-align: right;\n",
       "    }\n",
       "</style>\n",
       "<table border=\"1\" class=\"dataframe\">\n",
       "  <thead>\n",
       "    <tr style=\"text-align: right;\">\n",
       "      <th></th>\n",
       "      <th>Country/Region</th>\n",
       "      <th>Cases</th>\n",
       "    </tr>\n",
       "  </thead>\n",
       "  <tbody>\n",
       "    <tr>\n",
       "      <td>0</td>\n",
       "      <td>Australia</td>\n",
       "      <td>7099</td>\n",
       "    </tr>\n",
       "    <tr>\n",
       "      <td>1</td>\n",
       "      <td>China</td>\n",
       "      <td>84081</td>\n",
       "    </tr>\n",
       "    <tr>\n",
       "      <td>2</td>\n",
       "      <td>Italy</td>\n",
       "      <td>228658</td>\n",
       "    </tr>\n",
       "    <tr>\n",
       "      <td>3</td>\n",
       "      <td>US</td>\n",
       "      <td>1600937</td>\n",
       "    </tr>\n",
       "    <tr>\n",
       "      <td>4</td>\n",
       "      <td>United Kingdom</td>\n",
       "      <td>255544</td>\n",
       "    </tr>\n",
       "    <tr>\n",
       "      <td>5</td>\n",
       "      <td>India</td>\n",
       "      <td>124794</td>\n",
       "    </tr>\n",
       "  </tbody>\n",
       "</table>\n",
       "</div>"
      ],
      "text/plain": [
       "   Country/Region    Cases\n",
       "0       Australia     7099\n",
       "1           China    84081\n",
       "2           Italy   228658\n",
       "3              US  1600937\n",
       "4  United Kingdom   255544\n",
       "5           India   124794"
      ]
     },
     "execution_count": 26,
     "metadata": {},
     "output_type": "execute_result"
    }
   ],
   "source": [
    "# Used iloc to get the last recorded data column and reset the index as column\n",
    "latest = mylist.iloc[:,-1]\n",
    "latest_df = latest.to_frame()\n",
    "latest_df.reset_index(level=0, inplace=True)\n",
    "\n",
    "latest_df['Country/Region']=latest_df['Country/Region']\n",
    "# Saved the latest column name value in a variable abc\n",
    "abc=latest_df.columns.values[len(latest_df.columns.values)-1]\n",
    "# Renamed the latest column name of our covid-19 dataset to Cases\n",
    "latest_df.rename(columns = {abc:'Cases'}, inplace = True) \n",
    "latest_df"
   ]
  },
  {
   "cell_type": "code",
   "execution_count": 27,
   "metadata": {},
   "outputs": [
    {
     "data": {
      "text/html": [
       "<div>\n",
       "<style scoped>\n",
       "    .dataframe tbody tr th:only-of-type {\n",
       "        vertical-align: middle;\n",
       "    }\n",
       "\n",
       "    .dataframe tbody tr th {\n",
       "        vertical-align: top;\n",
       "    }\n",
       "\n",
       "    .dataframe thead th {\n",
       "        text-align: right;\n",
       "    }\n",
       "</style>\n",
       "<table border=\"1\" class=\"dataframe\">\n",
       "  <thead>\n",
       "    <tr style=\"text-align: right;\">\n",
       "      <th></th>\n",
       "      <th>Country</th>\n",
       "      <th>Year_2016</th>\n",
       "      <th>Country/Region</th>\n",
       "      <th>Cases</th>\n",
       "    </tr>\n",
       "  </thead>\n",
       "  <tbody>\n",
       "    <tr>\n",
       "      <td>0</td>\n",
       "      <td>Australia</td>\n",
       "      <td>2.412716e+07</td>\n",
       "      <td>Australia</td>\n",
       "      <td>7099</td>\n",
       "    </tr>\n",
       "    <tr>\n",
       "      <td>1</td>\n",
       "      <td>China</td>\n",
       "      <td>1.378665e+09</td>\n",
       "      <td>China</td>\n",
       "      <td>84081</td>\n",
       "    </tr>\n",
       "    <tr>\n",
       "      <td>2</td>\n",
       "      <td>United Kingdom</td>\n",
       "      <td>6.563724e+07</td>\n",
       "      <td>United Kingdom</td>\n",
       "      <td>255544</td>\n",
       "    </tr>\n",
       "    <tr>\n",
       "      <td>3</td>\n",
       "      <td>India</td>\n",
       "      <td>1.324171e+09</td>\n",
       "      <td>India</td>\n",
       "      <td>124794</td>\n",
       "    </tr>\n",
       "    <tr>\n",
       "      <td>4</td>\n",
       "      <td>Italy</td>\n",
       "      <td>6.060059e+07</td>\n",
       "      <td>Italy</td>\n",
       "      <td>228658</td>\n",
       "    </tr>\n",
       "  </tbody>\n",
       "</table>\n",
       "</div>"
      ],
      "text/plain": [
       "          Country     Year_2016  Country/Region   Cases\n",
       "0       Australia  2.412716e+07       Australia    7099\n",
       "1           China  1.378665e+09           China   84081\n",
       "2  United Kingdom  6.563724e+07  United Kingdom  255544\n",
       "3           India  1.324171e+09           India  124794\n",
       "4           Italy  6.060059e+07           Italy  228658"
      ]
     },
     "execution_count": 27,
     "metadata": {},
     "output_type": "execute_result"
    }
   ],
   "source": [
    "# Merge the two dataframes\n",
    "dfinal = country_population.merge(latest_df, how='inner', left_on='Country', right_on='Country/Region')\n",
    "dfinal.head()"
   ]
  },
  {
   "cell_type": "code",
   "execution_count": null,
   "metadata": {},
   "outputs": [],
   "source": []
  },
  {
   "cell_type": "code",
   "execution_count": 28,
   "metadata": {},
   "outputs": [
    {
     "data": {
      "text/html": [
       "<div>\n",
       "<style scoped>\n",
       "    .dataframe tbody tr th:only-of-type {\n",
       "        vertical-align: middle;\n",
       "    }\n",
       "\n",
       "    .dataframe tbody tr th {\n",
       "        vertical-align: top;\n",
       "    }\n",
       "\n",
       "    .dataframe thead th {\n",
       "        text-align: right;\n",
       "    }\n",
       "</style>\n",
       "<table border=\"1\" class=\"dataframe\">\n",
       "  <thead>\n",
       "    <tr style=\"text-align: right;\">\n",
       "      <th></th>\n",
       "      <th>Country</th>\n",
       "      <th>Total Population</th>\n",
       "      <th>Cases</th>\n",
       "    </tr>\n",
       "  </thead>\n",
       "  <tbody>\n",
       "    <tr>\n",
       "      <td>0</td>\n",
       "      <td>Australia</td>\n",
       "      <td>2.412716e+07</td>\n",
       "      <td>7099</td>\n",
       "    </tr>\n",
       "    <tr>\n",
       "      <td>1</td>\n",
       "      <td>China</td>\n",
       "      <td>1.378665e+09</td>\n",
       "      <td>84081</td>\n",
       "    </tr>\n",
       "    <tr>\n",
       "      <td>2</td>\n",
       "      <td>United Kingdom</td>\n",
       "      <td>6.563724e+07</td>\n",
       "      <td>255544</td>\n",
       "    </tr>\n",
       "    <tr>\n",
       "      <td>3</td>\n",
       "      <td>India</td>\n",
       "      <td>1.324171e+09</td>\n",
       "      <td>124794</td>\n",
       "    </tr>\n",
       "    <tr>\n",
       "      <td>4</td>\n",
       "      <td>Italy</td>\n",
       "      <td>6.060059e+07</td>\n",
       "      <td>228658</td>\n",
       "    </tr>\n",
       "  </tbody>\n",
       "</table>\n",
       "</div>"
      ],
      "text/plain": [
       "          Country  Total Population   Cases\n",
       "0       Australia      2.412716e+07    7099\n",
       "1           China      1.378665e+09   84081\n",
       "2  United Kingdom      6.563724e+07  255544\n",
       "3           India      1.324171e+09  124794\n",
       "4           Italy      6.060059e+07  228658"
      ]
     },
     "execution_count": 28,
     "metadata": {},
     "output_type": "execute_result"
    }
   ],
   "source": [
    "# Dropping the extra column for Country name\n",
    "dfinal=dfinal.drop(['Country/Region'], axis=1)\n",
    "# Modify the dataframe accoridng to our requirement\n",
    "dfinal.rename(columns = {'Year_2016':'Total Population'}, inplace = True) \n",
    "dfinal"
   ]
  },
  {
   "cell_type": "code",
   "execution_count": 29,
   "metadata": {},
   "outputs": [
    {
     "data": {
      "text/html": [
       "<div>\n",
       "<style scoped>\n",
       "    .dataframe tbody tr th:only-of-type {\n",
       "        vertical-align: middle;\n",
       "    }\n",
       "\n",
       "    .dataframe tbody tr th {\n",
       "        vertical-align: top;\n",
       "    }\n",
       "\n",
       "    .dataframe thead th {\n",
       "        text-align: right;\n",
       "    }\n",
       "</style>\n",
       "<table border=\"1\" class=\"dataframe\">\n",
       "  <thead>\n",
       "    <tr style=\"text-align: right;\">\n",
       "      <th></th>\n",
       "      <th>Country</th>\n",
       "      <th>Total Population</th>\n",
       "      <th>Cases</th>\n",
       "      <th>per million cases</th>\n",
       "    </tr>\n",
       "  </thead>\n",
       "  <tbody>\n",
       "    <tr>\n",
       "      <td>0</td>\n",
       "      <td>Australia</td>\n",
       "      <td>2.412716e+07</td>\n",
       "      <td>7099</td>\n",
       "      <td>29.4233</td>\n",
       "    </tr>\n",
       "    <tr>\n",
       "      <td>1</td>\n",
       "      <td>China</td>\n",
       "      <td>1.378665e+09</td>\n",
       "      <td>84081</td>\n",
       "      <td>6.09873</td>\n",
       "    </tr>\n",
       "    <tr>\n",
       "      <td>2</td>\n",
       "      <td>United Kingdom</td>\n",
       "      <td>6.563724e+07</td>\n",
       "      <td>255544</td>\n",
       "      <td>389.328</td>\n",
       "    </tr>\n",
       "    <tr>\n",
       "      <td>3</td>\n",
       "      <td>India</td>\n",
       "      <td>1.324171e+09</td>\n",
       "      <td>124794</td>\n",
       "      <td>9.42431</td>\n",
       "    </tr>\n",
       "    <tr>\n",
       "      <td>4</td>\n",
       "      <td>Italy</td>\n",
       "      <td>6.060059e+07</td>\n",
       "      <td>228658</td>\n",
       "      <td>377.32</td>\n",
       "    </tr>\n",
       "  </tbody>\n",
       "</table>\n",
       "</div>"
      ],
      "text/plain": [
       "          Country  Total Population   Cases per million cases\n",
       "0       Australia      2.412716e+07    7099           29.4233\n",
       "1           China      1.378665e+09   84081           6.09873\n",
       "2  United Kingdom      6.563724e+07  255544           389.328\n",
       "3           India      1.324171e+09  124794           9.42431\n",
       "4           Italy      6.060059e+07  228658            377.32"
      ]
     },
     "execution_count": 29,
     "metadata": {},
     "output_type": "execute_result"
    }
   ],
   "source": [
    "# Calculate the number of cases per million of the population and add a column for it in dfinal dataframe\n",
    "dfinal[\"per million cases\"] = ((dfinal[\"Cases\"]/dfinal[\"Total Population\"])*100000)\n",
    "dfinal"
   ]
  },
  {
   "cell_type": "code",
   "execution_count": 30,
   "metadata": {},
   "outputs": [
    {
     "data": {
      "image/png": "[encoded data removed]",
      "text/plain": [
       "<Figure size 576x432 with 1 Axes>"
      ]
     },
     "metadata": {},
     "output_type": "display_data"
    }
   ],
   "source": [
    "rcParams['figure.figsize'] = 8, 6\n",
    "ax = dfinal.plot.bar(x='Country', y='per million cases', rot=45)"
   ]
  },
  {
   "cell_type": "markdown",
   "metadata": {},
   "source": [
    "### Obseravtions\n",
    "* Calculated the number of cases per million and plotted them.\n",
    "* It is clear from the graph that US has highest number of cases per million followed by UK and Italy"
   ]
  },
  {
   "cell_type": "markdown",
   "metadata": {},
   "source": [
    "### Building the Predictive Models"
   ]
  },
  {
   "cell_type": "markdown",
   "metadata": {},
   "source": [
    "##### Considering US"
   ]
  },
  {
   "cell_type": "code",
   "execution_count": 31,
   "metadata": {},
   "outputs": [],
   "source": [
    "from sklearn import datasets\n",
    "from sklearn.linear_model import LinearRegression\n",
    "from sklearn.metrics import mean_squared_error, r2_score"
   ]
  },
  {
   "cell_type": "code",
   "execution_count": 32,
   "metadata": {},
   "outputs": [],
   "source": [
    "# Get data for selected countries and take transpose of the result\n",
    "model_countries = grouped.loc[['Australia','China','Italy','US','United Kingdom','India']].T"
   ]
  },
  {
   "cell_type": "code",
   "execution_count": 33,
   "metadata": {},
   "outputs": [],
   "source": [
    "# Converting the datatype of our index values to timestamp\n",
    "model_countries.index=pd.to_datetime(model_countries.index)"
   ]
  },
  {
   "cell_type": "code",
   "execution_count": 34,
   "metadata": {},
   "outputs": [],
   "source": [
    "# Converting the date timestamp to logarithmic values for using in linear regression\n",
    "y = np.reshape(np.log(model_countries[\"US\"].values), (-1, 1))\n",
    "X = np.reshape([np.log(i.timestamp()) for i in model_countries.index], (-1, 1))"
   ]
  },
  {
   "cell_type": "markdown",
   "metadata": {},
   "source": [
    "* We divide the data into attributes and labels. Attributes are the independent variable and labels are dependent varibales/ variable to be predicted. Since we are predicting the data for US it is our label i.e. y and the entire dataset is attribute. Also as 2-D data is expected by sklearn we reshape the data."
   ]
  },
  {
   "cell_type": "code",
   "execution_count": 35,
   "metadata": {},
   "outputs": [
    {
     "data": {
      "image/png": "[encoded data removed]",
      "text/plain": [
       "<Figure size 576x432 with 1 Axes>"
      ]
     },
     "metadata": {},
     "output_type": "display_data"
    }
   ],
   "source": [
    "plt.figure(figsize=(8,6))\n",
    "_ = plt.plot(X,y)"
   ]
  },
  {
   "cell_type": "markdown",
   "metadata": {},
   "source": [
    "    - It is evident from the graph that there is some what linear relationship between X and y\n",
    "    - Steps for building a linear regression model.\n",
    "     1. Split the data into test and train by using the test_size as 25%\n",
    "     2. Fit the model i.e. to train our model by passing fit() method to our traning dataset\n",
    "     3. Predict the test data. This will show how accurately the model predicts"
   ]
  },
  {
   "cell_type": "code",
   "execution_count": 36,
   "metadata": {},
   "outputs": [],
   "source": [
    "X_train, X_test, y_train, y_test = train_test_split(X, y, test_size=0.25, random_state=0)"
   ]
  },
  {
   "cell_type": "code",
   "execution_count": 37,
   "metadata": {},
   "outputs": [
    {
     "name": "stdout",
     "output_type": "stream",
     "text": [
      "MSE: 1.8355795812888716\n",
      "R^2: 0.9320592168912074\n"
     ]
    },
    {
     "data": {
      "image/png": "[encoded data removed]",
      "text/plain": [
       "<Figure size 864x432 with 1 Axes>"
      ]
     },
     "metadata": {},
     "output_type": "display_data"
    }
   ],
   "source": [
    "lr = LinearRegression()\n",
    "lr.fit(X_train, y_train)\n",
    "\n",
    "pred = lr.predict(X_test)\n",
    "\n",
    "print(\"MSE:\", mean_squared_error(y_test, pred))\n",
    "print(\"R^2:\", r2_score(y_test, pred))\n",
    "\n",
    "plt.figure(figsize=(12,6))\n",
    "_ = plt.scatter(X_test, y_test,  color='black')\n",
    "_ = plt.plot(X_test, pred, color='red', linewidth=2)"
   ]
  },
  {
   "cell_type": "markdown",
   "metadata": {},
   "source": [
    "There appears to be a clear linear relationship from the graph plot. The value for R^2 is very close to 1 i.e. 0.94, our model can predict 94% varition in the response variable which is a good indicator. Mean square error is the average of the square of the error and should be ideally low. A large value is not considered for the model. As we get a value of 1.5 for MSE and 0.94 for R^2 we can consider our model as a good fit."
   ]
  },
  {
   "cell_type": "markdown",
   "metadata": {},
   "source": [
    "##### Considering China"
   ]
  },
  {
   "cell_type": "code",
   "execution_count": 38,
   "metadata": {
    "scrolled": false
   },
   "outputs": [
    {
     "name": "stdout",
     "output_type": "stream",
     "text": [
      "MSE: 23.620529529979642\n",
      "R^2: 0.4317913947950134\n"
     ]
    },
    {
     "data": {
      "image/png": "[encoded data removed]",
      "text/plain": [
       "<Figure size 864x432 with 1 Axes>"
      ]
     },
     "metadata": {},
     "output_type": "display_data"
    }
   ],
   "source": [
    "y1 = np.reshape(np.log(model_countries[\"China\"].values), (-1, 1))\n",
    "X1 = np.reshape([np.log(i.timestamp()) for i in model_countries.index], (-1, 1))\n",
    "\n",
    "X1_train, X1_test, y1_train, y1_test = train_test_split(X1, y1, test_size=0.25, random_state=0)\n",
    "\n",
    "\n",
    "lr1 = LinearRegression()\n",
    "lr1.fit(X1_train, y1_train)\n",
    "\n",
    "pred1 = lr1.predict(X1_test)\n",
    "\n",
    "print(\"MSE:\", mean_squared_error(y1_test, pred))\n",
    "print(\"R^2:\", r2_score(y1_test, pred1))\n",
    "\n",
    "plt.figure(figsize=(12,6))\n",
    "_ = plt.scatter(X1_test, y1_test,  color='black')\n",
    "_ = plt.plot(X1_test, pred1, color='red', linewidth=2)"
   ]
  },
  {
   "cell_type": "markdown",
   "metadata": {},
   "source": [
    "When we compare this model with the above model1(Considering US) the MSE and R^2 values are lower and thus the model is not as good as model1."
   ]
  },
  {
   "cell_type": "markdown",
   "metadata": {},
   "source": [
    "#### Variation in number of cases in China and US "
   ]
  },
  {
   "cell_type": "code",
   "execution_count": 39,
   "metadata": {},
   "outputs": [
    {
     "data": {
      "text/plain": [
       "Text(0.5, 1, 'China')"
      ]
     },
     "execution_count": 39,
     "metadata": {},
     "output_type": "execute_result"
    },
    {
     "data": {
      "image/png": "[encoded data removed]",
      "text/plain": [
       "<Figure size 720x288 with 2 Axes>"
      ]
     },
     "metadata": {},
     "output_type": "display_data"
    }
   ],
   "source": [
    "rcParams['figure.figsize'] = 10, 4\n",
    "fig, ax = plt.subplots(1, 2)\n",
    "\n",
    "_=ax[0].plot(model_countries.index, model_countries['US'])\n",
    "_=ax[1].plot(model_countries.index, model_countries['China'])\n",
    "fig.tight_layout()\n",
    "\n",
    "ax[0].tick_params(axis='x', rotation=45)\n",
    "ax[1].tick_params(axis='x', rotation=45)\n",
    "\n",
    "ax[0].set_title('US')\n",
    "ax[1].set_title('China')"
   ]
  },
  {
   "cell_type": "markdown",
   "metadata": {},
   "source": [
    "#### Model for \"number of days since the 100th case\"  v/s \"Commulative number of known cases since the 100th case\""
   ]
  },
  {
   "cell_type": "code",
   "execution_count": 40,
   "metadata": {},
   "outputs": [],
   "source": [
    "model_countries1 = model_countries.copy()"
   ]
  },
  {
   "cell_type": "code",
   "execution_count": 41,
   "metadata": {},
   "outputs": [
    {
     "data": {
      "text/plain": [
       "DatetimeIndex(['2020-01-22', '2020-01-23', '2020-01-24', '2020-01-25',\n",
       "               '2020-01-26', '2020-01-27', '2020-01-28', '2020-01-29',\n",
       "               '2020-01-30', '2020-01-31',\n",
       "               ...\n",
       "               '2020-05-13', '2020-05-14', '2020-05-15', '2020-05-16',\n",
       "               '2020-05-17', '2020-05-18', '2020-05-19', '2020-05-20',\n",
       "               '2020-05-21', '2020-05-22'],\n",
       "              dtype='datetime64[ns]', length=122, freq=None)"
      ]
     },
     "execution_count": 41,
     "metadata": {},
     "output_type": "execute_result"
    }
   ],
   "source": [
    "model_countries1.index"
   ]
  },
  {
   "cell_type": "code",
   "execution_count": 42,
   "metadata": {},
   "outputs": [
    {
     "data": {
      "text/plain": [
       "122"
      ]
     },
     "execution_count": 42,
     "metadata": {},
     "output_type": "execute_result"
    }
   ],
   "source": [
    "len(model_countries1.index)"
   ]
  },
  {
   "cell_type": "code",
   "execution_count": 43,
   "metadata": {},
   "outputs": [],
   "source": [
    "i= []\n",
    "for j in range(1,(len(model_countries1.index)+1)):\n",
    "    i.append(j)"
   ]
  },
  {
   "cell_type": "code",
   "execution_count": 44,
   "metadata": {},
   "outputs": [],
   "source": [
    "days = pd.Series(i) "
   ]
  },
  {
   "cell_type": "code",
   "execution_count": 45,
   "metadata": {},
   "outputs": [
    {
     "data": {
      "text/html": [
       "<div>\n",
       "<style scoped>\n",
       "    .dataframe tbody tr th:only-of-type {\n",
       "        vertical-align: middle;\n",
       "    }\n",
       "\n",
       "    .dataframe tbody tr th {\n",
       "        vertical-align: top;\n",
       "    }\n",
       "\n",
       "    .dataframe thead th {\n",
       "        text-align: right;\n",
       "    }\n",
       "</style>\n",
       "<table border=\"1\" class=\"dataframe\">\n",
       "  <thead>\n",
       "    <tr style=\"text-align: right;\">\n",
       "      <th>Country/Region</th>\n",
       "      <th>Australia</th>\n",
       "      <th>China</th>\n",
       "      <th>Italy</th>\n",
       "      <th>US</th>\n",
       "      <th>United Kingdom</th>\n",
       "      <th>India</th>\n",
       "    </tr>\n",
       "  </thead>\n",
       "  <tbody>\n",
       "    <tr>\n",
       "      <td>2020-01-22</td>\n",
       "      <td>0</td>\n",
       "      <td>548</td>\n",
       "      <td>0</td>\n",
       "      <td>1</td>\n",
       "      <td>0</td>\n",
       "      <td>0</td>\n",
       "    </tr>\n",
       "    <tr>\n",
       "      <td>2020-01-23</td>\n",
       "      <td>0</td>\n",
       "      <td>643</td>\n",
       "      <td>0</td>\n",
       "      <td>1</td>\n",
       "      <td>0</td>\n",
       "      <td>0</td>\n",
       "    </tr>\n",
       "    <tr>\n",
       "      <td>2020-01-24</td>\n",
       "      <td>0</td>\n",
       "      <td>920</td>\n",
       "      <td>0</td>\n",
       "      <td>2</td>\n",
       "      <td>0</td>\n",
       "      <td>0</td>\n",
       "    </tr>\n",
       "    <tr>\n",
       "      <td>2020-01-25</td>\n",
       "      <td>0</td>\n",
       "      <td>1406</td>\n",
       "      <td>0</td>\n",
       "      <td>2</td>\n",
       "      <td>0</td>\n",
       "      <td>0</td>\n",
       "    </tr>\n",
       "    <tr>\n",
       "      <td>2020-01-26</td>\n",
       "      <td>4</td>\n",
       "      <td>2075</td>\n",
       "      <td>0</td>\n",
       "      <td>5</td>\n",
       "      <td>0</td>\n",
       "      <td>0</td>\n",
       "    </tr>\n",
       "    <tr>\n",
       "      <td>...</td>\n",
       "      <td>...</td>\n",
       "      <td>...</td>\n",
       "      <td>...</td>\n",
       "      <td>...</td>\n",
       "      <td>...</td>\n",
       "      <td>...</td>\n",
       "    </tr>\n",
       "    <tr>\n",
       "      <td>2020-05-18</td>\n",
       "      <td>7068</td>\n",
       "      <td>84063</td>\n",
       "      <td>225886</td>\n",
       "      <td>1508308</td>\n",
       "      <td>247709</td>\n",
       "      <td>100328</td>\n",
       "    </tr>\n",
       "    <tr>\n",
       "      <td>2020-05-19</td>\n",
       "      <td>7072</td>\n",
       "      <td>84063</td>\n",
       "      <td>226699</td>\n",
       "      <td>1528568</td>\n",
       "      <td>250138</td>\n",
       "      <td>106475</td>\n",
       "    </tr>\n",
       "    <tr>\n",
       "      <td>2020-05-20</td>\n",
       "      <td>7081</td>\n",
       "      <td>84063</td>\n",
       "      <td>227364</td>\n",
       "      <td>1551853</td>\n",
       "      <td>249619</td>\n",
       "      <td>112028</td>\n",
       "    </tr>\n",
       "    <tr>\n",
       "      <td>2020-05-21</td>\n",
       "      <td>7095</td>\n",
       "      <td>84063</td>\n",
       "      <td>228006</td>\n",
       "      <td>1577147</td>\n",
       "      <td>252246</td>\n",
       "      <td>118226</td>\n",
       "    </tr>\n",
       "    <tr>\n",
       "      <td>2020-05-22</td>\n",
       "      <td>7099</td>\n",
       "      <td>84081</td>\n",
       "      <td>228658</td>\n",
       "      <td>1600937</td>\n",
       "      <td>255544</td>\n",
       "      <td>124794</td>\n",
       "    </tr>\n",
       "  </tbody>\n",
       "</table>\n",
       "<p>122 rows × 6 columns</p>\n",
       "</div>"
      ],
      "text/plain": [
       "Country/Region  Australia  China   Italy       US  United Kingdom   India\n",
       "2020-01-22              0    548       0        1               0       0\n",
       "2020-01-23              0    643       0        1               0       0\n",
       "2020-01-24              0    920       0        2               0       0\n",
       "2020-01-25              0   1406       0        2               0       0\n",
       "2020-01-26              4   2075       0        5               0       0\n",
       "...                   ...    ...     ...      ...             ...     ...\n",
       "2020-05-18           7068  84063  225886  1508308          247709  100328\n",
       "2020-05-19           7072  84063  226699  1528568          250138  106475\n",
       "2020-05-20           7081  84063  227364  1551853          249619  112028\n",
       "2020-05-21           7095  84063  228006  1577147          252246  118226\n",
       "2020-05-22           7099  84081  228658  1600937          255544  124794\n",
       "\n",
       "[122 rows x 6 columns]"
      ]
     },
     "execution_count": 45,
     "metadata": {},
     "output_type": "execute_result"
    }
   ],
   "source": [
    "model_countries1"
   ]
  },
  {
   "cell_type": "code",
   "execution_count": 46,
   "metadata": {},
   "outputs": [],
   "source": [
    "model_countries1=model_countries1.set_index(days)"
   ]
  },
  {
   "cell_type": "code",
   "execution_count": 47,
   "metadata": {},
   "outputs": [
    {
     "data": {
      "text/plain": [
       "Int64Index([  1,   2,   3,   4,   5,   6,   7,   8,   9,  10,\n",
       "            ...\n",
       "            113, 114, 115, 116, 117, 118, 119, 120, 121, 122],\n",
       "           dtype='int64', length=122)"
      ]
     },
     "execution_count": 47,
     "metadata": {},
     "output_type": "execute_result"
    }
   ],
   "source": [
    "model_countries1.index"
   ]
  },
  {
   "cell_type": "code",
   "execution_count": 48,
   "metadata": {},
   "outputs": [],
   "source": [
    "model_countries1.index.names=['Number of Days']"
   ]
  },
  {
   "cell_type": "code",
   "execution_count": 49,
   "metadata": {},
   "outputs": [
    {
     "data": {
      "text/plain": [
       "Index(['Australia', 'China', 'Italy', 'US', 'United Kingdom', 'India'], dtype='object', name='Country/Region')"
      ]
     },
     "execution_count": 49,
     "metadata": {},
     "output_type": "execute_result"
    }
   ],
   "source": [
    "model_countries1.columns"
   ]
  },
  {
   "cell_type": "code",
   "execution_count": 50,
   "metadata": {},
   "outputs": [
    {
     "data": {
      "image/png": "[encoded data removed]",
      "text/plain": [
       "<Figure size 720x288 with 1 Axes>"
      ]
     },
     "metadata": {},
     "output_type": "display_data"
    },
    {
     "data": {
      "image/png": "[encoded data removed]",
      "text/plain": [
       "<Figure size 720x504 with 1 Axes>"
      ]
     },
     "metadata": {},
     "output_type": "display_data"
    }
   ],
   "source": [
    "figure, ax = plt.subplots()\n",
    "\n",
    "ax.plot(model_countries1)\n",
    "plt.rcParams['figure.figsize'] = (10,7)\n",
    "plt.yscale(\"log\", nonposy='mask')\n",
    "#ax.legends()\n",
    "_ = model_countries1.plot()"
   ]
  }
 ],
 "metadata": {
  "kernelspec": {
   "display_name": "Python 3",
   "language": "python",
   "name": "python3"
  },
  "language_info": {
   "codemirror_mode": {
    "name": "ipython",
    "version": 3
   },
   "file_extension": ".py",
   "mimetype": "text/x-python",
   "name": "python",
   "nbconvert_exporter": "python",
   "pygments_lexer": "ipython3",
   "version": "3.7.4"
  }
 },
 "nbformat": 4,
 "nbformat_minor": 2
}
