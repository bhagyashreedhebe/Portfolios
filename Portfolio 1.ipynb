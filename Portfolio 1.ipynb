{
 "cells": [
  {
   "cell_type": "code",
   "execution_count": 1,
   "metadata": {},
   "outputs": [],
   "source": [
    "import pandas as pd\n",
    "from matplotlib import pyplot as plt\n",
    "from datetime import timedelta\n",
    "plt.style.use('seaborn')\n",
    "%matplotlib inline"
   ]
  },
  {
   "cell_type": "markdown",
   "metadata": {},
   "source": [
    "# Analysis of Cycling Data\n",
    "\n",
    "## Loading Data\n",
    "\n",
    "The first dataset is an export of my ride data from [Strava](https://strava.com/), an online social \n",
    "network site for cycling and other sports.  This data is a log of every ride since the start of 2018\n",
    "and contains summary data like the distance and average speed.  It was exported using \n",
    "the script `scripts/stravaget.py` which uses the stravalib module to read data. Some details of\n",
    "the fields exported by that script can be seen in [the documentation for stravalib](https://pythonhosted.org/stravalib/api.html#stravalib.model.Activity). \n",
    "\n",
    "The exported data is a CSV file so that's easy to read, however the date information in the file is \n",
    "recorded in a different timezone (UTC) so we need to do a bit of conversion.  In reading the data I'm\n",
    "setting the index of the data frame to be the datetime of the ride. "
   ]
  },
  {
   "cell_type": "code",
   "execution_count": 2,
   "metadata": {},
   "outputs": [
    {
     "data": {
      "text/html": [
       "<div>\n",
       "<style scoped>\n",
       "    .dataframe tbody tr th:only-of-type {\n",
       "        vertical-align: middle;\n",
       "    }\n",
       "\n",
       "    .dataframe tbody tr th {\n",
       "        vertical-align: top;\n",
       "    }\n",
       "\n",
       "    .dataframe thead th {\n",
       "        text-align: right;\n",
       "    }\n",
       "</style>\n",
       "<table border=\"1\" class=\"dataframe\">\n",
       "  <thead>\n",
       "    <tr style=\"text-align: right;\">\n",
       "      <th></th>\n",
       "      <th>average_heartrate</th>\n",
       "      <th>average_temp</th>\n",
       "      <th>average_watts</th>\n",
       "      <th>device_watts</th>\n",
       "      <th>distance</th>\n",
       "      <th>elapsed_time</th>\n",
       "      <th>elevation_gain</th>\n",
       "      <th>kudos</th>\n",
       "      <th>moving_time</th>\n",
       "      <th>workout_type</th>\n",
       "    </tr>\n",
       "    <tr>\n",
       "      <th>date</th>\n",
       "      <th></th>\n",
       "      <th></th>\n",
       "      <th></th>\n",
       "      <th></th>\n",
       "      <th></th>\n",
       "      <th></th>\n",
       "      <th></th>\n",
       "      <th></th>\n",
       "      <th></th>\n",
       "      <th></th>\n",
       "    </tr>\n",
       "  </thead>\n",
       "  <tbody>\n",
       "    <tr>\n",
       "      <td>2018-01-02 20:47:51+00:00</td>\n",
       "      <td>100.6</td>\n",
       "      <td>21.0</td>\n",
       "      <td>73.8</td>\n",
       "      <td>False</td>\n",
       "      <td>15.2</td>\n",
       "      <td>94</td>\n",
       "      <td>316.00 m</td>\n",
       "      <td>10</td>\n",
       "      <td>73</td>\n",
       "      <td>Ride</td>\n",
       "    </tr>\n",
       "    <tr>\n",
       "      <td>2018-01-04 01:36:53+00:00</td>\n",
       "      <td>NaN</td>\n",
       "      <td>24.0</td>\n",
       "      <td>131.7</td>\n",
       "      <td>False</td>\n",
       "      <td>18.0</td>\n",
       "      <td>52</td>\n",
       "      <td>236.00 m</td>\n",
       "      <td>5</td>\n",
       "      <td>46</td>\n",
       "      <td>Ride</td>\n",
       "    </tr>\n",
       "    <tr>\n",
       "      <td>2018-01-04 02:56:00+00:00</td>\n",
       "      <td>83.1</td>\n",
       "      <td>25.0</td>\n",
       "      <td>13.8</td>\n",
       "      <td>False</td>\n",
       "      <td>0.0</td>\n",
       "      <td>3</td>\n",
       "      <td>0.00 m</td>\n",
       "      <td>2</td>\n",
       "      <td>2</td>\n",
       "      <td>Ride</td>\n",
       "    </tr>\n",
       "    <tr>\n",
       "      <td>2018-01-04 05:37:04+00:00</td>\n",
       "      <td>110.1</td>\n",
       "      <td>24.0</td>\n",
       "      <td>113.6</td>\n",
       "      <td>False</td>\n",
       "      <td>22.9</td>\n",
       "      <td>77</td>\n",
       "      <td>246.00 m</td>\n",
       "      <td>8</td>\n",
       "      <td>64</td>\n",
       "      <td>Ride</td>\n",
       "    </tr>\n",
       "    <tr>\n",
       "      <td>2018-01-05 19:22:46+00:00</td>\n",
       "      <td>110.9</td>\n",
       "      <td>20.0</td>\n",
       "      <td>147.7</td>\n",
       "      <td>True</td>\n",
       "      <td>58.4</td>\n",
       "      <td>189</td>\n",
       "      <td>676.00 m</td>\n",
       "      <td>12</td>\n",
       "      <td>144</td>\n",
       "      <td>Ride</td>\n",
       "    </tr>\n",
       "  </tbody>\n",
       "</table>\n",
       "</div>"
      ],
      "text/plain": [
       "                           average_heartrate  average_temp  average_watts  \\\n",
       "date                                                                        \n",
       "2018-01-02 20:47:51+00:00              100.6          21.0           73.8   \n",
       "2018-01-04 01:36:53+00:00                NaN          24.0          131.7   \n",
       "2018-01-04 02:56:00+00:00               83.1          25.0           13.8   \n",
       "2018-01-04 05:37:04+00:00              110.1          24.0          113.6   \n",
       "2018-01-05 19:22:46+00:00              110.9          20.0          147.7   \n",
       "\n",
       "                          device_watts  distance  elapsed_time elevation_gain  \\\n",
       "date                                                                            \n",
       "2018-01-02 20:47:51+00:00        False      15.2            94       316.00 m   \n",
       "2018-01-04 01:36:53+00:00        False      18.0            52       236.00 m   \n",
       "2018-01-04 02:56:00+00:00        False       0.0             3         0.00 m   \n",
       "2018-01-04 05:37:04+00:00        False      22.9            77       246.00 m   \n",
       "2018-01-05 19:22:46+00:00         True      58.4           189       676.00 m   \n",
       "\n",
       "                           kudos  moving_time workout_type  \n",
       "date                                                        \n",
       "2018-01-02 20:47:51+00:00     10           73         Ride  \n",
       "2018-01-04 01:36:53+00:00      5           46         Ride  \n",
       "2018-01-04 02:56:00+00:00      2            2         Ride  \n",
       "2018-01-04 05:37:04+00:00      8           64         Ride  \n",
       "2018-01-05 19:22:46+00:00     12          144         Ride  "
      ]
     },
     "execution_count": 2,
     "metadata": {},
     "output_type": "execute_result"
    }
   ],
   "source": [
    "strava = pd.read_csv('data/strava_export.csv', index_col='date', parse_dates=True)\n",
    "strava.head()"
   ]
  },
  {
   "cell_type": "code",
   "execution_count": 3,
   "metadata": {},
   "outputs": [
    {
     "data": {
      "text/plain": [
       "<matplotlib.axes._subplots.AxesSubplot at 0x278eee29988>"
      ]
     },
     "execution_count": 3,
     "metadata": {},
     "output_type": "execute_result"
    },
    {
     "data": {
      "image/png": "[encoded data removed]",
      "text/plain": [
       "<Figure size 432x288 with 1 Axes>"
      ]
     },
     "metadata": {
      "needs_background": "light"
     },
     "output_type": "display_data"
    }
   ],
   "source": [
    "strava['average_heartrate'].plot.box(vert=False)"
   ]
  },
  {
   "cell_type": "code",
   "execution_count": 4,
   "metadata": {},
   "outputs": [
    {
     "data": {
      "text/plain": [
       "<matplotlib.axes._subplots.AxesSubplot at 0x278ef08d888>"
      ]
     },
     "execution_count": 4,
     "metadata": {},
     "output_type": "execute_result"
    },
    {
     "data": {
      "image/png": "[encoded data removed]",
      "text/plain": [
       "<Figure size 432x288 with 1 Axes>"
      ]
     },
     "metadata": {
      "needs_background": "light"
     },
     "output_type": "display_data"
    }
   ],
   "source": [
    "strava['average_heartrate'].plot()"
   ]
  },
  {
   "cell_type": "code",
   "execution_count": 5,
   "metadata": {},
   "outputs": [
    {
     "data": {
      "text/plain": [
       "<matplotlib.axes._subplots.AxesSubplot at 0x278ef12bac8>"
      ]
     },
     "execution_count": 5,
     "metadata": {},
     "output_type": "execute_result"
    },
    {
     "data": {
      "image/png": "[encoded data removed]",
      "text/plain": [
       "<Figure size 432x288 with 1 Axes>"
      ]
     },
     "metadata": {
      "needs_background": "light"
     },
     "output_type": "display_data"
    }
   ],
   "source": [
    "strava['average_heartrate'].plot.hist()"
   ]
  },
  {
   "cell_type": "code",
   "execution_count": 6,
   "metadata": {},
   "outputs": [
    {
     "name": "stdout",
     "output_type": "stream",
     "text": [
      "<class 'pandas.core.frame.DataFrame'>\n",
      "DatetimeIndex: 268 entries, 2018-01-02 20:47:51+00:00 to 2019-07-27 23:55:13+00:00\n",
      "Data columns (total 10 columns):\n",
      "average_heartrate    232 non-null float64\n",
      "average_temp         204 non-null float64\n",
      "average_watts        254 non-null float64\n",
      "device_watts         260 non-null object\n",
      "distance             268 non-null float64\n",
      "elapsed_time         268 non-null int64\n",
      "elevation_gain       268 non-null object\n",
      "kudos                268 non-null int64\n",
      "moving_time          268 non-null int64\n",
      "workout_type         268 non-null object\n",
      "dtypes: float64(4), int64(3), object(3)\n",
      "memory usage: 23.0+ KB\n"
     ]
    }
   ],
   "source": [
    "strava.info()"
   ]
  },
  {
   "cell_type": "markdown",
   "metadata": {},
   "source": [
    "The second dataset comes from an application called [GoldenCheetah](https://www.goldencheetah.org/) which provides\n",
    "some analytics services over ride data.  This has some of the same fields but adds a lot of analysis of the \n",
    "power, speed and heart rate data in each ride.  This data overlaps with the Strava data but doesn't include all \n",
    "of the same rides. \n",
    "\n",
    "Again we create an index using the datetime for each ride, this time combining two columns in the data (date and time) \n",
    "and localising to Sydney so that the times match those for the Strava data. "
   ]
  },
  {
   "cell_type": "code",
   "execution_count": 7,
   "metadata": {
    "scrolled": true
   },
   "outputs": [
    {
     "data": {
      "text/html": [
       "<div>\n",
       "<style scoped>\n",
       "    .dataframe tbody tr th:only-of-type {\n",
       "        vertical-align: middle;\n",
       "    }\n",
       "\n",
       "    .dataframe tbody tr th {\n",
       "        vertical-align: top;\n",
       "    }\n",
       "\n",
       "    .dataframe thead th {\n",
       "        text-align: right;\n",
       "    }\n",
       "</style>\n",
       "<table border=\"1\" class=\"dataframe\">\n",
       "  <thead>\n",
       "    <tr style=\"text-align: right;\">\n",
       "      <th></th>\n",
       "      <th>date</th>\n",
       "      <th>time</th>\n",
       "      <th>filename</th>\n",
       "      <th>axPower</th>\n",
       "      <th>aPower Relative Intensity</th>\n",
       "      <th>aBikeScore</th>\n",
       "      <th>Skiba aVI</th>\n",
       "      <th>aPower Response Index</th>\n",
       "      <th>aIsoPower</th>\n",
       "      <th>aIF</th>\n",
       "      <th>...</th>\n",
       "      <th>Rest AVNN</th>\n",
       "      <th>Rest SDNN</th>\n",
       "      <th>Rest rMSSD</th>\n",
       "      <th>Rest PNN50</th>\n",
       "      <th>Rest LF</th>\n",
       "      <th>Rest HF</th>\n",
       "      <th>HRV Recovery Points</th>\n",
       "      <th>NP</th>\n",
       "      <th>IF</th>\n",
       "      <th>TSS</th>\n",
       "    </tr>\n",
       "  </thead>\n",
       "  <tbody>\n",
       "    <tr>\n",
       "      <td>2018-01-28 06:39:49+11:00</td>\n",
       "      <td>01/28/18</td>\n",
       "      <td>06:39:49</td>\n",
       "      <td>2018_01_28_06_39_49.json</td>\n",
       "      <td>202.211</td>\n",
       "      <td>0.75452</td>\n",
       "      <td>16.6520</td>\n",
       "      <td>1.31920</td>\n",
       "      <td>1.67755</td>\n",
       "      <td>223.621</td>\n",
       "      <td>0.83441</td>\n",
       "      <td>...</td>\n",
       "      <td>0</td>\n",
       "      <td>0</td>\n",
       "      <td>0</td>\n",
       "      <td>0</td>\n",
       "      <td>0</td>\n",
       "      <td>0</td>\n",
       "      <td>0</td>\n",
       "      <td>222.856</td>\n",
       "      <td>0.83155</td>\n",
       "      <td>20.2257</td>\n",
       "    </tr>\n",
       "    <tr>\n",
       "      <td>2018-01-28 07:01:32+11:00</td>\n",
       "      <td>01/28/18</td>\n",
       "      <td>07:01:32</td>\n",
       "      <td>2018_01_28_07_01_32.json</td>\n",
       "      <td>226.039</td>\n",
       "      <td>0.84343</td>\n",
       "      <td>80.2669</td>\n",
       "      <td>1.21137</td>\n",
       "      <td>1.54250</td>\n",
       "      <td>246.185</td>\n",
       "      <td>0.91860</td>\n",
       "      <td>...</td>\n",
       "      <td>0</td>\n",
       "      <td>0</td>\n",
       "      <td>0</td>\n",
       "      <td>0</td>\n",
       "      <td>0</td>\n",
       "      <td>0</td>\n",
       "      <td>0</td>\n",
       "      <td>245.365</td>\n",
       "      <td>0.91554</td>\n",
       "      <td>94.5787</td>\n",
       "    </tr>\n",
       "    <tr>\n",
       "      <td>2018-02-01 08:13:34+11:00</td>\n",
       "      <td>02/01/18</td>\n",
       "      <td>08:13:34</td>\n",
       "      <td>2018_02_01_08_13_34.json</td>\n",
       "      <td>0.000</td>\n",
       "      <td>0.00000</td>\n",
       "      <td>0.0000</td>\n",
       "      <td>0.00000</td>\n",
       "      <td>0.00000</td>\n",
       "      <td>0.000</td>\n",
       "      <td>0.00000</td>\n",
       "      <td>...</td>\n",
       "      <td>0</td>\n",
       "      <td>0</td>\n",
       "      <td>0</td>\n",
       "      <td>0</td>\n",
       "      <td>0</td>\n",
       "      <td>0</td>\n",
       "      <td>0</td>\n",
       "      <td>0.000</td>\n",
       "      <td>0.00000</td>\n",
       "      <td>0.0000</td>\n",
       "    </tr>\n",
       "    <tr>\n",
       "      <td>2018-02-06 08:06:42+11:00</td>\n",
       "      <td>02/06/18</td>\n",
       "      <td>08:06:42</td>\n",
       "      <td>2018_02_06_08_06_42.json</td>\n",
       "      <td>221.672</td>\n",
       "      <td>0.82714</td>\n",
       "      <td>78.8866</td>\n",
       "      <td>1.35775</td>\n",
       "      <td>1.86002</td>\n",
       "      <td>254.409</td>\n",
       "      <td>0.94929</td>\n",
       "      <td>...</td>\n",
       "      <td>0</td>\n",
       "      <td>0</td>\n",
       "      <td>0</td>\n",
       "      <td>0</td>\n",
       "      <td>0</td>\n",
       "      <td>0</td>\n",
       "      <td>0</td>\n",
       "      <td>253.702</td>\n",
       "      <td>0.94665</td>\n",
       "      <td>98.3269</td>\n",
       "    </tr>\n",
       "    <tr>\n",
       "      <td>2018-02-07 17:59:05+11:00</td>\n",
       "      <td>02/07/18</td>\n",
       "      <td>17:59:05</td>\n",
       "      <td>2018_02_07_17_59_05.json</td>\n",
       "      <td>218.211</td>\n",
       "      <td>0.81422</td>\n",
       "      <td>159.4590</td>\n",
       "      <td>1.47188</td>\n",
       "      <td>1.74658</td>\n",
       "      <td>233.780</td>\n",
       "      <td>0.87231</td>\n",
       "      <td>...</td>\n",
       "      <td>0</td>\n",
       "      <td>0</td>\n",
       "      <td>0</td>\n",
       "      <td>0</td>\n",
       "      <td>0</td>\n",
       "      <td>0</td>\n",
       "      <td>0</td>\n",
       "      <td>232.644</td>\n",
       "      <td>0.86808</td>\n",
       "      <td>171.0780</td>\n",
       "    </tr>\n",
       "  </tbody>\n",
       "</table>\n",
       "<p>5 rows × 362 columns</p>\n",
       "</div>"
      ],
      "text/plain": [
       "                               date      time                  filename  \\\n",
       "2018-01-28 06:39:49+11:00  01/28/18  06:39:49  2018_01_28_06_39_49.json   \n",
       "2018-01-28 07:01:32+11:00  01/28/18  07:01:32  2018_01_28_07_01_32.json   \n",
       "2018-02-01 08:13:34+11:00  02/01/18  08:13:34  2018_02_01_08_13_34.json   \n",
       "2018-02-06 08:06:42+11:00  02/06/18  08:06:42  2018_02_06_08_06_42.json   \n",
       "2018-02-07 17:59:05+11:00  02/07/18  17:59:05  2018_02_07_17_59_05.json   \n",
       "\n",
       "                           axPower  aPower Relative Intensity  aBikeScore  \\\n",
       "2018-01-28 06:39:49+11:00  202.211                    0.75452     16.6520   \n",
       "2018-01-28 07:01:32+11:00  226.039                    0.84343     80.2669   \n",
       "2018-02-01 08:13:34+11:00    0.000                    0.00000      0.0000   \n",
       "2018-02-06 08:06:42+11:00  221.672                    0.82714     78.8866   \n",
       "2018-02-07 17:59:05+11:00  218.211                    0.81422    159.4590   \n",
       "\n",
       "                           Skiba aVI  aPower Response Index  aIsoPower  \\\n",
       "2018-01-28 06:39:49+11:00    1.31920                1.67755    223.621   \n",
       "2018-01-28 07:01:32+11:00    1.21137                1.54250    246.185   \n",
       "2018-02-01 08:13:34+11:00    0.00000                0.00000      0.000   \n",
       "2018-02-06 08:06:42+11:00    1.35775                1.86002    254.409   \n",
       "2018-02-07 17:59:05+11:00    1.47188                1.74658    233.780   \n",
       "\n",
       "                               aIF  ...  Rest AVNN  Rest SDNN  Rest rMSSD  \\\n",
       "2018-01-28 06:39:49+11:00  0.83441  ...          0          0           0   \n",
       "2018-01-28 07:01:32+11:00  0.91860  ...          0          0           0   \n",
       "2018-02-01 08:13:34+11:00  0.00000  ...          0          0           0   \n",
       "2018-02-06 08:06:42+11:00  0.94929  ...          0          0           0   \n",
       "2018-02-07 17:59:05+11:00  0.87231  ...          0          0           0   \n",
       "\n",
       "                           Rest PNN50  Rest LF  Rest HF  HRV Recovery Points  \\\n",
       "2018-01-28 06:39:49+11:00           0        0        0                    0   \n",
       "2018-01-28 07:01:32+11:00           0        0        0                    0   \n",
       "2018-02-01 08:13:34+11:00           0        0        0                    0   \n",
       "2018-02-06 08:06:42+11:00           0        0        0                    0   \n",
       "2018-02-07 17:59:05+11:00           0        0        0                    0   \n",
       "\n",
       "                                NP       IF       TSS  \n",
       "2018-01-28 06:39:49+11:00  222.856  0.83155   20.2257  \n",
       "2018-01-28 07:01:32+11:00  245.365  0.91554   94.5787  \n",
       "2018-02-01 08:13:34+11:00    0.000  0.00000    0.0000  \n",
       "2018-02-06 08:06:42+11:00  253.702  0.94665   98.3269  \n",
       "2018-02-07 17:59:05+11:00  232.644  0.86808  171.0780  \n",
       "\n",
       "[5 rows x 362 columns]"
      ]
     },
     "execution_count": 7,
     "metadata": {},
     "output_type": "execute_result"
    }
   ],
   "source": [
    "cheetah = pd.read_csv('data/cheetah.csv', skipinitialspace=True)\n",
    "cheetah.index = pd.to_datetime(cheetah['date'] + ' ' + cheetah['time'])\n",
    "cheetah.index = cheetah.index.tz_localize('Australia/Sydney')\n",
    "cheetah.head()"
   ]
  },
  {
   "cell_type": "markdown",
   "metadata": {},
   "source": [
    "The GoldenCheetah data contains many many variables (columns) and I won't go into all of them here. Some\n",
    "that are of particular interest for the analysis below are:\n",
    "\n",
    "Here are definitions of some of the more important fields in the data. Capitalised fields come from the GoldenCheetah data\n",
    "while lowercase_fields come from Strava. There are many cases where fields are duplicated and in this case the values\n",
    "should be the same, although there is room for variation as the algorithm used to calculate them could be different\n",
    "in each case. \n",
    "\n",
    "  * Duration - overall duration of the ride, should be same as elapsed_time\n",
    "  * Time Moving - time spent moving (not resting or waiting at lights), should be the same as moving_time\n",
    "  * Elevation Gain - metres climbed over the ride\n",
    "  * Average Speed - over the ride\n",
    "  * Average Power - average power in watts as measured by a power meter, relates to how much effort is being put in to the ride, should be the same as  * average_watts' from Strava\n",
    "  * Nonzero Average Power - same as Average Power but excludes times when power is zero from the average\n",
    "  * Average Heart Rate - should be the same as average_heartrate\n",
    "  * Average Cadence - cadence is the rotations per minute of the pedals\n",
    "  * Average Temp - temperature in the environment as measured by the bike computer (should be same as average_temp)\n",
    "  * VAM - average ascent speed - speed up hills\n",
    "  * Calories (HR) - Calorie expendature as estimated from heart rate data\n",
    "  * 1 sec Peak Power - this and other  'Peak Power' measures give the maximum power output in the ride over this time period.  Will be higher for shorter periods. High values in short periods would come from a very 'punchy' ride with sprints for example.\n",
    "  * 1 min Peak Hr - a similar measure relating to Heart Rate\n",
    "  * NP - Normalised Power, a smoothed average power measurement, generally higher than Average Power \n",
    "  * TSS - Training Stress Score, a measure of how hard a ride this was\n",
    "  * device_watts - True if the power (watts) measures were from a power meter, False if they were estimated\n",
    "  * distance - distance travelled in Km\n",
    "  * kudos - likes from other Strava users (social network)\n",
    "  * workout_type - one of  'Race',  'Workout' or  'Ride'\n",
    "  \n",
    "  \n",
    "Some of the GoldenCheetah parameters are defined [in thier documentation](https://github.com/GoldenCheetah/GoldenCheetah/wiki/UG_Glossary).  "
   ]
  },
  {
   "cell_type": "markdown",
   "metadata": {},
   "source": [
    "## Your Tasks\n",
    "\n",
    "Your first task is to combine these two data frames using the [`join` method of Pandas](https://pandas.pydata.org/pandas-docs/stable/user_guide/merging.html#joining-on-index).   The goal is to keep only those rows of data \n",
    "that appear in __both__ data frames so that we have complete data for every row.  "
   ]
  },
  {
   "cell_type": "code",
   "execution_count": 8,
   "metadata": {},
   "outputs": [
    {
     "data": {
      "text/html": [
       "<div>\n",
       "<style scoped>\n",
       "    .dataframe tbody tr th:only-of-type {\n",
       "        vertical-align: middle;\n",
       "    }\n",
       "\n",
       "    .dataframe tbody tr th {\n",
       "        vertical-align: top;\n",
       "    }\n",
       "\n",
       "    .dataframe thead th {\n",
       "        text-align: right;\n",
       "    }\n",
       "</style>\n",
       "<table border=\"1\" class=\"dataframe\">\n",
       "  <thead>\n",
       "    <tr style=\"text-align: right;\">\n",
       "      <th></th>\n",
       "      <th>average_heartrate</th>\n",
       "      <th>average_temp</th>\n",
       "      <th>average_watts</th>\n",
       "      <th>device_watts</th>\n",
       "      <th>distance</th>\n",
       "      <th>elapsed_time</th>\n",
       "      <th>elevation_gain</th>\n",
       "      <th>kudos</th>\n",
       "      <th>moving_time</th>\n",
       "      <th>workout_type</th>\n",
       "      <th>...</th>\n",
       "      <th>Rest AVNN</th>\n",
       "      <th>Rest SDNN</th>\n",
       "      <th>Rest rMSSD</th>\n",
       "      <th>Rest PNN50</th>\n",
       "      <th>Rest LF</th>\n",
       "      <th>Rest HF</th>\n",
       "      <th>HRV Recovery Points</th>\n",
       "      <th>NP</th>\n",
       "      <th>IF</th>\n",
       "      <th>TSS</th>\n",
       "    </tr>\n",
       "  </thead>\n",
       "  <tbody>\n",
       "    <tr>\n",
       "      <td>2018-01-27 19:39:49+00:00</td>\n",
       "      <td>120.6</td>\n",
       "      <td>21.0</td>\n",
       "      <td>153.4</td>\n",
       "      <td>True</td>\n",
       "      <td>7.6</td>\n",
       "      <td>17</td>\n",
       "      <td>95.00 m</td>\n",
       "      <td>4</td>\n",
       "      <td>17</td>\n",
       "      <td>Ride</td>\n",
       "      <td>...</td>\n",
       "      <td>0</td>\n",
       "      <td>0</td>\n",
       "      <td>0</td>\n",
       "      <td>0</td>\n",
       "      <td>0</td>\n",
       "      <td>0</td>\n",
       "      <td>0</td>\n",
       "      <td>222.856</td>\n",
       "      <td>0.831550</td>\n",
       "      <td>20.2257</td>\n",
       "    </tr>\n",
       "    <tr>\n",
       "      <td>2018-01-27 20:01:32+00:00</td>\n",
       "      <td>146.9</td>\n",
       "      <td>22.0</td>\n",
       "      <td>187.7</td>\n",
       "      <td>True</td>\n",
       "      <td>38.6</td>\n",
       "      <td>67</td>\n",
       "      <td>449.00 m</td>\n",
       "      <td>19</td>\n",
       "      <td>67</td>\n",
       "      <td>Race</td>\n",
       "      <td>...</td>\n",
       "      <td>0</td>\n",
       "      <td>0</td>\n",
       "      <td>0</td>\n",
       "      <td>0</td>\n",
       "      <td>0</td>\n",
       "      <td>0</td>\n",
       "      <td>0</td>\n",
       "      <td>245.365</td>\n",
       "      <td>0.915540</td>\n",
       "      <td>94.5787</td>\n",
       "    </tr>\n",
       "    <tr>\n",
       "      <td>2018-01-31 21:13:34+00:00</td>\n",
       "      <td>109.8</td>\n",
       "      <td>19.0</td>\n",
       "      <td>143.0</td>\n",
       "      <td>False</td>\n",
       "      <td>26.3</td>\n",
       "      <td>649</td>\n",
       "      <td>612.00 m</td>\n",
       "      <td>6</td>\n",
       "      <td>113</td>\n",
       "      <td>Ride</td>\n",
       "      <td>...</td>\n",
       "      <td>0</td>\n",
       "      <td>0</td>\n",
       "      <td>0</td>\n",
       "      <td>0</td>\n",
       "      <td>0</td>\n",
       "      <td>0</td>\n",
       "      <td>0</td>\n",
       "      <td>0.000</td>\n",
       "      <td>0.000000</td>\n",
       "      <td>0.0000</td>\n",
       "    </tr>\n",
       "    <tr>\n",
       "      <td>2018-02-05 21:06:42+00:00</td>\n",
       "      <td>119.3</td>\n",
       "      <td>19.0</td>\n",
       "      <td>165.9</td>\n",
       "      <td>True</td>\n",
       "      <td>24.3</td>\n",
       "      <td>69</td>\n",
       "      <td>439.00 m</td>\n",
       "      <td>6</td>\n",
       "      <td>65</td>\n",
       "      <td>Ride</td>\n",
       "      <td>...</td>\n",
       "      <td>0</td>\n",
       "      <td>0</td>\n",
       "      <td>0</td>\n",
       "      <td>0</td>\n",
       "      <td>0</td>\n",
       "      <td>0</td>\n",
       "      <td>0</td>\n",
       "      <td>253.702</td>\n",
       "      <td>0.946650</td>\n",
       "      <td>98.3269</td>\n",
       "    </tr>\n",
       "    <tr>\n",
       "      <td>2018-02-07 06:59:05+00:00</td>\n",
       "      <td>124.8</td>\n",
       "      <td>20.0</td>\n",
       "      <td>151.0</td>\n",
       "      <td>True</td>\n",
       "      <td>47.1</td>\n",
       "      <td>144</td>\n",
       "      <td>890.00 m</td>\n",
       "      <td>10</td>\n",
       "      <td>134</td>\n",
       "      <td>Ride</td>\n",
       "      <td>...</td>\n",
       "      <td>0</td>\n",
       "      <td>0</td>\n",
       "      <td>0</td>\n",
       "      <td>0</td>\n",
       "      <td>0</td>\n",
       "      <td>0</td>\n",
       "      <td>0</td>\n",
       "      <td>232.644</td>\n",
       "      <td>0.868080</td>\n",
       "      <td>171.0780</td>\n",
       "    </tr>\n",
       "    <tr>\n",
       "      <td>...</td>\n",
       "      <td>...</td>\n",
       "      <td>...</td>\n",
       "      <td>...</td>\n",
       "      <td>...</td>\n",
       "      <td>...</td>\n",
       "      <td>...</td>\n",
       "      <td>...</td>\n",
       "      <td>...</td>\n",
       "      <td>...</td>\n",
       "      <td>...</td>\n",
       "      <td>...</td>\n",
       "      <td>...</td>\n",
       "      <td>...</td>\n",
       "      <td>...</td>\n",
       "      <td>...</td>\n",
       "      <td>...</td>\n",
       "      <td>...</td>\n",
       "      <td>...</td>\n",
       "      <td>...</td>\n",
       "      <td>...</td>\n",
       "      <td>...</td>\n",
       "    </tr>\n",
       "    <tr>\n",
       "      <td>2019-07-19 20:22:49+00:00</td>\n",
       "      <td>NaN</td>\n",
       "      <td>3.0</td>\n",
       "      <td>166.8</td>\n",
       "      <td>True</td>\n",
       "      <td>58.2</td>\n",
       "      <td>174</td>\n",
       "      <td>666.00 m</td>\n",
       "      <td>16</td>\n",
       "      <td>136</td>\n",
       "      <td>Ride</td>\n",
       "      <td>...</td>\n",
       "      <td>0</td>\n",
       "      <td>0</td>\n",
       "      <td>0</td>\n",
       "      <td>0</td>\n",
       "      <td>0</td>\n",
       "      <td>0</td>\n",
       "      <td>0</td>\n",
       "      <td>222.988</td>\n",
       "      <td>0.832045</td>\n",
       "      <td>159.3630</td>\n",
       "    </tr>\n",
       "    <tr>\n",
       "      <td>2019-07-26 20:12:56+00:00</td>\n",
       "      <td>120.8</td>\n",
       "      <td>7.0</td>\n",
       "      <td>166.9</td>\n",
       "      <td>True</td>\n",
       "      <td>59.6</td>\n",
       "      <td>185</td>\n",
       "      <td>663.00 m</td>\n",
       "      <td>15</td>\n",
       "      <td>139</td>\n",
       "      <td>Ride</td>\n",
       "      <td>...</td>\n",
       "      <td>0</td>\n",
       "      <td>0</td>\n",
       "      <td>0</td>\n",
       "      <td>0</td>\n",
       "      <td>0</td>\n",
       "      <td>0</td>\n",
       "      <td>0</td>\n",
       "      <td>236.028</td>\n",
       "      <td>0.880701</td>\n",
       "      <td>183.1140</td>\n",
       "    </tr>\n",
       "    <tr>\n",
       "      <td>2019-07-27 20:42:59+00:00</td>\n",
       "      <td>122.0</td>\n",
       "      <td>3.0</td>\n",
       "      <td>168.4</td>\n",
       "      <td>True</td>\n",
       "      <td>19.8</td>\n",
       "      <td>49</td>\n",
       "      <td>247.00 m</td>\n",
       "      <td>6</td>\n",
       "      <td>47</td>\n",
       "      <td>Ride</td>\n",
       "      <td>...</td>\n",
       "      <td>0</td>\n",
       "      <td>0</td>\n",
       "      <td>0</td>\n",
       "      <td>0</td>\n",
       "      <td>0</td>\n",
       "      <td>0</td>\n",
       "      <td>0</td>\n",
       "      <td>212.020</td>\n",
       "      <td>0.791118</td>\n",
       "      <td>51.1646</td>\n",
       "    </tr>\n",
       "    <tr>\n",
       "      <td>2019-07-27 21:47:24+00:00</td>\n",
       "      <td>144.4</td>\n",
       "      <td>3.0</td>\n",
       "      <td>235.2</td>\n",
       "      <td>True</td>\n",
       "      <td>29.1</td>\n",
       "      <td>50</td>\n",
       "      <td>415.00 m</td>\n",
       "      <td>15</td>\n",
       "      <td>50</td>\n",
       "      <td>Race</td>\n",
       "      <td>...</td>\n",
       "      <td>0</td>\n",
       "      <td>0</td>\n",
       "      <td>0</td>\n",
       "      <td>0</td>\n",
       "      <td>0</td>\n",
       "      <td>0</td>\n",
       "      <td>0</td>\n",
       "      <td>267.699</td>\n",
       "      <td>0.998877</td>\n",
       "      <td>83.5620</td>\n",
       "    </tr>\n",
       "    <tr>\n",
       "      <td>2019-07-27 23:55:13+00:00</td>\n",
       "      <td>109.6</td>\n",
       "      <td>15.0</td>\n",
       "      <td>114.7</td>\n",
       "      <td>True</td>\n",
       "      <td>20.2</td>\n",
       "      <td>68</td>\n",
       "      <td>280.00 m</td>\n",
       "      <td>6</td>\n",
       "      <td>59</td>\n",
       "      <td>Ride</td>\n",
       "      <td>...</td>\n",
       "      <td>0</td>\n",
       "      <td>0</td>\n",
       "      <td>0</td>\n",
       "      <td>0</td>\n",
       "      <td>0</td>\n",
       "      <td>0</td>\n",
       "      <td>0</td>\n",
       "      <td>163.001</td>\n",
       "      <td>0.608214</td>\n",
       "      <td>36.6945</td>\n",
       "    </tr>\n",
       "  </tbody>\n",
       "</table>\n",
       "<p>243 rows × 372 columns</p>\n",
       "</div>"
      ],
      "text/plain": [
       "                           average_heartrate  average_temp  average_watts  \\\n",
       "2018-01-27 19:39:49+00:00              120.6          21.0          153.4   \n",
       "2018-01-27 20:01:32+00:00              146.9          22.0          187.7   \n",
       "2018-01-31 21:13:34+00:00              109.8          19.0          143.0   \n",
       "2018-02-05 21:06:42+00:00              119.3          19.0          165.9   \n",
       "2018-02-07 06:59:05+00:00              124.8          20.0          151.0   \n",
       "...                                      ...           ...            ...   \n",
       "2019-07-19 20:22:49+00:00                NaN           3.0          166.8   \n",
       "2019-07-26 20:12:56+00:00              120.8           7.0          166.9   \n",
       "2019-07-27 20:42:59+00:00              122.0           3.0          168.4   \n",
       "2019-07-27 21:47:24+00:00              144.4           3.0          235.2   \n",
       "2019-07-27 23:55:13+00:00              109.6          15.0          114.7   \n",
       "\n",
       "                          device_watts  distance  elapsed_time elevation_gain  \\\n",
       "2018-01-27 19:39:49+00:00         True       7.6            17        95.00 m   \n",
       "2018-01-27 20:01:32+00:00         True      38.6            67       449.00 m   \n",
       "2018-01-31 21:13:34+00:00        False      26.3           649       612.00 m   \n",
       "2018-02-05 21:06:42+00:00         True      24.3            69       439.00 m   \n",
       "2018-02-07 06:59:05+00:00         True      47.1           144       890.00 m   \n",
       "...                                ...       ...           ...            ...   \n",
       "2019-07-19 20:22:49+00:00         True      58.2           174       666.00 m   \n",
       "2019-07-26 20:12:56+00:00         True      59.6           185       663.00 m   \n",
       "2019-07-27 20:42:59+00:00         True      19.8            49       247.00 m   \n",
       "2019-07-27 21:47:24+00:00         True      29.1            50       415.00 m   \n",
       "2019-07-27 23:55:13+00:00         True      20.2            68       280.00 m   \n",
       "\n",
       "                           kudos  moving_time workout_type  ... Rest AVNN  \\\n",
       "2018-01-27 19:39:49+00:00      4           17         Ride  ...         0   \n",
       "2018-01-27 20:01:32+00:00     19           67         Race  ...         0   \n",
       "2018-01-31 21:13:34+00:00      6          113         Ride  ...         0   \n",
       "2018-02-05 21:06:42+00:00      6           65         Ride  ...         0   \n",
       "2018-02-07 06:59:05+00:00     10          134         Ride  ...         0   \n",
       "...                          ...          ...          ...  ...       ...   \n",
       "2019-07-19 20:22:49+00:00     16          136         Ride  ...         0   \n",
       "2019-07-26 20:12:56+00:00     15          139         Ride  ...         0   \n",
       "2019-07-27 20:42:59+00:00      6           47         Ride  ...         0   \n",
       "2019-07-27 21:47:24+00:00     15           50         Race  ...         0   \n",
       "2019-07-27 23:55:13+00:00      6           59         Ride  ...         0   \n",
       "\n",
       "                          Rest SDNN Rest rMSSD  Rest PNN50  Rest LF  Rest HF  \\\n",
       "2018-01-27 19:39:49+00:00         0          0           0        0        0   \n",
       "2018-01-27 20:01:32+00:00         0          0           0        0        0   \n",
       "2018-01-31 21:13:34+00:00         0          0           0        0        0   \n",
       "2018-02-05 21:06:42+00:00         0          0           0        0        0   \n",
       "2018-02-07 06:59:05+00:00         0          0           0        0        0   \n",
       "...                             ...        ...         ...      ...      ...   \n",
       "2019-07-19 20:22:49+00:00         0          0           0        0        0   \n",
       "2019-07-26 20:12:56+00:00         0          0           0        0        0   \n",
       "2019-07-27 20:42:59+00:00         0          0           0        0        0   \n",
       "2019-07-27 21:47:24+00:00         0          0           0        0        0   \n",
       "2019-07-27 23:55:13+00:00         0          0           0        0        0   \n",
       "\n",
       "                           HRV Recovery Points       NP        IF       TSS  \n",
       "2018-01-27 19:39:49+00:00                    0  222.856  0.831550   20.2257  \n",
       "2018-01-27 20:01:32+00:00                    0  245.365  0.915540   94.5787  \n",
       "2018-01-31 21:13:34+00:00                    0    0.000  0.000000    0.0000  \n",
       "2018-02-05 21:06:42+00:00                    0  253.702  0.946650   98.3269  \n",
       "2018-02-07 06:59:05+00:00                    0  232.644  0.868080  171.0780  \n",
       "...                                        ...      ...       ...       ...  \n",
       "2019-07-19 20:22:49+00:00                    0  222.988  0.832045  159.3630  \n",
       "2019-07-26 20:12:56+00:00                    0  236.028  0.880701  183.1140  \n",
       "2019-07-27 20:42:59+00:00                    0  212.020  0.791118   51.1646  \n",
       "2019-07-27 21:47:24+00:00                    0  267.699  0.998877   83.5620  \n",
       "2019-07-27 23:55:13+00:00                    0  163.001  0.608214   36.6945  \n",
       "\n",
       "[243 rows x 372 columns]"
      ]
     },
     "execution_count": 8,
     "metadata": {},
     "output_type": "execute_result"
    }
   ],
   "source": [
    "strava.join(cheetah, how='inner' )"
   ]
  },
  {
   "cell_type": "markdown",
   "metadata": {},
   "source": [
    "## Required Analysis\n",
    "\n",
    "1. Remove rides with no measured power (where device_watts is False) - these are commutes or MTB rides\n",
    "* Look at the distributions of some key variables: time, distance, average speed, average power, TSS. Are they normally distributed? Skewed? \n",
    "* Explore the relationships between the following variables. Are any of them corrolated with each other (do they vary together in a predictable way)? Can you explain any relationships you observe?  \n",
    "    * Distance\n",
    "    * Moving Time\n",
    "    * Average Speed\n",
    "    * Heart Rate\n",
    "    * Power (watts)\n",
    "    * Normalised power (NP)\n",
    "    * Training Stress Score\n",
    "    * Elevation Gain\n",
    "    \n",
    "* Some of the rides are designated as \"Race\" in the `workout_type` field, these are where I am racing and you might expect that these would be the most challenging rides.  Normalised Power (NP) is a good measure of how hard a ride is.  Explore the values of `NP` for races vs the overall set of rides to see if this hypothesis is supported (use graphs and summary statistics).  Are races more challenging than rides in general? \n",
    "\n",
    "* It is useful to see a summary of rides over the year. Generate a plot that summarises the number of km ridden each month over the period of the data. Overlay this with the _sum_ of the Training Stress Score and the _average_ of the Average Speed to generate an overall summary of activity.\n",
    "\n",
    "Hint: to generate these summary plots you need to use the [timeseries/date functionality](https://pandas.pydata.org/pandas-docs/stable/user_guide/timeseries.html) in Pandas to generate a new data frame containing the required data.  \n",
    "\n",
    "## Challenge\n",
    "\n",
    "* What leads to more `kudos`? Is there anything to indicate which rides are more popular? Explore the relationship between the main variables and kudos. Show a plot and comment on any relationship you observe. \n",
    "\n",
    "* Generate another summary graph but one that shows the activity over a given month, with the sum of the values for each day of the month shown.  So, if there are two rides on a given day, the graph should show the sum of the distances etc for these rides.\n",
    "\n",
    "__Note:__ once you have completed these steps you can remove this cell.  Use the text as a starting point for the documentation of your workflow and discussion of results.\n"
   ]
  },
  {
   "cell_type": "markdown",
   "metadata": {},
   "source": [
    "* Joined the two dataframes using inner join : Joins the cheetah and strava dataframe for common data present in both the dataframes. Here the dataframes are joined on the basis of data present in strava."
   ]
  },
  {
   "cell_type": "code",
   "execution_count": 135,
   "metadata": {},
   "outputs": [
    {
     "data": {
      "text/plain": [
       "(243, 372)"
      ]
     },
     "execution_count": 135,
     "metadata": {},
     "output_type": "execute_result"
    }
   ],
   "source": [
    "joined_df=(strava.join(cheetah, how='inner' ))\n",
    "joined_df.shape"
   ]
  },
  {
   "cell_type": "code",
   "execution_count": 136,
   "metadata": {},
   "outputs": [
    {
     "data": {
      "text/html": [
       "<div>\n",
       "<style scoped>\n",
       "    .dataframe tbody tr th:only-of-type {\n",
       "        vertical-align: middle;\n",
       "    }\n",
       "\n",
       "    .dataframe tbody tr th {\n",
       "        vertical-align: top;\n",
       "    }\n",
       "\n",
       "    .dataframe thead th {\n",
       "        text-align: right;\n",
       "    }\n",
       "</style>\n",
       "<table border=\"1\" class=\"dataframe\">\n",
       "  <thead>\n",
       "    <tr style=\"text-align: right;\">\n",
       "      <th></th>\n",
       "      <th>Date</th>\n",
       "      <th>average_heartrate</th>\n",
       "      <th>average_temp</th>\n",
       "      <th>average_watts</th>\n",
       "      <th>device_watts</th>\n",
       "      <th>distance</th>\n",
       "      <th>elapsed_time</th>\n",
       "      <th>elevation_gain</th>\n",
       "      <th>kudos</th>\n",
       "      <th>moving_time</th>\n",
       "      <th>...</th>\n",
       "      <th>Rest AVNN</th>\n",
       "      <th>Rest SDNN</th>\n",
       "      <th>Rest rMSSD</th>\n",
       "      <th>Rest PNN50</th>\n",
       "      <th>Rest LF</th>\n",
       "      <th>Rest HF</th>\n",
       "      <th>HRV Recovery Points</th>\n",
       "      <th>NP</th>\n",
       "      <th>IF</th>\n",
       "      <th>TSS</th>\n",
       "    </tr>\n",
       "  </thead>\n",
       "  <tbody>\n",
       "    <tr>\n",
       "      <td>2018-01-27 19:39:49+00:00</td>\n",
       "      <td>2018-01-27 19:39:49</td>\n",
       "      <td>120.6</td>\n",
       "      <td>21.0</td>\n",
       "      <td>153.4</td>\n",
       "      <td>True</td>\n",
       "      <td>7.6</td>\n",
       "      <td>17</td>\n",
       "      <td>95.00 m</td>\n",
       "      <td>4</td>\n",
       "      <td>17</td>\n",
       "      <td>...</td>\n",
       "      <td>0</td>\n",
       "      <td>0</td>\n",
       "      <td>0</td>\n",
       "      <td>0</td>\n",
       "      <td>0</td>\n",
       "      <td>0</td>\n",
       "      <td>0</td>\n",
       "      <td>222.856</td>\n",
       "      <td>0.831550</td>\n",
       "      <td>20.2257</td>\n",
       "    </tr>\n",
       "    <tr>\n",
       "      <td>2018-01-27 20:01:32+00:00</td>\n",
       "      <td>2018-01-27 20:01:32</td>\n",
       "      <td>146.9</td>\n",
       "      <td>22.0</td>\n",
       "      <td>187.7</td>\n",
       "      <td>True</td>\n",
       "      <td>38.6</td>\n",
       "      <td>67</td>\n",
       "      <td>449.00 m</td>\n",
       "      <td>19</td>\n",
       "      <td>67</td>\n",
       "      <td>...</td>\n",
       "      <td>0</td>\n",
       "      <td>0</td>\n",
       "      <td>0</td>\n",
       "      <td>0</td>\n",
       "      <td>0</td>\n",
       "      <td>0</td>\n",
       "      <td>0</td>\n",
       "      <td>245.365</td>\n",
       "      <td>0.915540</td>\n",
       "      <td>94.5787</td>\n",
       "    </tr>\n",
       "    <tr>\n",
       "      <td>2018-01-31 21:13:34+00:00</td>\n",
       "      <td>2018-01-31 21:13:34</td>\n",
       "      <td>109.8</td>\n",
       "      <td>19.0</td>\n",
       "      <td>143.0</td>\n",
       "      <td>False</td>\n",
       "      <td>26.3</td>\n",
       "      <td>649</td>\n",
       "      <td>612.00 m</td>\n",
       "      <td>6</td>\n",
       "      <td>113</td>\n",
       "      <td>...</td>\n",
       "      <td>0</td>\n",
       "      <td>0</td>\n",
       "      <td>0</td>\n",
       "      <td>0</td>\n",
       "      <td>0</td>\n",
       "      <td>0</td>\n",
       "      <td>0</td>\n",
       "      <td>0.000</td>\n",
       "      <td>0.000000</td>\n",
       "      <td>0.0000</td>\n",
       "    </tr>\n",
       "    <tr>\n",
       "      <td>2018-02-05 21:06:42+00:00</td>\n",
       "      <td>2018-02-05 21:06:42</td>\n",
       "      <td>119.3</td>\n",
       "      <td>19.0</td>\n",
       "      <td>165.9</td>\n",
       "      <td>True</td>\n",
       "      <td>24.3</td>\n",
       "      <td>69</td>\n",
       "      <td>439.00 m</td>\n",
       "      <td>6</td>\n",
       "      <td>65</td>\n",
       "      <td>...</td>\n",
       "      <td>0</td>\n",
       "      <td>0</td>\n",
       "      <td>0</td>\n",
       "      <td>0</td>\n",
       "      <td>0</td>\n",
       "      <td>0</td>\n",
       "      <td>0</td>\n",
       "      <td>253.702</td>\n",
       "      <td>0.946650</td>\n",
       "      <td>98.3269</td>\n",
       "    </tr>\n",
       "    <tr>\n",
       "      <td>2018-02-07 06:59:05+00:00</td>\n",
       "      <td>2018-02-07 06:59:05</td>\n",
       "      <td>124.8</td>\n",
       "      <td>20.0</td>\n",
       "      <td>151.0</td>\n",
       "      <td>True</td>\n",
       "      <td>47.1</td>\n",
       "      <td>144</td>\n",
       "      <td>890.00 m</td>\n",
       "      <td>10</td>\n",
       "      <td>134</td>\n",
       "      <td>...</td>\n",
       "      <td>0</td>\n",
       "      <td>0</td>\n",
       "      <td>0</td>\n",
       "      <td>0</td>\n",
       "      <td>0</td>\n",
       "      <td>0</td>\n",
       "      <td>0</td>\n",
       "      <td>232.644</td>\n",
       "      <td>0.868080</td>\n",
       "      <td>171.0780</td>\n",
       "    </tr>\n",
       "    <tr>\n",
       "      <td>...</td>\n",
       "      <td>...</td>\n",
       "      <td>...</td>\n",
       "      <td>...</td>\n",
       "      <td>...</td>\n",
       "      <td>...</td>\n",
       "      <td>...</td>\n",
       "      <td>...</td>\n",
       "      <td>...</td>\n",
       "      <td>...</td>\n",
       "      <td>...</td>\n",
       "      <td>...</td>\n",
       "      <td>...</td>\n",
       "      <td>...</td>\n",
       "      <td>...</td>\n",
       "      <td>...</td>\n",
       "      <td>...</td>\n",
       "      <td>...</td>\n",
       "      <td>...</td>\n",
       "      <td>...</td>\n",
       "      <td>...</td>\n",
       "      <td>...</td>\n",
       "    </tr>\n",
       "    <tr>\n",
       "      <td>2019-07-19 20:22:49+00:00</td>\n",
       "      <td>2019-07-19 20:22:49</td>\n",
       "      <td>NaN</td>\n",
       "      <td>3.0</td>\n",
       "      <td>166.8</td>\n",
       "      <td>True</td>\n",
       "      <td>58.2</td>\n",
       "      <td>174</td>\n",
       "      <td>666.00 m</td>\n",
       "      <td>16</td>\n",
       "      <td>136</td>\n",
       "      <td>...</td>\n",
       "      <td>0</td>\n",
       "      <td>0</td>\n",
       "      <td>0</td>\n",
       "      <td>0</td>\n",
       "      <td>0</td>\n",
       "      <td>0</td>\n",
       "      <td>0</td>\n",
       "      <td>222.988</td>\n",
       "      <td>0.832045</td>\n",
       "      <td>159.3630</td>\n",
       "    </tr>\n",
       "    <tr>\n",
       "      <td>2019-07-26 20:12:56+00:00</td>\n",
       "      <td>2019-07-26 20:12:56</td>\n",
       "      <td>120.8</td>\n",
       "      <td>7.0</td>\n",
       "      <td>166.9</td>\n",
       "      <td>True</td>\n",
       "      <td>59.6</td>\n",
       "      <td>185</td>\n",
       "      <td>663.00 m</td>\n",
       "      <td>15</td>\n",
       "      <td>139</td>\n",
       "      <td>...</td>\n",
       "      <td>0</td>\n",
       "      <td>0</td>\n",
       "      <td>0</td>\n",
       "      <td>0</td>\n",
       "      <td>0</td>\n",
       "      <td>0</td>\n",
       "      <td>0</td>\n",
       "      <td>236.028</td>\n",
       "      <td>0.880701</td>\n",
       "      <td>183.1140</td>\n",
       "    </tr>\n",
       "    <tr>\n",
       "      <td>2019-07-27 20:42:59+00:00</td>\n",
       "      <td>2019-07-27 20:42:59</td>\n",
       "      <td>122.0</td>\n",
       "      <td>3.0</td>\n",
       "      <td>168.4</td>\n",
       "      <td>True</td>\n",
       "      <td>19.8</td>\n",
       "      <td>49</td>\n",
       "      <td>247.00 m</td>\n",
       "      <td>6</td>\n",
       "      <td>47</td>\n",
       "      <td>...</td>\n",
       "      <td>0</td>\n",
       "      <td>0</td>\n",
       "      <td>0</td>\n",
       "      <td>0</td>\n",
       "      <td>0</td>\n",
       "      <td>0</td>\n",
       "      <td>0</td>\n",
       "      <td>212.020</td>\n",
       "      <td>0.791118</td>\n",
       "      <td>51.1646</td>\n",
       "    </tr>\n",
       "    <tr>\n",
       "      <td>2019-07-27 21:47:24+00:00</td>\n",
       "      <td>2019-07-27 21:47:24</td>\n",
       "      <td>144.4</td>\n",
       "      <td>3.0</td>\n",
       "      <td>235.2</td>\n",
       "      <td>True</td>\n",
       "      <td>29.1</td>\n",
       "      <td>50</td>\n",
       "      <td>415.00 m</td>\n",
       "      <td>15</td>\n",
       "      <td>50</td>\n",
       "      <td>...</td>\n",
       "      <td>0</td>\n",
       "      <td>0</td>\n",
       "      <td>0</td>\n",
       "      <td>0</td>\n",
       "      <td>0</td>\n",
       "      <td>0</td>\n",
       "      <td>0</td>\n",
       "      <td>267.699</td>\n",
       "      <td>0.998877</td>\n",
       "      <td>83.5620</td>\n",
       "    </tr>\n",
       "    <tr>\n",
       "      <td>2019-07-27 23:55:13+00:00</td>\n",
       "      <td>2019-07-27 23:55:13</td>\n",
       "      <td>109.6</td>\n",
       "      <td>15.0</td>\n",
       "      <td>114.7</td>\n",
       "      <td>True</td>\n",
       "      <td>20.2</td>\n",
       "      <td>68</td>\n",
       "      <td>280.00 m</td>\n",
       "      <td>6</td>\n",
       "      <td>59</td>\n",
       "      <td>...</td>\n",
       "      <td>0</td>\n",
       "      <td>0</td>\n",
       "      <td>0</td>\n",
       "      <td>0</td>\n",
       "      <td>0</td>\n",
       "      <td>0</td>\n",
       "      <td>0</td>\n",
       "      <td>163.001</td>\n",
       "      <td>0.608214</td>\n",
       "      <td>36.6945</td>\n",
       "    </tr>\n",
       "  </tbody>\n",
       "</table>\n",
       "<p>243 rows × 373 columns</p>\n",
       "</div>"
      ],
      "text/plain": [
       "                                         Date  average_heartrate  \\\n",
       "2018-01-27 19:39:49+00:00 2018-01-27 19:39:49              120.6   \n",
       "2018-01-27 20:01:32+00:00 2018-01-27 20:01:32              146.9   \n",
       "2018-01-31 21:13:34+00:00 2018-01-31 21:13:34              109.8   \n",
       "2018-02-05 21:06:42+00:00 2018-02-05 21:06:42              119.3   \n",
       "2018-02-07 06:59:05+00:00 2018-02-07 06:59:05              124.8   \n",
       "...                                       ...                ...   \n",
       "2019-07-19 20:22:49+00:00 2019-07-19 20:22:49                NaN   \n",
       "2019-07-26 20:12:56+00:00 2019-07-26 20:12:56              120.8   \n",
       "2019-07-27 20:42:59+00:00 2019-07-27 20:42:59              122.0   \n",
       "2019-07-27 21:47:24+00:00 2019-07-27 21:47:24              144.4   \n",
       "2019-07-27 23:55:13+00:00 2019-07-27 23:55:13              109.6   \n",
       "\n",
       "                           average_temp  average_watts device_watts  distance  \\\n",
       "2018-01-27 19:39:49+00:00          21.0          153.4         True       7.6   \n",
       "2018-01-27 20:01:32+00:00          22.0          187.7         True      38.6   \n",
       "2018-01-31 21:13:34+00:00          19.0          143.0        False      26.3   \n",
       "2018-02-05 21:06:42+00:00          19.0          165.9         True      24.3   \n",
       "2018-02-07 06:59:05+00:00          20.0          151.0         True      47.1   \n",
       "...                                 ...            ...          ...       ...   \n",
       "2019-07-19 20:22:49+00:00           3.0          166.8         True      58.2   \n",
       "2019-07-26 20:12:56+00:00           7.0          166.9         True      59.6   \n",
       "2019-07-27 20:42:59+00:00           3.0          168.4         True      19.8   \n",
       "2019-07-27 21:47:24+00:00           3.0          235.2         True      29.1   \n",
       "2019-07-27 23:55:13+00:00          15.0          114.7         True      20.2   \n",
       "\n",
       "                           elapsed_time elevation_gain  kudos  moving_time  \\\n",
       "2018-01-27 19:39:49+00:00            17        95.00 m      4           17   \n",
       "2018-01-27 20:01:32+00:00            67       449.00 m     19           67   \n",
       "2018-01-31 21:13:34+00:00           649       612.00 m      6          113   \n",
       "2018-02-05 21:06:42+00:00            69       439.00 m      6           65   \n",
       "2018-02-07 06:59:05+00:00           144       890.00 m     10          134   \n",
       "...                                 ...            ...    ...          ...   \n",
       "2019-07-19 20:22:49+00:00           174       666.00 m     16          136   \n",
       "2019-07-26 20:12:56+00:00           185       663.00 m     15          139   \n",
       "2019-07-27 20:42:59+00:00            49       247.00 m      6           47   \n",
       "2019-07-27 21:47:24+00:00            50       415.00 m     15           50   \n",
       "2019-07-27 23:55:13+00:00            68       280.00 m      6           59   \n",
       "\n",
       "                           ... Rest AVNN Rest SDNN Rest rMSSD Rest PNN50  \\\n",
       "2018-01-27 19:39:49+00:00  ...         0         0          0          0   \n",
       "2018-01-27 20:01:32+00:00  ...         0         0          0          0   \n",
       "2018-01-31 21:13:34+00:00  ...         0         0          0          0   \n",
       "2018-02-05 21:06:42+00:00  ...         0         0          0          0   \n",
       "2018-02-07 06:59:05+00:00  ...         0         0          0          0   \n",
       "...                        ...       ...       ...        ...        ...   \n",
       "2019-07-19 20:22:49+00:00  ...         0         0          0          0   \n",
       "2019-07-26 20:12:56+00:00  ...         0         0          0          0   \n",
       "2019-07-27 20:42:59+00:00  ...         0         0          0          0   \n",
       "2019-07-27 21:47:24+00:00  ...         0         0          0          0   \n",
       "2019-07-27 23:55:13+00:00  ...         0         0          0          0   \n",
       "\n",
       "                           Rest LF  Rest HF  HRV Recovery Points       NP  \\\n",
       "2018-01-27 19:39:49+00:00        0        0                    0  222.856   \n",
       "2018-01-27 20:01:32+00:00        0        0                    0  245.365   \n",
       "2018-01-31 21:13:34+00:00        0        0                    0    0.000   \n",
       "2018-02-05 21:06:42+00:00        0        0                    0  253.702   \n",
       "2018-02-07 06:59:05+00:00        0        0                    0  232.644   \n",
       "...                            ...      ...                  ...      ...   \n",
       "2019-07-19 20:22:49+00:00        0        0                    0  222.988   \n",
       "2019-07-26 20:12:56+00:00        0        0                    0  236.028   \n",
       "2019-07-27 20:42:59+00:00        0        0                    0  212.020   \n",
       "2019-07-27 21:47:24+00:00        0        0                    0  267.699   \n",
       "2019-07-27 23:55:13+00:00        0        0                    0  163.001   \n",
       "\n",
       "                                 IF       TSS  \n",
       "2018-01-27 19:39:49+00:00  0.831550   20.2257  \n",
       "2018-01-27 20:01:32+00:00  0.915540   94.5787  \n",
       "2018-01-31 21:13:34+00:00  0.000000    0.0000  \n",
       "2018-02-05 21:06:42+00:00  0.946650   98.3269  \n",
       "2018-02-07 06:59:05+00:00  0.868080  171.0780  \n",
       "...                             ...       ...  \n",
       "2019-07-19 20:22:49+00:00  0.832045  159.3630  \n",
       "2019-07-26 20:12:56+00:00  0.880701  183.1140  \n",
       "2019-07-27 20:42:59+00:00  0.791118   51.1646  \n",
       "2019-07-27 21:47:24+00:00  0.998877   83.5620  \n",
       "2019-07-27 23:55:13+00:00  0.608214   36.6945  \n",
       "\n",
       "[243 rows x 373 columns]"
      ]
     },
     "execution_count": 136,
     "metadata": {},
     "output_type": "execute_result"
    }
   ],
   "source": [
    "joined_df = joined_df.copy()\n",
    "p = joined_df.index.values\n",
    "joined_df.insert( 0, column=\"Date\",value = p)\n",
    "joined_df"
   ]
  },
  {
   "cell_type": "markdown",
   "metadata": {},
   "source": [
    "# 1. Remove rides with no measured power (where device_watts is False) - these are commutes or MTB rides"
   ]
  },
  {
   "cell_type": "code",
   "execution_count": 10,
   "metadata": {},
   "outputs": [
    {
     "data": {
      "text/plain": [
       "array([True, False, nan], dtype=object)"
      ]
     },
     "execution_count": 10,
     "metadata": {},
     "output_type": "execute_result"
    }
   ],
   "source": [
    "#Check for unique values in the device_watts field\n",
    "joined_df['device_watts'].unique()"
   ]
  },
  {
   "cell_type": "markdown",
   "metadata": {},
   "source": [
    "Approach: \n",
    "As we can see there are NaN values also included in the dataframe column device_watts, I have used two method to remove the rides with no measured power. One is to simply select the data for 'True' entries. Secondly, I have cleaned the dataframe with respect to just the device_watts column by using dropna to drop the NaN values. Then I have used this cleaned dataframe to filter out the 'False' entries for device_watts"
   ]
  },
  {
   "cell_type": "code",
   "execution_count": 11,
   "metadata": {},
   "outputs": [
    {
     "data": {
      "text/plain": [
       "(205, 372)"
      ]
     },
     "execution_count": 11,
     "metadata": {},
     "output_type": "execute_result"
    }
   ],
   "source": [
    "#Approach one\n",
    "true_df= joined_df[joined_df['device_watts'] == True]\n",
    "true_df.shape"
   ]
  },
  {
   "cell_type": "code",
   "execution_count": 12,
   "metadata": {},
   "outputs": [
    {
     "data": {
      "text/plain": [
       "(239, 372)"
      ]
     },
     "execution_count": 12,
     "metadata": {},
     "output_type": "execute_result"
    }
   ],
   "source": [
    "#Approach two\n",
    "cleaned_df = joined_df.dropna(subset=['device_watts'])\n",
    "cleaned_df.shape"
   ]
  },
  {
   "cell_type": "code",
   "execution_count": 13,
   "metadata": {},
   "outputs": [],
   "source": [
    "onlytrue_df= cleaned_df[cleaned_df['device_watts'] == False]"
   ]
  },
  {
   "cell_type": "code",
   "execution_count": 14,
   "metadata": {},
   "outputs": [
    {
     "data": {
      "text/plain": [
       "(34, 372)"
      ]
     },
     "execution_count": 14,
     "metadata": {},
     "output_type": "execute_result"
    }
   ],
   "source": [
    "onlytrue_df.shape"
   ]
  },
  {
   "cell_type": "markdown",
   "metadata": {},
   "source": [
    "# 2. Look at the distributions of some key variables: time, distance, average speed, average power, TSS. Are they normally distributed? Skewed?"
   ]
  },
  {
   "cell_type": "code",
   "execution_count": 207,
   "metadata": {},
   "outputs": [
    {
     "data": {
      "image/png": "[encoded data removed]",
      "text/plain": [
       "<Figure size 432x288 with 2 Axes>"
      ]
     },
     "metadata": {},
     "output_type": "display_data"
    }
   ],
   "source": [
    "fig, (ax1, ax2) = plt.subplots(1, 2)\n",
    "\n",
    "joined_df.plot(kind='scatter',x='distance',y='TSS', ax=ax1 ,color='red')\n",
    "joined_df.plot(kind='scatter',x='distance',y='average_watts', ax=ax2 ,color='green')\n",
    "fig.tight_layout()"
   ]
  },
  {
   "cell_type": "markdown",
   "metadata": {},
   "source": [
    "* There is almost a linear relation between Distance and TSS. As the distance increases the TSS also increases. Whereas when we look at distance and average_watts."
   ]
  },
  {
   "cell_type": "code",
   "execution_count": 158,
   "metadata": {},
   "outputs": [
    {
     "data": {
      "text/plain": [
       "Text(0.5, 0, 'time in secs')"
      ]
     },
     "execution_count": 158,
     "metadata": {},
     "output_type": "execute_result"
    },
    {
     "data": {
      "image/png": "[encoded data removed]",
      "text/plain": [
       "<Figure size 432x288 with 1 Axes>"
      ]
     },
     "metadata": {},
     "output_type": "display_data"
    }
   ],
   "source": [
    "pd.to_timedelta(joined_df['time']).dt.total_seconds().plot.hist(bins=15)\n",
    "plt.xlabel('time in secs')"
   ]
  },
  {
   "cell_type": "markdown",
   "metadata": {},
   "source": [
    "* When time is looked at in seconds it seems that the graph is right skewed"
   ]
  },
  {
   "cell_type": "code",
   "execution_count": 18,
   "metadata": {},
   "outputs": [
    {
     "data": {
      "text/plain": [
       "average_heartrate      0.135448\n",
       "average_temp          -0.138575\n",
       "average_watts          0.721977\n",
       "device_watts          -2.061194\n",
       "distance               0.616377\n",
       "                         ...   \n",
       "Rest HF                0.000000\n",
       "HRV Recovery Points    0.000000\n",
       "NP                    -1.486573\n",
       "IF                    -1.486573\n",
       "TSS                    1.016523\n",
       "Length: 367, dtype: float64"
      ]
     },
     "execution_count": 18,
     "metadata": {},
     "output_type": "execute_result"
    }
   ],
   "source": [
    "joined_df.skew(axis=0, skipna=True)"
   ]
  },
  {
   "cell_type": "markdown",
   "metadata": {},
   "source": [
    "Observations: From the skew() in-built function we get the skewness of the data over a requested axis wherein a value closer to 0 represents a normal distribution. Here axis=0 uses index for calculating the skewness."
   ]
  },
  {
   "cell_type": "code",
   "execution_count": 19,
   "metadata": {},
   "outputs": [
    {
     "data": {
      "text/plain": [
       "0.9192349053747003"
      ]
     },
     "execution_count": 19,
     "metadata": {},
     "output_type": "execute_result"
    }
   ],
   "source": [
    "joined_df['distance'].corr(joined_df['moving_time'])"
   ]
  },
  {
   "cell_type": "code",
   "execution_count": 20,
   "metadata": {},
   "outputs": [
    {
     "data": {
      "text/plain": [
       "0.3751988307028401"
      ]
     },
     "execution_count": 20,
     "metadata": {},
     "output_type": "execute_result"
    }
   ],
   "source": [
    "joined_df['NP'].corr(joined_df['average_heartrate'])"
   ]
  },
  {
   "cell_type": "markdown",
   "metadata": {},
   "source": [
    "* Heatmap : A rectangular color encoded matrix which shows the correlation between variables on a scale of 1 to -1. Wherein 1 represents high correlation and -1 the least. Dark blue colors here represent higher correlation."
   ]
  },
  {
   "cell_type": "code",
   "execution_count": 21,
   "metadata": {},
   "outputs": [],
   "source": [
    "import seaborn as sns\n",
    "from pandas import DataFrame"
   ]
  },
  {
   "cell_type": "code",
   "execution_count": 38,
   "metadata": {},
   "outputs": [],
   "source": [
    "indexes = joined_df[['distance','moving_time','Average Speed', 'Average Heart Rate','Average Power','NP', 'elevation_gain', 'TSS']]"
   ]
  },
  {
   "cell_type": "code",
   "execution_count": 39,
   "metadata": {},
   "outputs": [
    {
     "data": {
      "text/plain": [
       "[Text(0.5, 0, 'distance'),\n",
       " Text(1.5, 0, 'moving_time'),\n",
       " Text(2.5, 0, 'Average Speed'),\n",
       " Text(3.5, 0, 'Average Heart Rate'),\n",
       " Text(4.5, 0, 'Average Power'),\n",
       " Text(5.5, 0, 'NP'),\n",
       " Text(6.5, 0, 'TSS')]"
      ]
     },
     "execution_count": 39,
     "metadata": {},
     "output_type": "execute_result"
    },
    {
     "data": {
      "image/png": "[encoded data removed]",
      "text/plain": [
       "<Figure size 432x288 with 2 Axes>"
      ]
     },
     "metadata": {},
     "output_type": "display_data"
    }
   ],
   "source": [
    "corr =indexes.corr()\n",
    "ax = sns.heatmap(corr, vmin = -1,vmax=1, cmap='RdYlBu')\n",
    "ax.set_xticklabels(ax.get_xticklabels(),rotation=45,horizontalalignment='right')"
   ]
  },
  {
   "cell_type": "markdown",
   "metadata": {},
   "source": [
    "1. Distance is highly related to TSS and moving_time which is represented by darked shades of blue. It is obvious that as the distance increases the moving_time increases and it has an impact on Training Stress Score. Higher the TSS value indicates a higher difficulty level of the workout_type.  \n",
    "2. Average Speed has a high relation to Average Power which is then followed by NP. While the distance has almost a value of 0.4 \n",
    "3. Lower relation is observed in Average speed, Average Power and moving_time. This reflects that moving_time of a ride doesn't have a much impact on the average speed or power of the ride.\n",
    "4. One more highly evident relation is between Average Power and NP."
   ]
  },
  {
   "cell_type": "code",
   "execution_count": 24,
   "metadata": {},
   "outputs": [
    {
     "data": {
      "text/plain": [
       "distance              0.616377\n",
       "moving_time           0.612342\n",
       "Average Speed        -0.987502\n",
       "Average Heart Rate   -1.965619\n",
       "Average Power        -1.063853\n",
       "NP                   -1.486573\n",
       "dtype: float64"
      ]
     },
     "execution_count": 24,
     "metadata": {},
     "output_type": "execute_result"
    }
   ],
   "source": [
    "indexes.skew(axis=0, skipna=True)"
   ]
  },
  {
   "cell_type": "code",
   "execution_count": 27,
   "metadata": {},
   "outputs": [
    {
     "data": {
      "image/png": "[encoded data removed]",
      "text/plain": [
       "<Figure size 432x288 with 1 Axes>"
      ]
     },
     "metadata": {
      "needs_background": "light"
     },
     "output_type": "display_data"
    }
   ],
   "source": [
    "p = sns.distplot(joined_df.NP)\n",
    "plt.show()"
   ]
  },
  {
   "cell_type": "markdown",
   "metadata": {},
   "source": [
    "# 4. Some of the rides are designated as \"Race\" in the workout_type field, these are where I am racing and you might expect that these would be the most challenging rides. Normalised Power (NP) is a good measure of how hard a ride is. Explore the values of NP for races vs the overall set of rides to see if this hypothesis is supported (use graphs and summary statistics). Are races more challenging than rides in general?"
   ]
  },
  {
   "cell_type": "code",
   "execution_count": 159,
   "metadata": {},
   "outputs": [
    {
     "data": {
      "text/plain": [
       "array(['Ride', 'Race', 'Workout'], dtype=object)"
      ]
     },
     "execution_count": 159,
     "metadata": {},
     "output_type": "execute_result"
    }
   ],
   "source": [
    "joined_df['workout_type'].unique()"
   ]
  },
  {
   "cell_type": "code",
   "execution_count": 160,
   "metadata": {},
   "outputs": [
    {
     "data": {
      "text/html": [
       "<div>\n",
       "<style scoped>\n",
       "    .dataframe tbody tr th:only-of-type {\n",
       "        vertical-align: middle;\n",
       "    }\n",
       "\n",
       "    .dataframe tbody tr th {\n",
       "        vertical-align: top;\n",
       "    }\n",
       "\n",
       "    .dataframe thead th {\n",
       "        text-align: right;\n",
       "    }\n",
       "</style>\n",
       "<table border=\"1\" class=\"dataframe\">\n",
       "  <thead>\n",
       "    <tr style=\"text-align: right;\">\n",
       "      <th></th>\n",
       "      <th>average_heartrate</th>\n",
       "      <th>average_temp</th>\n",
       "      <th>average_watts</th>\n",
       "      <th>distance</th>\n",
       "      <th>elapsed_time</th>\n",
       "      <th>kudos</th>\n",
       "      <th>moving_time</th>\n",
       "      <th>axPower</th>\n",
       "      <th>aPower Relative Intensity</th>\n",
       "      <th>aBikeScore</th>\n",
       "      <th>...</th>\n",
       "      <th>Rest AVNN</th>\n",
       "      <th>Rest SDNN</th>\n",
       "      <th>Rest rMSSD</th>\n",
       "      <th>Rest PNN50</th>\n",
       "      <th>Rest LF</th>\n",
       "      <th>Rest HF</th>\n",
       "      <th>HRV Recovery Points</th>\n",
       "      <th>NP</th>\n",
       "      <th>IF</th>\n",
       "      <th>TSS</th>\n",
       "    </tr>\n",
       "    <tr>\n",
       "      <th>workout_type</th>\n",
       "      <th></th>\n",
       "      <th></th>\n",
       "      <th></th>\n",
       "      <th></th>\n",
       "      <th></th>\n",
       "      <th></th>\n",
       "      <th></th>\n",
       "      <th></th>\n",
       "      <th></th>\n",
       "      <th></th>\n",
       "      <th></th>\n",
       "      <th></th>\n",
       "      <th></th>\n",
       "      <th></th>\n",
       "      <th></th>\n",
       "      <th></th>\n",
       "      <th></th>\n",
       "      <th></th>\n",
       "      <th></th>\n",
       "      <th></th>\n",
       "      <th></th>\n",
       "    </tr>\n",
       "  </thead>\n",
       "  <tbody>\n",
       "    <tr>\n",
       "      <td>Race</td>\n",
       "      <td>145.10</td>\n",
       "      <td>14.0</td>\n",
       "      <td>215.50</td>\n",
       "      <td>32.10</td>\n",
       "      <td>54.0</td>\n",
       "      <td>16.0</td>\n",
       "      <td>54.0</td>\n",
       "      <td>234.7840</td>\n",
       "      <td>0.876062</td>\n",
       "      <td>73.69025</td>\n",
       "      <td>...</td>\n",
       "      <td>0.0</td>\n",
       "      <td>0.0</td>\n",
       "      <td>0.0</td>\n",
       "      <td>0.0</td>\n",
       "      <td>0.0</td>\n",
       "      <td>0.0</td>\n",
       "      <td>0.0</td>\n",
       "      <td>257.1700</td>\n",
       "      <td>0.959591</td>\n",
       "      <td>84.62545</td>\n",
       "    </tr>\n",
       "    <tr>\n",
       "      <td>Ride</td>\n",
       "      <td>119.95</td>\n",
       "      <td>15.0</td>\n",
       "      <td>151.35</td>\n",
       "      <td>26.15</td>\n",
       "      <td>93.5</td>\n",
       "      <td>10.0</td>\n",
       "      <td>81.5</td>\n",
       "      <td>189.9235</td>\n",
       "      <td>0.708670</td>\n",
       "      <td>48.39475</td>\n",
       "      <td>...</td>\n",
       "      <td>0.0</td>\n",
       "      <td>0.0</td>\n",
       "      <td>0.0</td>\n",
       "      <td>0.0</td>\n",
       "      <td>0.0</td>\n",
       "      <td>0.0</td>\n",
       "      <td>0.0</td>\n",
       "      <td>211.3445</td>\n",
       "      <td>0.788600</td>\n",
       "      <td>57.35585</td>\n",
       "    </tr>\n",
       "    <tr>\n",
       "      <td>Workout</td>\n",
       "      <td>125.10</td>\n",
       "      <td>11.0</td>\n",
       "      <td>185.70</td>\n",
       "      <td>25.50</td>\n",
       "      <td>60.0</td>\n",
       "      <td>7.0</td>\n",
       "      <td>60.0</td>\n",
       "      <td>212.9850</td>\n",
       "      <td>0.794720</td>\n",
       "      <td>67.12280</td>\n",
       "      <td>...</td>\n",
       "      <td>0.0</td>\n",
       "      <td>0.0</td>\n",
       "      <td>0.0</td>\n",
       "      <td>0.0</td>\n",
       "      <td>0.0</td>\n",
       "      <td>0.0</td>\n",
       "      <td>0.0</td>\n",
       "      <td>224.1090</td>\n",
       "      <td>0.836229</td>\n",
       "      <td>73.74900</td>\n",
       "    </tr>\n",
       "  </tbody>\n",
       "</table>\n",
       "<p>3 rows × 366 columns</p>\n",
       "</div>"
      ],
      "text/plain": [
       "              average_heartrate  average_temp  average_watts  distance  \\\n",
       "workout_type                                                             \n",
       "Race                     145.10          14.0         215.50     32.10   \n",
       "Ride                     119.95          15.0         151.35     26.15   \n",
       "Workout                  125.10          11.0         185.70     25.50   \n",
       "\n",
       "              elapsed_time  kudos  moving_time   axPower  \\\n",
       "workout_type                                               \n",
       "Race                  54.0   16.0         54.0  234.7840   \n",
       "Ride                  93.5   10.0         81.5  189.9235   \n",
       "Workout               60.0    7.0         60.0  212.9850   \n",
       "\n",
       "              aPower Relative Intensity  aBikeScore  ...  Rest AVNN  \\\n",
       "workout_type                                         ...              \n",
       "Race                           0.876062    73.69025  ...        0.0   \n",
       "Ride                           0.708670    48.39475  ...        0.0   \n",
       "Workout                        0.794720    67.12280  ...        0.0   \n",
       "\n",
       "              Rest SDNN  Rest rMSSD  Rest PNN50  Rest LF  Rest HF  \\\n",
       "workout_type                                                        \n",
       "Race                0.0         0.0         0.0      0.0      0.0   \n",
       "Ride                0.0         0.0         0.0      0.0      0.0   \n",
       "Workout             0.0         0.0         0.0      0.0      0.0   \n",
       "\n",
       "              HRV Recovery Points        NP        IF       TSS  \n",
       "workout_type                                                     \n",
       "Race                          0.0  257.1700  0.959591  84.62545  \n",
       "Ride                          0.0  211.3445  0.788600  57.35585  \n",
       "Workout                       0.0  224.1090  0.836229  73.74900  \n",
       "\n",
       "[3 rows x 366 columns]"
      ]
     },
     "execution_count": 160,
     "metadata": {},
     "output_type": "execute_result"
    }
   ],
   "source": [
    "joined_df.groupby('workout_type').median()"
   ]
  },
  {
   "cell_type": "markdown",
   "metadata": {},
   "source": [
    "* If the rides are grouped by the 'workout_type' field and median of those values is taken it is evident Normalized power of the workout_type Race is the highest. It can be considered as an indicator of how challenging the workout type is. "
   ]
  },
  {
   "cell_type": "code",
   "execution_count": 115,
   "metadata": {},
   "outputs": [
    {
     "data": {
      "image/png": "[encoded data removed]",
      "text/plain": [
       "<Figure size 360x360 with 6 Axes>"
      ]
     },
     "metadata": {},
     "output_type": "display_data"
    }
   ],
   "source": [
    "import seaborn as sns\n",
    "import matplotlib.pyplot as plt\n",
    "sns.set(style=\"ticks\", color_codes=True)\n",
    "pp = sns.pairplot(joined_df, vars=['workout_type', 'NP'])\n",
    "\n",
    "plt.show()"
   ]
  },
  {
   "cell_type": "code",
   "execution_count": 178,
   "metadata": {},
   "outputs": [],
   "source": [
    "races_df = joined_df[joined_df['workout_type'] == 'Race']\n",
    "exclude_race_df= joined_df[joined_df['workout_type'] != 'Race']"
   ]
  },
  {
   "cell_type": "code",
   "execution_count": 173,
   "metadata": {},
   "outputs": [],
   "source": [
    "race_avh= races_df['average_heartrate'].mean()\n",
    "exclude_race_avh= exclude_race_df['average_heartrate'].mean()\n",
    "\n",
    "df= pd.DataFrame({'label':['Races','Excluding Races'], 'val':[race_avh,exclude_race_avh]})"
   ]
  },
  {
   "cell_type": "code",
   "execution_count": 174,
   "metadata": {},
   "outputs": [
    {
     "data": {
      "image/png": "[encoded data removed]",
      "text/plain": [
       "<Figure size 432x288 with 1 Axes>"
      ]
     },
     "metadata": {},
     "output_type": "display_data"
    }
   ],
   "source": [
    "ax = df.plot.bar(x='label', y='val', rot=0)"
   ]
  },
  {
   "cell_type": "code",
   "execution_count": 175,
   "metadata": {},
   "outputs": [
    {
     "name": "stdout",
     "output_type": "stream",
     "text": [
      "{17.962568342807046}\n"
     ]
    }
   ],
   "source": [
    "surplus = {(race_avh-exclude_race_avh)/race_avh * 100}\n",
    "print(surplus)"
   ]
  },
  {
   "cell_type": "markdown",
   "metadata": {},
   "source": [
    "Observation : From the above bar plot it is evident that the average heart rate is higher (17.96%) when the activity type is Races and lower if not in Races."
   ]
  },
  {
   "cell_type": "code",
   "execution_count": 197,
   "metadata": {},
   "outputs": [
    {
     "data": {
      "image/png": "[encoded data removed]",
      "text/plain": [
       "<Figure size 432x288 with 1 Axes>"
      ]
     },
     "metadata": {},
     "output_type": "display_data"
    }
   ],
   "source": [
    "#joined_df.plot(kind='scatter',x='distance',y='average_watts' ,color='green')\n",
    "import matplotlib.pyplot as plt\n",
    "\n",
    "plt.scatter(races_df['NP'], races_df['average_heartrate'],  label='Race')\n",
    "plt.scatter(exclude_race_df['NP'], exclude_race_df['average_heartrate'], label='Not a Race')\n",
    "plt.legend(scatterpoints=1,loc='upper left', ncol=1, fontsize=10)\n",
    "plt.xlabel('NP')\n",
    "plt.ylabel('Average_heartrate')\n",
    "plt.show()"
   ]
  },
  {
   "cell_type": "markdown",
   "metadata": {},
   "source": [
    "* From the scatter plot we can observe that the average_heartrate for workout_type Race is higher as compared to other workout types. This could be seen as a indicator of Races being challenging"
   ]
  },
  {
   "cell_type": "markdown",
   "metadata": {},
   "source": [
    "# 5. It is useful to see a summary of rides over the year. Generate a plot that summarises the number of km ridden each month over the period of the data. Overlay this with the sum of the Training Stress Score and the average of the Average Speed to generate an overall summary of activity."
   ]
  },
  {
   "cell_type": "code",
   "execution_count": 137,
   "metadata": {},
   "outputs": [],
   "source": [
    "ride_summary=joined_df.groupby(['Date', 'workout_type', 'TSS','Average Speed']).sum()"
   ]
  },
  {
   "cell_type": "code",
   "execution_count": 138,
   "metadata": {},
   "outputs": [
    {
     "data": {
      "image/png": "[encoded data removed]",
      "text/plain": [
       "<Figure size 720x720 with 20 Axes>"
      ]
     },
     "metadata": {},
     "output_type": "display_data"
    }
   ],
   "source": [
    "rs = sns.pairplot(joined_df, vars=['Date', 'workout_type', 'TSS','Average Speed'])"
   ]
  },
  {
   "cell_type": "code",
   "execution_count": 220,
   "metadata": {},
   "outputs": [
    {
     "data": {
      "text/plain": [
       "Int64Index([1, 2, 3, 4, 5, 6, 7, 8, 9, 10, 11, 12], dtype='int64')"
      ]
     },
     "execution_count": 220,
     "metadata": {},
     "output_type": "execute_result"
    }
   ],
   "source": [
    "month_df=joined_df.groupby([joined_df.index.month]).sum()\n",
    "month_df.index"
   ]
  },
  {
   "cell_type": "code",
   "execution_count": 219,
   "metadata": {},
   "outputs": [
    {
     "data": {
      "text/plain": [
       "<matplotlib.axes._subplots.AxesSubplot at 0x278ae53efc8>"
      ]
     },
     "execution_count": 219,
     "metadata": {},
     "output_type": "execute_result"
    },
    {
     "data": {
      "image/png": "[encoded data removed]",
      "text/plain": [
       "<Figure size 432x288 with 1 Axes>"
      ]
     },
     "metadata": {},
     "output_type": "display_data"
    }
   ],
   "source": [
    "month_df[['distance','TSS','Average Speed']].plot()"
   ]
  },
  {
   "cell_type": "markdown",
   "metadata": {},
   "source": [
    "Observation: From the plot it seems that the highest activity was between February and April"
   ]
  },
  {
   "cell_type": "markdown",
   "metadata": {},
   "source": [
    "# What leads to more kudos? Is there anything to indicate which rides are more popular? Explore the relationship between the main variables and kudos. Show a plot and comment on any relationship you observe."
   ]
  },
  {
   "cell_type": "code",
   "execution_count": 237,
   "metadata": {},
   "outputs": [
    {
     "data": {
      "text/plain": [
       "average_heartrate      0.372500\n",
       "average_temp          -0.019307\n",
       "average_watts          0.264645\n",
       "distance               0.743757\n",
       "elapsed_time           0.266218\n",
       "                         ...   \n",
       "Rest HF                     NaN\n",
       "HRV Recovery Points         NaN\n",
       "NP                     0.241040\n",
       "IF                     0.241040\n",
       "TSS                    0.626638\n",
       "Name: kudos, Length: 366, dtype: float64"
      ]
     },
     "execution_count": 237,
     "metadata": {},
     "output_type": "execute_result"
    }
   ],
   "source": [
    "corr1 = joined_df.corr()\n",
    "corr1.kudos"
   ]
  },
  {
   "cell_type": "code",
   "execution_count": 233,
   "metadata": {},
   "outputs": [
    {
     "data": {
      "text/html": [
       "<div>\n",
       "<style scoped>\n",
       "    .dataframe tbody tr th:only-of-type {\n",
       "        vertical-align: middle;\n",
       "    }\n",
       "\n",
       "    .dataframe tbody tr th {\n",
       "        vertical-align: top;\n",
       "    }\n",
       "\n",
       "    .dataframe thead th {\n",
       "        text-align: right;\n",
       "    }\n",
       "</style>\n",
       "<table border=\"1\" class=\"dataframe\">\n",
       "  <thead>\n",
       "    <tr style=\"text-align: right;\">\n",
       "      <th></th>\n",
       "      <th>distance</th>\n",
       "      <th>moving_time</th>\n",
       "      <th>Average Speed</th>\n",
       "      <th>Average Heart Rate</th>\n",
       "      <th>Average Power</th>\n",
       "      <th>NP</th>\n",
       "      <th>TSS</th>\n",
       "    </tr>\n",
       "  </thead>\n",
       "  <tbody>\n",
       "    <tr>\n",
       "      <td>distance</td>\n",
       "      <td>1.000000</td>\n",
       "      <td>0.919235</td>\n",
       "      <td>0.354813</td>\n",
       "      <td>0.184272</td>\n",
       "      <td>0.283746</td>\n",
       "      <td>0.347391</td>\n",
       "      <td>0.880188</td>\n",
       "    </tr>\n",
       "    <tr>\n",
       "      <td>moving_time</td>\n",
       "      <td>0.919235</td>\n",
       "      <td>1.000000</td>\n",
       "      <td>0.024566</td>\n",
       "      <td>0.057413</td>\n",
       "      <td>0.011593</td>\n",
       "      <td>0.093727</td>\n",
       "      <td>0.781805</td>\n",
       "    </tr>\n",
       "    <tr>\n",
       "      <td>Average Speed</td>\n",
       "      <td>0.354813</td>\n",
       "      <td>0.024566</td>\n",
       "      <td>1.000000</td>\n",
       "      <td>0.316336</td>\n",
       "      <td>0.775712</td>\n",
       "      <td>0.707347</td>\n",
       "      <td>0.340263</td>\n",
       "    </tr>\n",
       "    <tr>\n",
       "      <td>Average Heart Rate</td>\n",
       "      <td>0.184272</td>\n",
       "      <td>0.057413</td>\n",
       "      <td>0.316336</td>\n",
       "      <td>1.000000</td>\n",
       "      <td>0.335747</td>\n",
       "      <td>0.264890</td>\n",
       "      <td>0.209751</td>\n",
       "    </tr>\n",
       "    <tr>\n",
       "      <td>Average Power</td>\n",
       "      <td>0.283746</td>\n",
       "      <td>0.011593</td>\n",
       "      <td>0.775712</td>\n",
       "      <td>0.335747</td>\n",
       "      <td>1.000000</td>\n",
       "      <td>0.955567</td>\n",
       "      <td>0.500283</td>\n",
       "    </tr>\n",
       "    <tr>\n",
       "      <td>NP</td>\n",
       "      <td>0.347391</td>\n",
       "      <td>0.093727</td>\n",
       "      <td>0.707347</td>\n",
       "      <td>0.264890</td>\n",
       "      <td>0.955567</td>\n",
       "      <td>1.000000</td>\n",
       "      <td>0.591343</td>\n",
       "    </tr>\n",
       "    <tr>\n",
       "      <td>TSS</td>\n",
       "      <td>0.880188</td>\n",
       "      <td>0.781805</td>\n",
       "      <td>0.340263</td>\n",
       "      <td>0.209751</td>\n",
       "      <td>0.500283</td>\n",
       "      <td>0.591343</td>\n",
       "      <td>1.000000</td>\n",
       "    </tr>\n",
       "  </tbody>\n",
       "</table>\n",
       "</div>"
      ],
      "text/plain": [
       "                    distance  moving_time  Average Speed  Average Heart Rate  \\\n",
       "distance            1.000000     0.919235       0.354813            0.184272   \n",
       "moving_time         0.919235     1.000000       0.024566            0.057413   \n",
       "Average Speed       0.354813     0.024566       1.000000            0.316336   \n",
       "Average Heart Rate  0.184272     0.057413       0.316336            1.000000   \n",
       "Average Power       0.283746     0.011593       0.775712            0.335747   \n",
       "NP                  0.347391     0.093727       0.707347            0.264890   \n",
       "TSS                 0.880188     0.781805       0.340263            0.209751   \n",
       "\n",
       "                    Average Power        NP       TSS  \n",
       "distance                 0.283746  0.347391  0.880188  \n",
       "moving_time              0.011593  0.093727  0.781805  \n",
       "Average Speed            0.775712  0.707347  0.340263  \n",
       "Average Heart Rate       0.335747  0.264890  0.209751  \n",
       "Average Power            1.000000  0.955567  0.500283  \n",
       "NP                       0.955567  1.000000  0.591343  \n",
       "TSS                      0.500283  0.591343  1.000000  "
      ]
     },
     "execution_count": 233,
     "metadata": {},
     "output_type": "execute_result"
    }
   ],
   "source": [
    "indexes = indexes"
   ]
  },
  {
   "cell_type": "code",
   "execution_count": null,
   "metadata": {},
   "outputs": [],
   "source": []
  }
 ],
 "metadata": {
  "kernelspec": {
   "display_name": "Python 3",
   "language": "python",
   "name": "python3"
  },
  "language_info": {
   "codemirror_mode": {
    "name": "ipython",
    "version": 3
   },
   "file_extension": ".py",
   "mimetype": "text/x-python",
   "name": "python",
   "nbconvert_exporter": "python",
   "pygments_lexer": "ipython3",
   "version": "3.7.4"
  }
 },
 "nbformat": 4,
 "nbformat_minor": 2
}
