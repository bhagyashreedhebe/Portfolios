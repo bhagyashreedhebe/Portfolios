{
 "cells": [
  {
   "cell_type": "code",
   "execution_count": 1,
   "metadata": {},
   "outputs": [],
   "source": [
    "import pandas as pd\n",
    "from matplotlib import pyplot as plt\n",
    "from datetime import timedelta\n",
    "plt.style.use('seaborn')\n",
    "%matplotlib inline"
   ]
  },
  {
   "cell_type": "markdown",
   "metadata": {},
   "source": [
    "# Analysis of Cycling Data\n",
    "\n",
    "## Loading Data\n",
    "\n",
    "The first dataset is an export of my ride data from [Strava](https://strava.com/), an online social \n",
    "network site for cycling and other sports.  This data is a log of every ride since the start of 2018\n",
    "and contains summary data like the distance and average speed.  It was exported using \n",
    "the script `scripts/stravaget.py` which uses the stravalib module to read data. Some details of\n",
    "the fields exported by that script can be seen in [the documentation for stravalib](https://pythonhosted.org/stravalib/api.html#stravalib.model.Activity). \n",
    "\n",
    "The exported data is a CSV file so that's easy to read, however the date information in the file is \n",
    "recorded in a different timezone (UTC) so we need to do a bit of conversion.  In reading the data I'm\n",
    "setting the index of the data frame to be the datetime of the ride. "
   ]
  },
  {
   "cell_type": "code",
   "execution_count": 2,
   "metadata": {},
   "outputs": [
    {
     "data": {
      "text/html": [
       "<div>\n",
       "<style scoped>\n",
       "    .dataframe tbody tr th:only-of-type {\n",
       "        vertical-align: middle;\n",
       "    }\n",
       "\n",
       "    .dataframe tbody tr th {\n",
       "        vertical-align: top;\n",
       "    }\n",
       "\n",
       "    .dataframe thead th {\n",
       "        text-align: right;\n",
       "    }\n",
       "</style>\n",
       "<table border=\"1\" class=\"dataframe\">\n",
       "  <thead>\n",
       "    <tr style=\"text-align: right;\">\n",
       "      <th></th>\n",
       "      <th>average_heartrate</th>\n",
       "      <th>average_temp</th>\n",
       "      <th>average_watts</th>\n",
       "      <th>device_watts</th>\n",
       "      <th>distance</th>\n",
       "      <th>elapsed_time</th>\n",
       "      <th>elevation_gain</th>\n",
       "      <th>kudos</th>\n",
       "      <th>moving_time</th>\n",
       "      <th>workout_type</th>\n",
       "    </tr>\n",
       "    <tr>\n",
       "      <th>date</th>\n",
       "      <th></th>\n",
       "      <th></th>\n",
       "      <th></th>\n",
       "      <th></th>\n",
       "      <th></th>\n",
       "      <th></th>\n",
       "      <th></th>\n",
       "      <th></th>\n",
       "      <th></th>\n",
       "      <th></th>\n",
       "    </tr>\n",
       "  </thead>\n",
       "  <tbody>\n",
       "    <tr>\n",
       "      <td>2018-01-02 20:47:51+00:00</td>\n",
       "      <td>100.6</td>\n",
       "      <td>21.0</td>\n",
       "      <td>73.8</td>\n",
       "      <td>False</td>\n",
       "      <td>15.2</td>\n",
       "      <td>94</td>\n",
       "      <td>316.00 m</td>\n",
       "      <td>10</td>\n",
       "      <td>73</td>\n",
       "      <td>Ride</td>\n",
       "    </tr>\n",
       "    <tr>\n",
       "      <td>2018-01-04 01:36:53+00:00</td>\n",
       "      <td>NaN</td>\n",
       "      <td>24.0</td>\n",
       "      <td>131.7</td>\n",
       "      <td>False</td>\n",
       "      <td>18.0</td>\n",
       "      <td>52</td>\n",
       "      <td>236.00 m</td>\n",
       "      <td>5</td>\n",
       "      <td>46</td>\n",
       "      <td>Ride</td>\n",
       "    </tr>\n",
       "    <tr>\n",
       "      <td>2018-01-04 02:56:00+00:00</td>\n",
       "      <td>83.1</td>\n",
       "      <td>25.0</td>\n",
       "      <td>13.8</td>\n",
       "      <td>False</td>\n",
       "      <td>0.0</td>\n",
       "      <td>3</td>\n",
       "      <td>0.00 m</td>\n",
       "      <td>2</td>\n",
       "      <td>2</td>\n",
       "      <td>Ride</td>\n",
       "    </tr>\n",
       "    <tr>\n",
       "      <td>2018-01-04 05:37:04+00:00</td>\n",
       "      <td>110.1</td>\n",
       "      <td>24.0</td>\n",
       "      <td>113.6</td>\n",
       "      <td>False</td>\n",
       "      <td>22.9</td>\n",
       "      <td>77</td>\n",
       "      <td>246.00 m</td>\n",
       "      <td>8</td>\n",
       "      <td>64</td>\n",
       "      <td>Ride</td>\n",
       "    </tr>\n",
       "    <tr>\n",
       "      <td>2018-01-05 19:22:46+00:00</td>\n",
       "      <td>110.9</td>\n",
       "      <td>20.0</td>\n",
       "      <td>147.7</td>\n",
       "      <td>True</td>\n",
       "      <td>58.4</td>\n",
       "      <td>189</td>\n",
       "      <td>676.00 m</td>\n",
       "      <td>12</td>\n",
       "      <td>144</td>\n",
       "      <td>Ride</td>\n",
       "    </tr>\n",
       "  </tbody>\n",
       "</table>\n",
       "</div>"
      ],
      "text/plain": [
       "                           average_heartrate  average_temp  average_watts  \\\n",
       "date                                                                        \n",
       "2018-01-02 20:47:51+00:00              100.6          21.0           73.8   \n",
       "2018-01-04 01:36:53+00:00                NaN          24.0          131.7   \n",
       "2018-01-04 02:56:00+00:00               83.1          25.0           13.8   \n",
       "2018-01-04 05:37:04+00:00              110.1          24.0          113.6   \n",
       "2018-01-05 19:22:46+00:00              110.9          20.0          147.7   \n",
       "\n",
       "                          device_watts  distance  elapsed_time elevation_gain  \\\n",
       "date                                                                            \n",
       "2018-01-02 20:47:51+00:00        False      15.2            94       316.00 m   \n",
       "2018-01-04 01:36:53+00:00        False      18.0            52       236.00 m   \n",
       "2018-01-04 02:56:00+00:00        False       0.0             3         0.00 m   \n",
       "2018-01-04 05:37:04+00:00        False      22.9            77       246.00 m   \n",
       "2018-01-05 19:22:46+00:00         True      58.4           189       676.00 m   \n",
       "\n",
       "                           kudos  moving_time workout_type  \n",
       "date                                                        \n",
       "2018-01-02 20:47:51+00:00     10           73         Ride  \n",
       "2018-01-04 01:36:53+00:00      5           46         Ride  \n",
       "2018-01-04 02:56:00+00:00      2            2         Ride  \n",
       "2018-01-04 05:37:04+00:00      8           64         Ride  \n",
       "2018-01-05 19:22:46+00:00     12          144         Ride  "
      ]
     },
     "execution_count": 2,
     "metadata": {},
     "output_type": "execute_result"
    }
   ],
   "source": [
    "strava = pd.read_csv('data/strava_export.csv', index_col='date', parse_dates=True)\n",
    "strava.head()"
   ]
  },
  {
   "cell_type": "code",
   "execution_count": 3,
   "metadata": {},
   "outputs": [
    {
     "data": {
      "text/plain": [
       "<matplotlib.axes._subplots.AxesSubplot at 0x2015eb99bc8>"
      ]
     },
     "execution_count": 3,
     "metadata": {},
     "output_type": "execute_result"
    },
    {
     "data": {
      "image/png": "[encoded data removed]",
      "text/plain": [
       "<Figure size 432x288 with 1 Axes>"
      ]
     },
     "metadata": {
      "needs_background": "light"
     },
     "output_type": "display_data"
    }
   ],
   "source": [
    "strava['average_heartrate'].plot.box(vert=False)"
   ]
  },
  {
   "cell_type": "code",
   "execution_count": 4,
   "metadata": {},
   "outputs": [
    {
     "data": {
      "text/plain": [
       "<matplotlib.axes._subplots.AxesSubplot at 0x2015ee08c08>"
      ]
     },
     "execution_count": 4,
     "metadata": {},
     "output_type": "execute_result"
    },
    {
     "data": {
      "image/png": "[encoded data removed]",
      "text/plain": [
       "<Figure size 432x288 with 1 Axes>"
      ]
     },
     "metadata": {
      "needs_background": "light"
     },
     "output_type": "display_data"
    }
   ],
   "source": [
    "strava['average_heartrate'].plot()"
   ]
  },
  {
   "cell_type": "code",
   "execution_count": 5,
   "metadata": {},
   "outputs": [
    {
     "data": {
      "text/plain": [
       "<matplotlib.axes._subplots.AxesSubplot at 0x2015afde2c8>"
      ]
     },
     "execution_count": 5,
     "metadata": {},
     "output_type": "execute_result"
    },
    {
     "data": {
      "image/png": "[encoded data removed]",
      "text/plain": [
       "<Figure size 432x288 with 1 Axes>"
      ]
     },
     "metadata": {
      "needs_background": "light"
     },
     "output_type": "display_data"
    }
   ],
   "source": [
    "strava['average_heartrate'].plot.hist()"
   ]
  },
  {
   "cell_type": "code",
   "execution_count": 6,
   "metadata": {},
   "outputs": [
    {
     "name": "stdout",
     "output_type": "stream",
     "text": [
      "<class 'pandas.core.frame.DataFrame'>\n",
      "DatetimeIndex: 268 entries, 2018-01-02 20:47:51+00:00 to 2019-07-27 23:55:13+00:00\n",
      "Data columns (total 10 columns):\n",
      "average_heartrate    232 non-null float64\n",
      "average_temp         204 non-null float64\n",
      "average_watts        254 non-null float64\n",
      "device_watts         260 non-null object\n",
      "distance             268 non-null float64\n",
      "elapsed_time         268 non-null int64\n",
      "elevation_gain       268 non-null object\n",
      "kudos                268 non-null int64\n",
      "moving_time          268 non-null int64\n",
      "workout_type         268 non-null object\n",
      "dtypes: float64(4), int64(3), object(3)\n",
      "memory usage: 23.0+ KB\n"
     ]
    }
   ],
   "source": [
    "strava.info()"
   ]
  },
  {
   "cell_type": "markdown",
   "metadata": {},
   "source": [
    "The second dataset comes from an application called [GoldenCheetah](https://www.goldencheetah.org/) which provides\n",
    "some analytics services over ride data.  This has some of the same fields but adds a lot of analysis of the \n",
    "power, speed and heart rate data in each ride.  This data overlaps with the Strava data but doesn't include all \n",
    "of the same rides. \n",
    "\n",
    "Again we create an index using the datetime for each ride, this time combining two columns in the data (date and time) \n",
    "and localising to Sydney so that the times match those for the Strava data. "
   ]
  },
  {
   "cell_type": "code",
   "execution_count": 7,
   "metadata": {
    "scrolled": true
   },
   "outputs": [
    {
     "data": {
      "text/html": [
       "<div>\n",
       "<style scoped>\n",
       "    .dataframe tbody tr th:only-of-type {\n",
       "        vertical-align: middle;\n",
       "    }\n",
       "\n",
       "    .dataframe tbody tr th {\n",
       "        vertical-align: top;\n",
       "    }\n",
       "\n",
       "    .dataframe thead th {\n",
       "        text-align: right;\n",
       "    }\n",
       "</style>\n",
       "<table border=\"1\" class=\"dataframe\">\n",
       "  <thead>\n",
       "    <tr style=\"text-align: right;\">\n",
       "      <th></th>\n",
       "      <th>date</th>\n",
       "      <th>time</th>\n",
       "      <th>filename</th>\n",
       "      <th>axPower</th>\n",
       "      <th>aPower Relative Intensity</th>\n",
       "      <th>aBikeScore</th>\n",
       "      <th>Skiba aVI</th>\n",
       "      <th>aPower Response Index</th>\n",
       "      <th>aIsoPower</th>\n",
       "      <th>aIF</th>\n",
       "      <th>...</th>\n",
       "      <th>Rest AVNN</th>\n",
       "      <th>Rest SDNN</th>\n",
       "      <th>Rest rMSSD</th>\n",
       "      <th>Rest PNN50</th>\n",
       "      <th>Rest LF</th>\n",
       "      <th>Rest HF</th>\n",
       "      <th>HRV Recovery Points</th>\n",
       "      <th>NP</th>\n",
       "      <th>IF</th>\n",
       "      <th>TSS</th>\n",
       "    </tr>\n",
       "  </thead>\n",
       "  <tbody>\n",
       "    <tr>\n",
       "      <td>2018-01-28 06:39:49+11:00</td>\n",
       "      <td>01/28/18</td>\n",
       "      <td>06:39:49</td>\n",
       "      <td>2018_01_28_06_39_49.json</td>\n",
       "      <td>202.211</td>\n",
       "      <td>0.75452</td>\n",
       "      <td>16.6520</td>\n",
       "      <td>1.31920</td>\n",
       "      <td>1.67755</td>\n",
       "      <td>223.621</td>\n",
       "      <td>0.83441</td>\n",
       "      <td>...</td>\n",
       "      <td>0</td>\n",
       "      <td>0</td>\n",
       "      <td>0</td>\n",
       "      <td>0</td>\n",
       "      <td>0</td>\n",
       "      <td>0</td>\n",
       "      <td>0</td>\n",
       "      <td>222.856</td>\n",
       "      <td>0.83155</td>\n",
       "      <td>20.2257</td>\n",
       "    </tr>\n",
       "    <tr>\n",
       "      <td>2018-01-28 07:01:32+11:00</td>\n",
       "      <td>01/28/18</td>\n",
       "      <td>07:01:32</td>\n",
       "      <td>2018_01_28_07_01_32.json</td>\n",
       "      <td>226.039</td>\n",
       "      <td>0.84343</td>\n",
       "      <td>80.2669</td>\n",
       "      <td>1.21137</td>\n",
       "      <td>1.54250</td>\n",
       "      <td>246.185</td>\n",
       "      <td>0.91860</td>\n",
       "      <td>...</td>\n",
       "      <td>0</td>\n",
       "      <td>0</td>\n",
       "      <td>0</td>\n",
       "      <td>0</td>\n",
       "      <td>0</td>\n",
       "      <td>0</td>\n",
       "      <td>0</td>\n",
       "      <td>245.365</td>\n",
       "      <td>0.91554</td>\n",
       "      <td>94.5787</td>\n",
       "    </tr>\n",
       "    <tr>\n",
       "      <td>2018-02-01 08:13:34+11:00</td>\n",
       "      <td>02/01/18</td>\n",
       "      <td>08:13:34</td>\n",
       "      <td>2018_02_01_08_13_34.json</td>\n",
       "      <td>0.000</td>\n",
       "      <td>0.00000</td>\n",
       "      <td>0.0000</td>\n",
       "      <td>0.00000</td>\n",
       "      <td>0.00000</td>\n",
       "      <td>0.000</td>\n",
       "      <td>0.00000</td>\n",
       "      <td>...</td>\n",
       "      <td>0</td>\n",
       "      <td>0</td>\n",
       "      <td>0</td>\n",
       "      <td>0</td>\n",
       "      <td>0</td>\n",
       "      <td>0</td>\n",
       "      <td>0</td>\n",
       "      <td>0.000</td>\n",
       "      <td>0.00000</td>\n",
       "      <td>0.0000</td>\n",
       "    </tr>\n",
       "    <tr>\n",
       "      <td>2018-02-06 08:06:42+11:00</td>\n",
       "      <td>02/06/18</td>\n",
       "      <td>08:06:42</td>\n",
       "      <td>2018_02_06_08_06_42.json</td>\n",
       "      <td>221.672</td>\n",
       "      <td>0.82714</td>\n",
       "      <td>78.8866</td>\n",
       "      <td>1.35775</td>\n",
       "      <td>1.86002</td>\n",
       "      <td>254.409</td>\n",
       "      <td>0.94929</td>\n",
       "      <td>...</td>\n",
       "      <td>0</td>\n",
       "      <td>0</td>\n",
       "      <td>0</td>\n",
       "      <td>0</td>\n",
       "      <td>0</td>\n",
       "      <td>0</td>\n",
       "      <td>0</td>\n",
       "      <td>253.702</td>\n",
       "      <td>0.94665</td>\n",
       "      <td>98.3269</td>\n",
       "    </tr>\n",
       "    <tr>\n",
       "      <td>2018-02-07 17:59:05+11:00</td>\n",
       "      <td>02/07/18</td>\n",
       "      <td>17:59:05</td>\n",
       "      <td>2018_02_07_17_59_05.json</td>\n",
       "      <td>218.211</td>\n",
       "      <td>0.81422</td>\n",
       "      <td>159.4590</td>\n",
       "      <td>1.47188</td>\n",
       "      <td>1.74658</td>\n",
       "      <td>233.780</td>\n",
       "      <td>0.87231</td>\n",
       "      <td>...</td>\n",
       "      <td>0</td>\n",
       "      <td>0</td>\n",
       "      <td>0</td>\n",
       "      <td>0</td>\n",
       "      <td>0</td>\n",
       "      <td>0</td>\n",
       "      <td>0</td>\n",
       "      <td>232.644</td>\n",
       "      <td>0.86808</td>\n",
       "      <td>171.0780</td>\n",
       "    </tr>\n",
       "  </tbody>\n",
       "</table>\n",
       "<p>5 rows × 362 columns</p>\n",
       "</div>"
      ],
      "text/plain": [
       "                               date      time                  filename  \\\n",
       "2018-01-28 06:39:49+11:00  01/28/18  06:39:49  2018_01_28_06_39_49.json   \n",
       "2018-01-28 07:01:32+11:00  01/28/18  07:01:32  2018_01_28_07_01_32.json   \n",
       "2018-02-01 08:13:34+11:00  02/01/18  08:13:34  2018_02_01_08_13_34.json   \n",
       "2018-02-06 08:06:42+11:00  02/06/18  08:06:42  2018_02_06_08_06_42.json   \n",
       "2018-02-07 17:59:05+11:00  02/07/18  17:59:05  2018_02_07_17_59_05.json   \n",
       "\n",
       "                           axPower  aPower Relative Intensity  aBikeScore  \\\n",
       "2018-01-28 06:39:49+11:00  202.211                    0.75452     16.6520   \n",
       "2018-01-28 07:01:32+11:00  226.039                    0.84343     80.2669   \n",
       "2018-02-01 08:13:34+11:00    0.000                    0.00000      0.0000   \n",
       "2018-02-06 08:06:42+11:00  221.672                    0.82714     78.8866   \n",
       "2018-02-07 17:59:05+11:00  218.211                    0.81422    159.4590   \n",
       "\n",
       "                           Skiba aVI  aPower Response Index  aIsoPower  \\\n",
       "2018-01-28 06:39:49+11:00    1.31920                1.67755    223.621   \n",
       "2018-01-28 07:01:32+11:00    1.21137                1.54250    246.185   \n",
       "2018-02-01 08:13:34+11:00    0.00000                0.00000      0.000   \n",
       "2018-02-06 08:06:42+11:00    1.35775                1.86002    254.409   \n",
       "2018-02-07 17:59:05+11:00    1.47188                1.74658    233.780   \n",
       "\n",
       "                               aIF  ...  Rest AVNN  Rest SDNN  Rest rMSSD  \\\n",
       "2018-01-28 06:39:49+11:00  0.83441  ...          0          0           0   \n",
       "2018-01-28 07:01:32+11:00  0.91860  ...          0          0           0   \n",
       "2018-02-01 08:13:34+11:00  0.00000  ...          0          0           0   \n",
       "2018-02-06 08:06:42+11:00  0.94929  ...          0          0           0   \n",
       "2018-02-07 17:59:05+11:00  0.87231  ...          0          0           0   \n",
       "\n",
       "                           Rest PNN50  Rest LF  Rest HF  HRV Recovery Points  \\\n",
       "2018-01-28 06:39:49+11:00           0        0        0                    0   \n",
       "2018-01-28 07:01:32+11:00           0        0        0                    0   \n",
       "2018-02-01 08:13:34+11:00           0        0        0                    0   \n",
       "2018-02-06 08:06:42+11:00           0        0        0                    0   \n",
       "2018-02-07 17:59:05+11:00           0        0        0                    0   \n",
       "\n",
       "                                NP       IF       TSS  \n",
       "2018-01-28 06:39:49+11:00  222.856  0.83155   20.2257  \n",
       "2018-01-28 07:01:32+11:00  245.365  0.91554   94.5787  \n",
       "2018-02-01 08:13:34+11:00    0.000  0.00000    0.0000  \n",
       "2018-02-06 08:06:42+11:00  253.702  0.94665   98.3269  \n",
       "2018-02-07 17:59:05+11:00  232.644  0.86808  171.0780  \n",
       "\n",
       "[5 rows x 362 columns]"
      ]
     },
     "execution_count": 7,
     "metadata": {},
     "output_type": "execute_result"
    }
   ],
   "source": [
    "cheetah = pd.read_csv('data/cheetah.csv', skipinitialspace=True)\n",
    "cheetah.index = pd.to_datetime(cheetah['date'] + ' ' + cheetah['time'])\n",
    "cheetah.index = cheetah.index.tz_localize('Australia/Sydney')\n",
    "cheetah.head()"
   ]
  },
  {
   "cell_type": "markdown",
   "metadata": {},
   "source": [
    "The GoldenCheetah data contains many many variables (columns) and I won't go into all of them here. Some\n",
    "that are of particular interest for the analysis below are:\n",
    "\n",
    "Here are definitions of some of the more important fields in the data. Capitalised fields come from the GoldenCheetah data\n",
    "while lowercase_fields come from Strava. There are many cases where fields are duplicated and in this case the values\n",
    "should be the same, although there is room for variation as the algorithm used to calculate them could be different\n",
    "in each case. \n",
    "\n",
    "  * Duration - overall duration of the ride, should be same as elapsed_time\n",
    "  * Time Moving - time spent moving (not resting or waiting at lights), should be the same as moving_time\n",
    "  * Elevation Gain - metres climbed over the ride\n",
    "  * Average Speed - over the ride\n",
    "  * Average Power - average power in watts as measured by a power meter, relates to how much effort is being put in to the ride, should be the same as  * average_watts' from Strava\n",
    "  * Nonzero Average Power - same as Average Power but excludes times when power is zero from the average\n",
    "  * Average Heart Rate - should be the same as average_heartrate\n",
    "  * Average Cadence - cadence is the rotations per minute of the pedals\n",
    "  * Average Temp - temperature in the environment as measured by the bike computer (should be same as average_temp)\n",
    "  * VAM - average ascent speed - speed up hills\n",
    "  * Calories (HR) - Calorie expendature as estimated from heart rate data\n",
    "  * 1 sec Peak Power - this and other  'Peak Power' measures give the maximum power output in the ride over this time period.  Will be higher for shorter periods. High values in short periods would come from a very 'punchy' ride with sprints for example.\n",
    "  * 1 min Peak Hr - a similar measure relating to Heart Rate\n",
    "  * NP - Normalised Power, a smoothed average power measurement, generally higher than Average Power \n",
    "  * TSS - Training Stress Score, a measure of how hard a ride this was\n",
    "  * device_watts - True if the power (watts) measures were from a power meter, False if they were estimated\n",
    "  * distance - distance travelled in Km\n",
    "  * kudos - likes from other Strava users (social network)\n",
    "  * workout_type - one of  'Race',  'Workout' or  'Ride'\n",
    "  \n",
    "  \n",
    "Some of the GoldenCheetah parameters are defined [in thier documentation](https://github.com/GoldenCheetah/GoldenCheetah/wiki/UG_Glossary).  "
   ]
  },
  {
   "cell_type": "markdown",
   "metadata": {},
   "source": [
    "## Your Tasks\n",
    "\n",
    "Your first task is to combine these two data frames using the [`join` method of Pandas](https://pandas.pydata.org/pandas-docs/stable/user_guide/merging.html#joining-on-index).   The goal is to keep only those rows of data \n",
    "that appear in __both__ data frames so that we have complete data for every row.  "
   ]
  },
  {
   "cell_type": "code",
   "execution_count": 8,
   "metadata": {},
   "outputs": [
    {
     "data": {
      "text/html": [
       "<div>\n",
       "<style scoped>\n",
       "    .dataframe tbody tr th:only-of-type {\n",
       "        vertical-align: middle;\n",
       "    }\n",
       "\n",
       "    .dataframe tbody tr th {\n",
       "        vertical-align: top;\n",
       "    }\n",
       "\n",
       "    .dataframe thead th {\n",
       "        text-align: right;\n",
       "    }\n",
       "</style>\n",
       "<table border=\"1\" class=\"dataframe\">\n",
       "  <thead>\n",
       "    <tr style=\"text-align: right;\">\n",
       "      <th></th>\n",
       "      <th>average_heartrate</th>\n",
       "      <th>average_temp</th>\n",
       "      <th>average_watts</th>\n",
       "      <th>device_watts</th>\n",
       "      <th>distance</th>\n",
       "      <th>elapsed_time</th>\n",
       "      <th>elevation_gain</th>\n",
       "      <th>kudos</th>\n",
       "      <th>moving_time</th>\n",
       "      <th>workout_type</th>\n",
       "      <th>...</th>\n",
       "      <th>Rest AVNN</th>\n",
       "      <th>Rest SDNN</th>\n",
       "      <th>Rest rMSSD</th>\n",
       "      <th>Rest PNN50</th>\n",
       "      <th>Rest LF</th>\n",
       "      <th>Rest HF</th>\n",
       "      <th>HRV Recovery Points</th>\n",
       "      <th>NP</th>\n",
       "      <th>IF</th>\n",
       "      <th>TSS</th>\n",
       "    </tr>\n",
       "  </thead>\n",
       "  <tbody>\n",
       "    <tr>\n",
       "      <td>2018-01-27 19:39:49+00:00</td>\n",
       "      <td>120.6</td>\n",
       "      <td>21.0</td>\n",
       "      <td>153.4</td>\n",
       "      <td>True</td>\n",
       "      <td>7.6</td>\n",
       "      <td>17</td>\n",
       "      <td>95.00 m</td>\n",
       "      <td>4</td>\n",
       "      <td>17</td>\n",
       "      <td>Ride</td>\n",
       "      <td>...</td>\n",
       "      <td>0</td>\n",
       "      <td>0</td>\n",
       "      <td>0</td>\n",
       "      <td>0</td>\n",
       "      <td>0</td>\n",
       "      <td>0</td>\n",
       "      <td>0</td>\n",
       "      <td>222.856</td>\n",
       "      <td>0.831550</td>\n",
       "      <td>20.2257</td>\n",
       "    </tr>\n",
       "    <tr>\n",
       "      <td>2018-01-27 20:01:32+00:00</td>\n",
       "      <td>146.9</td>\n",
       "      <td>22.0</td>\n",
       "      <td>187.7</td>\n",
       "      <td>True</td>\n",
       "      <td>38.6</td>\n",
       "      <td>67</td>\n",
       "      <td>449.00 m</td>\n",
       "      <td>19</td>\n",
       "      <td>67</td>\n",
       "      <td>Race</td>\n",
       "      <td>...</td>\n",
       "      <td>0</td>\n",
       "      <td>0</td>\n",
       "      <td>0</td>\n",
       "      <td>0</td>\n",
       "      <td>0</td>\n",
       "      <td>0</td>\n",
       "      <td>0</td>\n",
       "      <td>245.365</td>\n",
       "      <td>0.915540</td>\n",
       "      <td>94.5787</td>\n",
       "    </tr>\n",
       "    <tr>\n",
       "      <td>2018-01-31 21:13:34+00:00</td>\n",
       "      <td>109.8</td>\n",
       "      <td>19.0</td>\n",
       "      <td>143.0</td>\n",
       "      <td>False</td>\n",
       "      <td>26.3</td>\n",
       "      <td>649</td>\n",
       "      <td>612.00 m</td>\n",
       "      <td>6</td>\n",
       "      <td>113</td>\n",
       "      <td>Ride</td>\n",
       "      <td>...</td>\n",
       "      <td>0</td>\n",
       "      <td>0</td>\n",
       "      <td>0</td>\n",
       "      <td>0</td>\n",
       "      <td>0</td>\n",
       "      <td>0</td>\n",
       "      <td>0</td>\n",
       "      <td>0.000</td>\n",
       "      <td>0.000000</td>\n",
       "      <td>0.0000</td>\n",
       "    </tr>\n",
       "    <tr>\n",
       "      <td>2018-02-05 21:06:42+00:00</td>\n",
       "      <td>119.3</td>\n",
       "      <td>19.0</td>\n",
       "      <td>165.9</td>\n",
       "      <td>True</td>\n",
       "      <td>24.3</td>\n",
       "      <td>69</td>\n",
       "      <td>439.00 m</td>\n",
       "      <td>6</td>\n",
       "      <td>65</td>\n",
       "      <td>Ride</td>\n",
       "      <td>...</td>\n",
       "      <td>0</td>\n",
       "      <td>0</td>\n",
       "      <td>0</td>\n",
       "      <td>0</td>\n",
       "      <td>0</td>\n",
       "      <td>0</td>\n",
       "      <td>0</td>\n",
       "      <td>253.702</td>\n",
       "      <td>0.946650</td>\n",
       "      <td>98.3269</td>\n",
       "    </tr>\n",
       "    <tr>\n",
       "      <td>2018-02-07 06:59:05+00:00</td>\n",
       "      <td>124.8</td>\n",
       "      <td>20.0</td>\n",
       "      <td>151.0</td>\n",
       "      <td>True</td>\n",
       "      <td>47.1</td>\n",
       "      <td>144</td>\n",
       "      <td>890.00 m</td>\n",
       "      <td>10</td>\n",
       "      <td>134</td>\n",
       "      <td>Ride</td>\n",
       "      <td>...</td>\n",
       "      <td>0</td>\n",
       "      <td>0</td>\n",
       "      <td>0</td>\n",
       "      <td>0</td>\n",
       "      <td>0</td>\n",
       "      <td>0</td>\n",
       "      <td>0</td>\n",
       "      <td>232.644</td>\n",
       "      <td>0.868080</td>\n",
       "      <td>171.0780</td>\n",
       "    </tr>\n",
       "    <tr>\n",
       "      <td>...</td>\n",
       "      <td>...</td>\n",
       "      <td>...</td>\n",
       "      <td>...</td>\n",
       "      <td>...</td>\n",
       "      <td>...</td>\n",
       "      <td>...</td>\n",
       "      <td>...</td>\n",
       "      <td>...</td>\n",
       "      <td>...</td>\n",
       "      <td>...</td>\n",
       "      <td>...</td>\n",
       "      <td>...</td>\n",
       "      <td>...</td>\n",
       "      <td>...</td>\n",
       "      <td>...</td>\n",
       "      <td>...</td>\n",
       "      <td>...</td>\n",
       "      <td>...</td>\n",
       "      <td>...</td>\n",
       "      <td>...</td>\n",
       "      <td>...</td>\n",
       "    </tr>\n",
       "    <tr>\n",
       "      <td>2019-07-19 20:22:49+00:00</td>\n",
       "      <td>NaN</td>\n",
       "      <td>3.0</td>\n",
       "      <td>166.8</td>\n",
       "      <td>True</td>\n",
       "      <td>58.2</td>\n",
       "      <td>174</td>\n",
       "      <td>666.00 m</td>\n",
       "      <td>16</td>\n",
       "      <td>136</td>\n",
       "      <td>Ride</td>\n",
       "      <td>...</td>\n",
       "      <td>0</td>\n",
       "      <td>0</td>\n",
       "      <td>0</td>\n",
       "      <td>0</td>\n",
       "      <td>0</td>\n",
       "      <td>0</td>\n",
       "      <td>0</td>\n",
       "      <td>222.988</td>\n",
       "      <td>0.832045</td>\n",
       "      <td>159.3630</td>\n",
       "    </tr>\n",
       "    <tr>\n",
       "      <td>2019-07-26 20:12:56+00:00</td>\n",
       "      <td>120.8</td>\n",
       "      <td>7.0</td>\n",
       "      <td>166.9</td>\n",
       "      <td>True</td>\n",
       "      <td>59.6</td>\n",
       "      <td>185</td>\n",
       "      <td>663.00 m</td>\n",
       "      <td>15</td>\n",
       "      <td>139</td>\n",
       "      <td>Ride</td>\n",
       "      <td>...</td>\n",
       "      <td>0</td>\n",
       "      <td>0</td>\n",
       "      <td>0</td>\n",
       "      <td>0</td>\n",
       "      <td>0</td>\n",
       "      <td>0</td>\n",
       "      <td>0</td>\n",
       "      <td>236.028</td>\n",
       "      <td>0.880701</td>\n",
       "      <td>183.1140</td>\n",
       "    </tr>\n",
       "    <tr>\n",
       "      <td>2019-07-27 20:42:59+00:00</td>\n",
       "      <td>122.0</td>\n",
       "      <td>3.0</td>\n",
       "      <td>168.4</td>\n",
       "      <td>True</td>\n",
       "      <td>19.8</td>\n",
       "      <td>49</td>\n",
       "      <td>247.00 m</td>\n",
       "      <td>6</td>\n",
       "      <td>47</td>\n",
       "      <td>Ride</td>\n",
       "      <td>...</td>\n",
       "      <td>0</td>\n",
       "      <td>0</td>\n",
       "      <td>0</td>\n",
       "      <td>0</td>\n",
       "      <td>0</td>\n",
       "      <td>0</td>\n",
       "      <td>0</td>\n",
       "      <td>212.020</td>\n",
       "      <td>0.791118</td>\n",
       "      <td>51.1646</td>\n",
       "    </tr>\n",
       "    <tr>\n",
       "      <td>2019-07-27 21:47:24+00:00</td>\n",
       "      <td>144.4</td>\n",
       "      <td>3.0</td>\n",
       "      <td>235.2</td>\n",
       "      <td>True</td>\n",
       "      <td>29.1</td>\n",
       "      <td>50</td>\n",
       "      <td>415.00 m</td>\n",
       "      <td>15</td>\n",
       "      <td>50</td>\n",
       "      <td>Race</td>\n",
       "      <td>...</td>\n",
       "      <td>0</td>\n",
       "      <td>0</td>\n",
       "      <td>0</td>\n",
       "      <td>0</td>\n",
       "      <td>0</td>\n",
       "      <td>0</td>\n",
       "      <td>0</td>\n",
       "      <td>267.699</td>\n",
       "      <td>0.998877</td>\n",
       "      <td>83.5620</td>\n",
       "    </tr>\n",
       "    <tr>\n",
       "      <td>2019-07-27 23:55:13+00:00</td>\n",
       "      <td>109.6</td>\n",
       "      <td>15.0</td>\n",
       "      <td>114.7</td>\n",
       "      <td>True</td>\n",
       "      <td>20.2</td>\n",
       "      <td>68</td>\n",
       "      <td>280.00 m</td>\n",
       "      <td>6</td>\n",
       "      <td>59</td>\n",
       "      <td>Ride</td>\n",
       "      <td>...</td>\n",
       "      <td>0</td>\n",
       "      <td>0</td>\n",
       "      <td>0</td>\n",
       "      <td>0</td>\n",
       "      <td>0</td>\n",
       "      <td>0</td>\n",
       "      <td>0</td>\n",
       "      <td>163.001</td>\n",
       "      <td>0.608214</td>\n",
       "      <td>36.6945</td>\n",
       "    </tr>\n",
       "  </tbody>\n",
       "</table>\n",
       "<p>243 rows × 372 columns</p>\n",
       "</div>"
      ],
      "text/plain": [
       "                           average_heartrate  average_temp  average_watts  \\\n",
       "2018-01-27 19:39:49+00:00              120.6          21.0          153.4   \n",
       "2018-01-27 20:01:32+00:00              146.9          22.0          187.7   \n",
       "2018-01-31 21:13:34+00:00              109.8          19.0          143.0   \n",
       "2018-02-05 21:06:42+00:00              119.3          19.0          165.9   \n",
       "2018-02-07 06:59:05+00:00              124.8          20.0          151.0   \n",
       "...                                      ...           ...            ...   \n",
       "2019-07-19 20:22:49+00:00                NaN           3.0          166.8   \n",
       "2019-07-26 20:12:56+00:00              120.8           7.0          166.9   \n",
       "2019-07-27 20:42:59+00:00              122.0           3.0          168.4   \n",
       "2019-07-27 21:47:24+00:00              144.4           3.0          235.2   \n",
       "2019-07-27 23:55:13+00:00              109.6          15.0          114.7   \n",
       "\n",
       "                          device_watts  distance  elapsed_time elevation_gain  \\\n",
       "2018-01-27 19:39:49+00:00         True       7.6            17        95.00 m   \n",
       "2018-01-27 20:01:32+00:00         True      38.6            67       449.00 m   \n",
       "2018-01-31 21:13:34+00:00        False      26.3           649       612.00 m   \n",
       "2018-02-05 21:06:42+00:00         True      24.3            69       439.00 m   \n",
       "2018-02-07 06:59:05+00:00         True      47.1           144       890.00 m   \n",
       "...                                ...       ...           ...            ...   \n",
       "2019-07-19 20:22:49+00:00         True      58.2           174       666.00 m   \n",
       "2019-07-26 20:12:56+00:00         True      59.6           185       663.00 m   \n",
       "2019-07-27 20:42:59+00:00         True      19.8            49       247.00 m   \n",
       "2019-07-27 21:47:24+00:00         True      29.1            50       415.00 m   \n",
       "2019-07-27 23:55:13+00:00         True      20.2            68       280.00 m   \n",
       "\n",
       "                           kudos  moving_time workout_type  ... Rest AVNN  \\\n",
       "2018-01-27 19:39:49+00:00      4           17         Ride  ...         0   \n",
       "2018-01-27 20:01:32+00:00     19           67         Race  ...         0   \n",
       "2018-01-31 21:13:34+00:00      6          113         Ride  ...         0   \n",
       "2018-02-05 21:06:42+00:00      6           65         Ride  ...         0   \n",
       "2018-02-07 06:59:05+00:00     10          134         Ride  ...         0   \n",
       "...                          ...          ...          ...  ...       ...   \n",
       "2019-07-19 20:22:49+00:00     16          136         Ride  ...         0   \n",
       "2019-07-26 20:12:56+00:00     15          139         Ride  ...         0   \n",
       "2019-07-27 20:42:59+00:00      6           47         Ride  ...         0   \n",
       "2019-07-27 21:47:24+00:00     15           50         Race  ...         0   \n",
       "2019-07-27 23:55:13+00:00      6           59         Ride  ...         0   \n",
       "\n",
       "                          Rest SDNN Rest rMSSD  Rest PNN50  Rest LF  Rest HF  \\\n",
       "2018-01-27 19:39:49+00:00         0          0           0        0        0   \n",
       "2018-01-27 20:01:32+00:00         0          0           0        0        0   \n",
       "2018-01-31 21:13:34+00:00         0          0           0        0        0   \n",
       "2018-02-05 21:06:42+00:00         0          0           0        0        0   \n",
       "2018-02-07 06:59:05+00:00         0          0           0        0        0   \n",
       "...                             ...        ...         ...      ...      ...   \n",
       "2019-07-19 20:22:49+00:00         0          0           0        0        0   \n",
       "2019-07-26 20:12:56+00:00         0          0           0        0        0   \n",
       "2019-07-27 20:42:59+00:00         0          0           0        0        0   \n",
       "2019-07-27 21:47:24+00:00         0          0           0        0        0   \n",
       "2019-07-27 23:55:13+00:00         0          0           0        0        0   \n",
       "\n",
       "                           HRV Recovery Points       NP        IF       TSS  \n",
       "2018-01-27 19:39:49+00:00                    0  222.856  0.831550   20.2257  \n",
       "2018-01-27 20:01:32+00:00                    0  245.365  0.915540   94.5787  \n",
       "2018-01-31 21:13:34+00:00                    0    0.000  0.000000    0.0000  \n",
       "2018-02-05 21:06:42+00:00                    0  253.702  0.946650   98.3269  \n",
       "2018-02-07 06:59:05+00:00                    0  232.644  0.868080  171.0780  \n",
       "...                                        ...      ...       ...       ...  \n",
       "2019-07-19 20:22:49+00:00                    0  222.988  0.832045  159.3630  \n",
       "2019-07-26 20:12:56+00:00                    0  236.028  0.880701  183.1140  \n",
       "2019-07-27 20:42:59+00:00                    0  212.020  0.791118   51.1646  \n",
       "2019-07-27 21:47:24+00:00                    0  267.699  0.998877   83.5620  \n",
       "2019-07-27 23:55:13+00:00                    0  163.001  0.608214   36.6945  \n",
       "\n",
       "[243 rows x 372 columns]"
      ]
     },
     "execution_count": 8,
     "metadata": {},
     "output_type": "execute_result"
    }
   ],
   "source": [
    "strava.join(cheetah, how='inner' )"
   ]
  },
  {
   "cell_type": "markdown",
   "metadata": {},
   "source": [
    "## Required Analysis\n",
    "\n",
    "1. Remove rides with no measured power (where device_watts is False) - these are commutes or MTB rides\n",
    "* Look at the distributions of some key variables: time, distance, average speed, average power, TSS. Are they normally distributed? Skewed? \n",
    "* Explore the relationships between the following variables. Are any of them corrolated with each other (do they vary together in a predictable way)? Can you explain any relationships you observe?  \n",
    "    * Distance\n",
    "    * Moving Time\n",
    "    * Average Speed\n",
    "    * Heart Rate\n",
    "    * Power (watts)\n",
    "    * Normalised power (NP)\n",
    "    * Training Stress Score\n",
    "    * Elevation Gain\n",
    "    \n",
    "* Some of the rides are designated as \"Race\" in the `workout_type` field, these are where I am racing and you might expect that these would be the most challenging rides.  Normalised Power (NP) is a good measure of how hard a ride is.  Explore the values of `NP` for races vs the overall set of rides to see if this hypothesis is supported (use graphs and summary statistics).  Are races more challenging than rides in general? \n",
    "\n",
    "* It is useful to see a summary of rides over the year. Generate a plot that summarises the number of km ridden each month over the period of the data. Overlay this with the _sum_ of the Training Stress Score and the _average_ of the Average Speed to generate an overall summary of activity.\n",
    "\n",
    "Hint: to generate these summary plots you need to use the [timeseries/date functionality](https://pandas.pydata.org/pandas-docs/stable/user_guide/timeseries.html) in Pandas to generate a new data frame containing the required data.  \n",
    "\n",
    "## Challenge\n",
    "\n",
    "* What leads to more `kudos`? Is there anything to indicate which rides are more popular? Explore the relationship between the main variables and kudos. Show a plot and comment on any relationship you observe. \n",
    "\n",
    "* Generate another summary graph but one that shows the activity over a given month, with the sum of the values for each day of the month shown.  So, if there are two rides on a given day, the graph should show the sum of the distances etc for these rides.\n",
    "\n",
    "__Note:__ once you have completed these steps you can remove this cell.  Use the text as a starting point for the documentation of your workflow and discussion of results.\n"
   ]
  },
  {
   "cell_type": "markdown",
   "metadata": {},
   "source": [
    "* Joined the two dataframes using inner join : Joins the cheetah and strava dataframe for common data present in both the dataframes. Here the dataframes are joined on the basis of data present in strava."
   ]
  },
  {
   "cell_type": "code",
   "execution_count": 60,
   "metadata": {},
   "outputs": [
    {
     "data": {
      "text/plain": [
       "(243, 372)"
      ]
     },
     "execution_count": 60,
     "metadata": {},
     "output_type": "execute_result"
    }
   ],
   "source": [
    "joined_df=(strava.join(cheetah, how='inner' ))\n",
    "joined_df.shape"
   ]
  },
  {
   "cell_type": "markdown",
   "metadata": {},
   "source": [
    "# 1. Remove rides with no measured power (where device_watts is False) - these are commutes or MTB rides"
   ]
  },
  {
   "cell_type": "code",
   "execution_count": 10,
   "metadata": {},
   "outputs": [
    {
     "data": {
      "text/plain": [
       "array([True, False, nan], dtype=object)"
      ]
     },
     "execution_count": 10,
     "metadata": {},
     "output_type": "execute_result"
    }
   ],
   "source": [
    "#Check for unique values in the device_watts field\n",
    "joined_df['device_watts'].unique()"
   ]
  },
  {
   "cell_type": "markdown",
   "metadata": {},
   "source": [
    "Approach: \n",
    "As we can see there are NaN values also included in the dataframe column device_watts, I have used two method to remove the rides with no measured power. One is to simply select the data for 'True' entries. Secondly, I have cleaned the dataframe with respect to just the device_watts column by using dropna to drop the NaN values. Then I have used this cleaned dataframe to filter out the 'False' entries for device_watts"
   ]
  },
  {
   "cell_type": "code",
   "execution_count": 11,
   "metadata": {},
   "outputs": [
    {
     "data": {
      "text/plain": [
       "(205, 372)"
      ]
     },
     "execution_count": 11,
     "metadata": {},
     "output_type": "execute_result"
    }
   ],
   "source": [
    "#Approach one\n",
    "true_df= joined_df[joined_df['device_watts'] == True]\n",
    "true_df.shape"
   ]
  },
  {
   "cell_type": "code",
   "execution_count": 12,
   "metadata": {},
   "outputs": [
    {
     "data": {
      "text/plain": [
       "(239, 372)"
      ]
     },
     "execution_count": 12,
     "metadata": {},
     "output_type": "execute_result"
    }
   ],
   "source": [
    "#Approach two\n",
    "cleaned_df = joined_df.dropna(subset=['device_watts'])\n",
    "cleaned_df.shape"
   ]
  },
  {
   "cell_type": "code",
   "execution_count": 13,
   "metadata": {},
   "outputs": [],
   "source": [
    "onlytrue_df= cleaned_df[cleaned_df['device_watts'] == False]"
   ]
  },
  {
   "cell_type": "code",
   "execution_count": 14,
   "metadata": {},
   "outputs": [
    {
     "data": {
      "text/plain": [
       "(34, 372)"
      ]
     },
     "execution_count": 14,
     "metadata": {},
     "output_type": "execute_result"
    }
   ],
   "source": [
    "onlytrue_df.shape"
   ]
  },
  {
   "cell_type": "markdown",
   "metadata": {},
   "source": [
    "# 2. Look at the distributions of some key variables: time, distance, average speed, average power, TSS. Are they normally distributed? Skewed?"
   ]
  },
  {
   "cell_type": "code",
   "execution_count": 18,
   "metadata": {},
   "outputs": [
    {
     "data": {
      "image/png": "[encoded data removed]",
      "text/plain": [
       "<Figure size 432x288 with 1 Axes>"
      ]
     },
     "metadata": {
      "needs_background": "light"
     },
     "output_type": "display_data"
    }
   ],
   "source": [
    "joined_df.plot(kind='scatter', x='distance',y='TSS',color='red')\n",
    "plt.show()"
   ]
  },
  {
   "cell_type": "code",
   "execution_count": 20,
   "metadata": {},
   "outputs": [
    {
     "data": {
      "text/plain": [
       "<matplotlib.axes._subplots.AxesSubplot at 0x201600d9b48>"
      ]
     },
     "execution_count": 20,
     "metadata": {},
     "output_type": "execute_result"
    },
    {
     "data": {
      "image/png": "[encoded data removed]",
      "text/plain": [
       "<Figure size 432x288 with 1 Axes>"
      ]
     },
     "metadata": {
      "needs_background": "light"
     },
     "output_type": "display_data"
    }
   ],
   "source": [
    "joined_df.plot(kind='scatter', x='distance',y='average_watts',color='red')"
   ]
  },
  {
   "cell_type": "code",
   "execution_count": 21,
   "metadata": {},
   "outputs": [
    {
     "data": {
      "text/plain": [
       "Text(0.5, 0, 'distance')"
      ]
     },
     "execution_count": 21,
     "metadata": {},
     "output_type": "execute_result"
    },
    {
     "data": {
      "image/png": "[encoded data removed]",
      "text/plain": [
       "<Figure size 432x288 with 1 Axes>"
      ]
     },
     "metadata": {
      "needs_background": "light"
     },
     "output_type": "display_data"
    }
   ],
   "source": [
    "joined_df['distance'].plot.hist(bins=5)\n",
    "plt.xlabel('distance')"
   ]
  },
  {
   "cell_type": "code",
   "execution_count": 22,
   "metadata": {},
   "outputs": [
    {
     "data": {
      "text/plain": [
       "average_heartrate      0.135448\n",
       "average_temp          -0.138575\n",
       "average_watts          0.721977\n",
       "device_watts          -2.061194\n",
       "distance               0.616377\n",
       "                         ...   \n",
       "Rest HF                0.000000\n",
       "HRV Recovery Points    0.000000\n",
       "NP                    -1.486573\n",
       "IF                    -1.486573\n",
       "TSS                    1.016523\n",
       "Length: 367, dtype: float64"
      ]
     },
     "execution_count": 22,
     "metadata": {},
     "output_type": "execute_result"
    }
   ],
   "source": [
    "joined_df.skew(axis=0, skipna=True)"
   ]
  },
  {
   "cell_type": "markdown",
   "metadata": {},
   "source": [
    "Observations: From the skew() in-built function we get the skewness of the data over a requested axis wherein a value closer to 0 represents a normal distribution. Here axis=0 uses index for calculating the skewness."
   ]
  },
  {
   "cell_type": "code",
   "execution_count": 23,
   "metadata": {},
   "outputs": [
    {
     "data": {
      "text/plain": [
       "0.9192349053747003"
      ]
     },
     "execution_count": 23,
     "metadata": {},
     "output_type": "execute_result"
    }
   ],
   "source": [
    "joined_df['distance'].corr(joined_df['moving_time'])"
   ]
  },
  {
   "cell_type": "code",
   "execution_count": 24,
   "metadata": {},
   "outputs": [
    {
     "data": {
      "text/plain": [
       "0.3751988307028401"
      ]
     },
     "execution_count": 24,
     "metadata": {},
     "output_type": "execute_result"
    }
   ],
   "source": [
    "joined_df['NP'].corr(joined_df['average_heartrate'])"
   ]
  },
  {
   "cell_type": "markdown",
   "metadata": {},
   "source": [
    "* Heatmap : A rectangular color encoded matrix which shows the correlation between variables on a scale of 1 to -1. Wherein 1 represents high correlation and -1 the least. Dark blue colors here represent higher correlation."
   ]
  },
  {
   "cell_type": "code",
   "execution_count": 25,
   "metadata": {},
   "outputs": [],
   "source": [
    "import seaborn as sns\n",
    "from pandas import DataFrame"
   ]
  },
  {
   "cell_type": "code",
   "execution_count": 26,
   "metadata": {},
   "outputs": [],
   "source": [
    "indexes = joined_df[['distance','moving_time','Average Speed', 'Average Heart Rate','Average Power','NP', 'elevation_gain']]"
   ]
  },
  {
   "cell_type": "code",
   "execution_count": 84,
   "metadata": {},
   "outputs": [
    {
     "data": {
      "text/plain": [
       "[Text(0.5, 0, 'distance'),\n",
       " Text(1.5, 0, 'moving_time'),\n",
       " Text(2.5, 0, 'Average Speed'),\n",
       " Text(3.5, 0, 'Average Heart Rate'),\n",
       " Text(4.5, 0, 'Average Power'),\n",
       " Text(5.5, 0, 'NP')]"
      ]
     },
     "execution_count": 84,
     "metadata": {},
     "output_type": "execute_result"
    },
    {
     "data": {
      "image/png": "[encoded data removed]",
      "text/plain": [
       "<Figure size 432x288 with 2 Axes>"
      ]
     },
     "metadata": {},
     "output_type": "display_data"
    }
   ],
   "source": [
    "corr =indexes.corr(method='pearson')\n",
    "ax = sns.heatmap(corr, vmin = -1,vmax=1, cmap='RdYlBu')\n",
    "ax.set_xticklabels(ax.get_xticklabels(),rotation=45,horizontalalignment='right')"
   ]
  },
  {
   "cell_type": "code",
   "execution_count": 29,
   "metadata": {},
   "outputs": [
    {
     "data": {
      "text/plain": [
       "distance              0.616377\n",
       "moving_time           0.612342\n",
       "Average Speed        -0.987502\n",
       "Average Heart Rate   -1.965619\n",
       "Average Power        -1.063853\n",
       "NP                   -1.486573\n",
       "dtype: float64"
      ]
     },
     "execution_count": 29,
     "metadata": {},
     "output_type": "execute_result"
    }
   ],
   "source": [
    "indexes.skew(axis=0, skipna=True)"
   ]
  },
  {
   "cell_type": "code",
   "execution_count": 30,
   "metadata": {},
   "outputs": [],
   "source": [
    "import numpy as np"
   ]
  },
  {
   "cell_type": "code",
   "execution_count": 31,
   "metadata": {},
   "outputs": [
    {
     "data": {
      "text/plain": [
       "array([[1.        , 0.91923491],\n",
       "       [0.91923491, 1.        ]])"
      ]
     },
     "execution_count": 31,
     "metadata": {},
     "output_type": "execute_result"
    }
   ],
   "source": [
    "np.corrcoef(joined_df.distance, joined_df.moving_time)"
   ]
  },
  {
   "cell_type": "markdown",
   "metadata": {},
   "source": [
    "# 4. Some of the rides are designated as \"Race\" in the workout_type field, these are where I am racing and you might expect that these would be the most challenging rides. Normalised Power (NP) is a good measure of how hard a ride is. Explore the values of NP for races vs the overall set of rides to see if this hypothesis is supported (use graphs and summary statistics). Are races more challenging than rides in general?"
   ]
  },
  {
   "cell_type": "code",
   "execution_count": 32,
   "metadata": {},
   "outputs": [],
   "source": [
    "races_df = joined_df[joined_df['workout_type'] == 'Race']"
   ]
  },
  {
   "cell_type": "code",
   "execution_count": 33,
   "metadata": {},
   "outputs": [
    {
     "data": {
      "text/html": [
       "<div>\n",
       "<style scoped>\n",
       "    .dataframe tbody tr th:only-of-type {\n",
       "        vertical-align: middle;\n",
       "    }\n",
       "\n",
       "    .dataframe tbody tr th {\n",
       "        vertical-align: top;\n",
       "    }\n",
       "\n",
       "    .dataframe thead th {\n",
       "        text-align: right;\n",
       "    }\n",
       "</style>\n",
       "<table border=\"1\" class=\"dataframe\">\n",
       "  <thead>\n",
       "    <tr style=\"text-align: right;\">\n",
       "      <th></th>\n",
       "      <th>average_heartrate</th>\n",
       "      <th>average_temp</th>\n",
       "      <th>average_watts</th>\n",
       "      <th>distance</th>\n",
       "      <th>elapsed_time</th>\n",
       "      <th>kudos</th>\n",
       "      <th>moving_time</th>\n",
       "      <th>axPower</th>\n",
       "      <th>aPower Relative Intensity</th>\n",
       "      <th>aBikeScore</th>\n",
       "      <th>...</th>\n",
       "      <th>Rest AVNN</th>\n",
       "      <th>Rest SDNN</th>\n",
       "      <th>Rest rMSSD</th>\n",
       "      <th>Rest PNN50</th>\n",
       "      <th>Rest LF</th>\n",
       "      <th>Rest HF</th>\n",
       "      <th>HRV Recovery Points</th>\n",
       "      <th>NP</th>\n",
       "      <th>IF</th>\n",
       "      <th>TSS</th>\n",
       "    </tr>\n",
       "  </thead>\n",
       "  <tbody>\n",
       "    <tr>\n",
       "      <td>average_heartrate</td>\n",
       "      <td>1.000000</td>\n",
       "      <td>-0.121186</td>\n",
       "      <td>0.691528</td>\n",
       "      <td>0.139204</td>\n",
       "      <td>-0.125077</td>\n",
       "      <td>0.372500</td>\n",
       "      <td>-0.043981</td>\n",
       "      <td>0.400497</td>\n",
       "      <td>0.400496</td>\n",
       "      <td>0.176212</td>\n",
       "      <td>...</td>\n",
       "      <td>NaN</td>\n",
       "      <td>NaN</td>\n",
       "      <td>NaN</td>\n",
       "      <td>NaN</td>\n",
       "      <td>NaN</td>\n",
       "      <td>NaN</td>\n",
       "      <td>NaN</td>\n",
       "      <td>0.375199</td>\n",
       "      <td>0.375199</td>\n",
       "      <td>0.162631</td>\n",
       "    </tr>\n",
       "    <tr>\n",
       "      <td>average_temp</td>\n",
       "      <td>-0.121186</td>\n",
       "      <td>1.000000</td>\n",
       "      <td>-0.287577</td>\n",
       "      <td>0.012381</td>\n",
       "      <td>0.123471</td>\n",
       "      <td>-0.019307</td>\n",
       "      <td>0.105275</td>\n",
       "      <td>-0.259446</td>\n",
       "      <td>-0.259446</td>\n",
       "      <td>-0.075228</td>\n",
       "      <td>...</td>\n",
       "      <td>NaN</td>\n",
       "      <td>NaN</td>\n",
       "      <td>NaN</td>\n",
       "      <td>NaN</td>\n",
       "      <td>NaN</td>\n",
       "      <td>NaN</td>\n",
       "      <td>NaN</td>\n",
       "      <td>-0.251375</td>\n",
       "      <td>-0.251376</td>\n",
       "      <td>-0.076311</td>\n",
       "    </tr>\n",
       "    <tr>\n",
       "      <td>average_watts</td>\n",
       "      <td>0.691528</td>\n",
       "      <td>-0.287577</td>\n",
       "      <td>1.000000</td>\n",
       "      <td>0.105040</td>\n",
       "      <td>-0.161367</td>\n",
       "      <td>0.264645</td>\n",
       "      <td>-0.087983</td>\n",
       "      <td>0.543763</td>\n",
       "      <td>0.543762</td>\n",
       "      <td>0.261464</td>\n",
       "      <td>...</td>\n",
       "      <td>NaN</td>\n",
       "      <td>NaN</td>\n",
       "      <td>NaN</td>\n",
       "      <td>NaN</td>\n",
       "      <td>NaN</td>\n",
       "      <td>NaN</td>\n",
       "      <td>NaN</td>\n",
       "      <td>0.488740</td>\n",
       "      <td>0.488741</td>\n",
       "      <td>0.235187</td>\n",
       "    </tr>\n",
       "    <tr>\n",
       "      <td>distance</td>\n",
       "      <td>0.139204</td>\n",
       "      <td>0.012381</td>\n",
       "      <td>0.105040</td>\n",
       "      <td>1.000000</td>\n",
       "      <td>0.406222</td>\n",
       "      <td>0.743757</td>\n",
       "      <td>0.919235</td>\n",
       "      <td>0.336350</td>\n",
       "      <td>0.336350</td>\n",
       "      <td>0.869606</td>\n",
       "      <td>...</td>\n",
       "      <td>NaN</td>\n",
       "      <td>NaN</td>\n",
       "      <td>NaN</td>\n",
       "      <td>NaN</td>\n",
       "      <td>NaN</td>\n",
       "      <td>NaN</td>\n",
       "      <td>NaN</td>\n",
       "      <td>0.347391</td>\n",
       "      <td>0.347392</td>\n",
       "      <td>0.880188</td>\n",
       "    </tr>\n",
       "    <tr>\n",
       "      <td>elapsed_time</td>\n",
       "      <td>-0.125077</td>\n",
       "      <td>0.123471</td>\n",
       "      <td>-0.161367</td>\n",
       "      <td>0.406222</td>\n",
       "      <td>1.000000</td>\n",
       "      <td>0.266218</td>\n",
       "      <td>0.578826</td>\n",
       "      <td>-0.343756</td>\n",
       "      <td>-0.343756</td>\n",
       "      <td>0.202526</td>\n",
       "      <td>...</td>\n",
       "      <td>NaN</td>\n",
       "      <td>NaN</td>\n",
       "      <td>NaN</td>\n",
       "      <td>NaN</td>\n",
       "      <td>NaN</td>\n",
       "      <td>NaN</td>\n",
       "      <td>NaN</td>\n",
       "      <td>-0.332668</td>\n",
       "      <td>-0.332667</td>\n",
       "      <td>0.212700</td>\n",
       "    </tr>\n",
       "    <tr>\n",
       "      <td>...</td>\n",
       "      <td>...</td>\n",
       "      <td>...</td>\n",
       "      <td>...</td>\n",
       "      <td>...</td>\n",
       "      <td>...</td>\n",
       "      <td>...</td>\n",
       "      <td>...</td>\n",
       "      <td>...</td>\n",
       "      <td>...</td>\n",
       "      <td>...</td>\n",
       "      <td>...</td>\n",
       "      <td>...</td>\n",
       "      <td>...</td>\n",
       "      <td>...</td>\n",
       "      <td>...</td>\n",
       "      <td>...</td>\n",
       "      <td>...</td>\n",
       "      <td>...</td>\n",
       "      <td>...</td>\n",
       "      <td>...</td>\n",
       "      <td>...</td>\n",
       "    </tr>\n",
       "    <tr>\n",
       "      <td>Rest HF</td>\n",
       "      <td>NaN</td>\n",
       "      <td>NaN</td>\n",
       "      <td>NaN</td>\n",
       "      <td>NaN</td>\n",
       "      <td>NaN</td>\n",
       "      <td>NaN</td>\n",
       "      <td>NaN</td>\n",
       "      <td>NaN</td>\n",
       "      <td>NaN</td>\n",
       "      <td>NaN</td>\n",
       "      <td>...</td>\n",
       "      <td>NaN</td>\n",
       "      <td>NaN</td>\n",
       "      <td>NaN</td>\n",
       "      <td>NaN</td>\n",
       "      <td>NaN</td>\n",
       "      <td>NaN</td>\n",
       "      <td>NaN</td>\n",
       "      <td>NaN</td>\n",
       "      <td>NaN</td>\n",
       "      <td>NaN</td>\n",
       "    </tr>\n",
       "    <tr>\n",
       "      <td>HRV Recovery Points</td>\n",
       "      <td>NaN</td>\n",
       "      <td>NaN</td>\n",
       "      <td>NaN</td>\n",
       "      <td>NaN</td>\n",
       "      <td>NaN</td>\n",
       "      <td>NaN</td>\n",
       "      <td>NaN</td>\n",
       "      <td>NaN</td>\n",
       "      <td>NaN</td>\n",
       "      <td>NaN</td>\n",
       "      <td>...</td>\n",
       "      <td>NaN</td>\n",
       "      <td>NaN</td>\n",
       "      <td>NaN</td>\n",
       "      <td>NaN</td>\n",
       "      <td>NaN</td>\n",
       "      <td>NaN</td>\n",
       "      <td>NaN</td>\n",
       "      <td>NaN</td>\n",
       "      <td>NaN</td>\n",
       "      <td>NaN</td>\n",
       "    </tr>\n",
       "    <tr>\n",
       "      <td>NP</td>\n",
       "      <td>0.375199</td>\n",
       "      <td>-0.251375</td>\n",
       "      <td>0.488740</td>\n",
       "      <td>0.347391</td>\n",
       "      <td>-0.332668</td>\n",
       "      <td>0.241040</td>\n",
       "      <td>0.093727</td>\n",
       "      <td>0.994945</td>\n",
       "      <td>0.994945</td>\n",
       "      <td>0.588658</td>\n",
       "      <td>...</td>\n",
       "      <td>NaN</td>\n",
       "      <td>NaN</td>\n",
       "      <td>NaN</td>\n",
       "      <td>NaN</td>\n",
       "      <td>NaN</td>\n",
       "      <td>NaN</td>\n",
       "      <td>NaN</td>\n",
       "      <td>1.000000</td>\n",
       "      <td>1.000000</td>\n",
       "      <td>0.591343</td>\n",
       "    </tr>\n",
       "    <tr>\n",
       "      <td>IF</td>\n",
       "      <td>0.375199</td>\n",
       "      <td>-0.251376</td>\n",
       "      <td>0.488741</td>\n",
       "      <td>0.347392</td>\n",
       "      <td>-0.332667</td>\n",
       "      <td>0.241040</td>\n",
       "      <td>0.093728</td>\n",
       "      <td>0.994945</td>\n",
       "      <td>0.994945</td>\n",
       "      <td>0.588659</td>\n",
       "      <td>...</td>\n",
       "      <td>NaN</td>\n",
       "      <td>NaN</td>\n",
       "      <td>NaN</td>\n",
       "      <td>NaN</td>\n",
       "      <td>NaN</td>\n",
       "      <td>NaN</td>\n",
       "      <td>NaN</td>\n",
       "      <td>1.000000</td>\n",
       "      <td>1.000000</td>\n",
       "      <td>0.591344</td>\n",
       "    </tr>\n",
       "    <tr>\n",
       "      <td>TSS</td>\n",
       "      <td>0.162631</td>\n",
       "      <td>-0.076311</td>\n",
       "      <td>0.235187</td>\n",
       "      <td>0.880188</td>\n",
       "      <td>0.212700</td>\n",
       "      <td>0.626638</td>\n",
       "      <td>0.781805</td>\n",
       "      <td>0.577893</td>\n",
       "      <td>0.577894</td>\n",
       "      <td>0.995720</td>\n",
       "      <td>...</td>\n",
       "      <td>NaN</td>\n",
       "      <td>NaN</td>\n",
       "      <td>NaN</td>\n",
       "      <td>NaN</td>\n",
       "      <td>NaN</td>\n",
       "      <td>NaN</td>\n",
       "      <td>NaN</td>\n",
       "      <td>0.591343</td>\n",
       "      <td>0.591344</td>\n",
       "      <td>1.000000</td>\n",
       "    </tr>\n",
       "  </tbody>\n",
       "</table>\n",
       "<p>366 rows × 366 columns</p>\n",
       "</div>"
      ],
      "text/plain": [
       "                     average_heartrate  average_temp  average_watts  distance  \\\n",
       "average_heartrate             1.000000     -0.121186       0.691528  0.139204   \n",
       "average_temp                 -0.121186      1.000000      -0.287577  0.012381   \n",
       "average_watts                 0.691528     -0.287577       1.000000  0.105040   \n",
       "distance                      0.139204      0.012381       0.105040  1.000000   \n",
       "elapsed_time                 -0.125077      0.123471      -0.161367  0.406222   \n",
       "...                                ...           ...            ...       ...   \n",
       "Rest HF                            NaN           NaN            NaN       NaN   \n",
       "HRV Recovery Points                NaN           NaN            NaN       NaN   \n",
       "NP                            0.375199     -0.251375       0.488740  0.347391   \n",
       "IF                            0.375199     -0.251376       0.488741  0.347392   \n",
       "TSS                           0.162631     -0.076311       0.235187  0.880188   \n",
       "\n",
       "                     elapsed_time     kudos  moving_time   axPower  \\\n",
       "average_heartrate       -0.125077  0.372500    -0.043981  0.400497   \n",
       "average_temp             0.123471 -0.019307     0.105275 -0.259446   \n",
       "average_watts           -0.161367  0.264645    -0.087983  0.543763   \n",
       "distance                 0.406222  0.743757     0.919235  0.336350   \n",
       "elapsed_time             1.000000  0.266218     0.578826 -0.343756   \n",
       "...                           ...       ...          ...       ...   \n",
       "Rest HF                       NaN       NaN          NaN       NaN   \n",
       "HRV Recovery Points           NaN       NaN          NaN       NaN   \n",
       "NP                      -0.332668  0.241040     0.093727  0.994945   \n",
       "IF                      -0.332667  0.241040     0.093728  0.994945   \n",
       "TSS                      0.212700  0.626638     0.781805  0.577893   \n",
       "\n",
       "                     aPower Relative Intensity  aBikeScore  ...  Rest AVNN  \\\n",
       "average_heartrate                     0.400496    0.176212  ...        NaN   \n",
       "average_temp                         -0.259446   -0.075228  ...        NaN   \n",
       "average_watts                         0.543762    0.261464  ...        NaN   \n",
       "distance                              0.336350    0.869606  ...        NaN   \n",
       "elapsed_time                         -0.343756    0.202526  ...        NaN   \n",
       "...                                        ...         ...  ...        ...   \n",
       "Rest HF                                    NaN         NaN  ...        NaN   \n",
       "HRV Recovery Points                        NaN         NaN  ...        NaN   \n",
       "NP                                    0.994945    0.588658  ...        NaN   \n",
       "IF                                    0.994945    0.588659  ...        NaN   \n",
       "TSS                                   0.577894    0.995720  ...        NaN   \n",
       "\n",
       "                     Rest SDNN  Rest rMSSD  Rest PNN50  Rest LF  Rest HF  \\\n",
       "average_heartrate          NaN         NaN         NaN      NaN      NaN   \n",
       "average_temp               NaN         NaN         NaN      NaN      NaN   \n",
       "average_watts              NaN         NaN         NaN      NaN      NaN   \n",
       "distance                   NaN         NaN         NaN      NaN      NaN   \n",
       "elapsed_time               NaN         NaN         NaN      NaN      NaN   \n",
       "...                        ...         ...         ...      ...      ...   \n",
       "Rest HF                    NaN         NaN         NaN      NaN      NaN   \n",
       "HRV Recovery Points        NaN         NaN         NaN      NaN      NaN   \n",
       "NP                         NaN         NaN         NaN      NaN      NaN   \n",
       "IF                         NaN         NaN         NaN      NaN      NaN   \n",
       "TSS                        NaN         NaN         NaN      NaN      NaN   \n",
       "\n",
       "                     HRV Recovery Points        NP        IF       TSS  \n",
       "average_heartrate                    NaN  0.375199  0.375199  0.162631  \n",
       "average_temp                         NaN -0.251375 -0.251376 -0.076311  \n",
       "average_watts                        NaN  0.488740  0.488741  0.235187  \n",
       "distance                             NaN  0.347391  0.347392  0.880188  \n",
       "elapsed_time                         NaN -0.332668 -0.332667  0.212700  \n",
       "...                                  ...       ...       ...       ...  \n",
       "Rest HF                              NaN       NaN       NaN       NaN  \n",
       "HRV Recovery Points                  NaN       NaN       NaN       NaN  \n",
       "NP                                   NaN  1.000000  1.000000  0.591343  \n",
       "IF                                   NaN  1.000000  1.000000  0.591344  \n",
       "TSS                                  NaN  0.591343  0.591344  1.000000  \n",
       "\n",
       "[366 rows x 366 columns]"
      ]
     },
     "execution_count": 33,
     "metadata": {},
     "output_type": "execute_result"
    }
   ],
   "source": [
    "joined_df.corr()"
   ]
  },
  {
   "cell_type": "code",
   "execution_count": 34,
   "metadata": {},
   "outputs": [
    {
     "data": {
      "text/html": [
       "<div>\n",
       "<style scoped>\n",
       "    .dataframe tbody tr th:only-of-type {\n",
       "        vertical-align: middle;\n",
       "    }\n",
       "\n",
       "    .dataframe tbody tr th {\n",
       "        vertical-align: top;\n",
       "    }\n",
       "\n",
       "    .dataframe thead th {\n",
       "        text-align: right;\n",
       "    }\n",
       "</style>\n",
       "<table border=\"1\" class=\"dataframe\">\n",
       "  <thead>\n",
       "    <tr style=\"text-align: right;\">\n",
       "      <th></th>\n",
       "      <th>average_heartrate</th>\n",
       "      <th>average_temp</th>\n",
       "      <th>average_watts</th>\n",
       "      <th>distance</th>\n",
       "      <th>elapsed_time</th>\n",
       "      <th>kudos</th>\n",
       "      <th>moving_time</th>\n",
       "      <th>axPower</th>\n",
       "      <th>aPower Relative Intensity</th>\n",
       "      <th>aBikeScore</th>\n",
       "      <th>...</th>\n",
       "      <th>Rest AVNN</th>\n",
       "      <th>Rest SDNN</th>\n",
       "      <th>Rest rMSSD</th>\n",
       "      <th>Rest PNN50</th>\n",
       "      <th>Rest LF</th>\n",
       "      <th>Rest HF</th>\n",
       "      <th>HRV Recovery Points</th>\n",
       "      <th>NP</th>\n",
       "      <th>IF</th>\n",
       "      <th>TSS</th>\n",
       "    </tr>\n",
       "    <tr>\n",
       "      <th>workout_type</th>\n",
       "      <th></th>\n",
       "      <th></th>\n",
       "      <th></th>\n",
       "      <th></th>\n",
       "      <th></th>\n",
       "      <th></th>\n",
       "      <th></th>\n",
       "      <th></th>\n",
       "      <th></th>\n",
       "      <th></th>\n",
       "      <th></th>\n",
       "      <th></th>\n",
       "      <th></th>\n",
       "      <th></th>\n",
       "      <th></th>\n",
       "      <th></th>\n",
       "      <th></th>\n",
       "      <th></th>\n",
       "      <th></th>\n",
       "      <th></th>\n",
       "      <th></th>\n",
       "    </tr>\n",
       "  </thead>\n",
       "  <tbody>\n",
       "    <tr>\n",
       "      <td>Race</td>\n",
       "      <td>145.10</td>\n",
       "      <td>14.0</td>\n",
       "      <td>215.50</td>\n",
       "      <td>32.10</td>\n",
       "      <td>54.0</td>\n",
       "      <td>16.0</td>\n",
       "      <td>54.0</td>\n",
       "      <td>234.7840</td>\n",
       "      <td>0.876062</td>\n",
       "      <td>73.69025</td>\n",
       "      <td>...</td>\n",
       "      <td>0.0</td>\n",
       "      <td>0.0</td>\n",
       "      <td>0.0</td>\n",
       "      <td>0.0</td>\n",
       "      <td>0.0</td>\n",
       "      <td>0.0</td>\n",
       "      <td>0.0</td>\n",
       "      <td>257.1700</td>\n",
       "      <td>0.959591</td>\n",
       "      <td>84.62545</td>\n",
       "    </tr>\n",
       "    <tr>\n",
       "      <td>Ride</td>\n",
       "      <td>119.95</td>\n",
       "      <td>15.0</td>\n",
       "      <td>151.35</td>\n",
       "      <td>26.15</td>\n",
       "      <td>93.5</td>\n",
       "      <td>10.0</td>\n",
       "      <td>81.5</td>\n",
       "      <td>189.9235</td>\n",
       "      <td>0.708670</td>\n",
       "      <td>48.39475</td>\n",
       "      <td>...</td>\n",
       "      <td>0.0</td>\n",
       "      <td>0.0</td>\n",
       "      <td>0.0</td>\n",
       "      <td>0.0</td>\n",
       "      <td>0.0</td>\n",
       "      <td>0.0</td>\n",
       "      <td>0.0</td>\n",
       "      <td>211.3445</td>\n",
       "      <td>0.788600</td>\n",
       "      <td>57.35585</td>\n",
       "    </tr>\n",
       "    <tr>\n",
       "      <td>Workout</td>\n",
       "      <td>125.10</td>\n",
       "      <td>11.0</td>\n",
       "      <td>185.70</td>\n",
       "      <td>25.50</td>\n",
       "      <td>60.0</td>\n",
       "      <td>7.0</td>\n",
       "      <td>60.0</td>\n",
       "      <td>212.9850</td>\n",
       "      <td>0.794720</td>\n",
       "      <td>67.12280</td>\n",
       "      <td>...</td>\n",
       "      <td>0.0</td>\n",
       "      <td>0.0</td>\n",
       "      <td>0.0</td>\n",
       "      <td>0.0</td>\n",
       "      <td>0.0</td>\n",
       "      <td>0.0</td>\n",
       "      <td>0.0</td>\n",
       "      <td>224.1090</td>\n",
       "      <td>0.836229</td>\n",
       "      <td>73.74900</td>\n",
       "    </tr>\n",
       "  </tbody>\n",
       "</table>\n",
       "<p>3 rows × 366 columns</p>\n",
       "</div>"
      ],
      "text/plain": [
       "              average_heartrate  average_temp  average_watts  distance  \\\n",
       "workout_type                                                             \n",
       "Race                     145.10          14.0         215.50     32.10   \n",
       "Ride                     119.95          15.0         151.35     26.15   \n",
       "Workout                  125.10          11.0         185.70     25.50   \n",
       "\n",
       "              elapsed_time  kudos  moving_time   axPower  \\\n",
       "workout_type                                               \n",
       "Race                  54.0   16.0         54.0  234.7840   \n",
       "Ride                  93.5   10.0         81.5  189.9235   \n",
       "Workout               60.0    7.0         60.0  212.9850   \n",
       "\n",
       "              aPower Relative Intensity  aBikeScore  ...  Rest AVNN  \\\n",
       "workout_type                                         ...              \n",
       "Race                           0.876062    73.69025  ...        0.0   \n",
       "Ride                           0.708670    48.39475  ...        0.0   \n",
       "Workout                        0.794720    67.12280  ...        0.0   \n",
       "\n",
       "              Rest SDNN  Rest rMSSD  Rest PNN50  Rest LF  Rest HF  \\\n",
       "workout_type                                                        \n",
       "Race                0.0         0.0         0.0      0.0      0.0   \n",
       "Ride                0.0         0.0         0.0      0.0      0.0   \n",
       "Workout             0.0         0.0         0.0      0.0      0.0   \n",
       "\n",
       "              HRV Recovery Points        NP        IF       TSS  \n",
       "workout_type                                                     \n",
       "Race                          0.0  257.1700  0.959591  84.62545  \n",
       "Ride                          0.0  211.3445  0.788600  57.35585  \n",
       "Workout                       0.0  224.1090  0.836229  73.74900  \n",
       "\n",
       "[3 rows x 366 columns]"
      ]
     },
     "execution_count": 34,
     "metadata": {},
     "output_type": "execute_result"
    }
   ],
   "source": [
    "joined_df.groupby('workout_type').median()"
   ]
  },
  {
   "cell_type": "code",
   "execution_count": 51,
   "metadata": {},
   "outputs": [
    {
     "data": {
      "text/plain": [
       "array(['Ride', 'Race', 'Workout'], dtype=object)"
      ]
     },
     "execution_count": 51,
     "metadata": {},
     "output_type": "execute_result"
    }
   ],
   "source": [
    "joined_df['workout_type'].unique()"
   ]
  },
  {
   "cell_type": "code",
   "execution_count": 52,
   "metadata": {},
   "outputs": [
    {
     "data": {
      "text/plain": [
       "array([222.856, 245.365,   0.   , 253.702, 232.644, 212.726, 192.117,\n",
       "       244.5  , 222.957, 223.451, 222.469, 211.95 , 243.409, 170.526,\n",
       "       215.969, 201.837, 243.535, 231.006, 270.462, 204.955, 188.228,\n",
       "       205.624, 289.382, 194.425, 240.085, 215.934, 214.332, 233.779,\n",
       "       211.217, 233.525, 249.855, 275.057, 196.444, 284.207, 212.882,\n",
       "       212.443, 207.813, 214.592, 169.042, 204.843, 197.883, 239.275,\n",
       "       221.171, 247.956, 223.167, 225.573, 202.202, 248.693, 220.407,\n",
       "       268.603, 180.679, 195.059, 188.8  , 182.578, 191.915, 290.781,\n",
       "       278.375, 242.918, 232.732, 213.396, 140.585, 202.237, 183.64 ,\n",
       "       216.569, 231.282, 202.072, 223.463, 208.301, 196.491, 225.964,\n",
       "       223.988, 139.591, 205.448, 199.206, 210.164, 182.987, 245.789,\n",
       "       169.125, 223.192, 215.507, 249.459, 221.354, 213.367, 251.732,\n",
       "       241.072, 220.552, 210.33 , 227.404, 211.472, 197.85 , 231.614,\n",
       "       169.875, 229.833, 202.04 , 242.935, 214.677, 245.859, 235.151,\n",
       "       225.961, 211.821, 226.327, 272.996, 224.816, 235.676, 210.827,\n",
       "       201.276, 202.941, 205.234, 253.067, 220.343, 231.935, 231.599,\n",
       "       282.911, 228.525, 220.063, 177.178, 226.469, 199.015, 263.986,\n",
       "       244.758, 225.092, 214.051, 245.639, 164.54 , 233.565, 231.676,\n",
       "       225.366, 216.62 , 291.809, 171.051, 185.021, 223.296, 294.308,\n",
       "       182.43 , 187.073, 235.363, 215.828, 209.625, 284.704, 264.067,\n",
       "       241.842, 201.416, 274.337, 203.369, 237.003, 234.051, 227.442,\n",
       "       242.857, 196.88 , 287.379, 150.803, 212.286, 246.697, 228.878,\n",
       "       232.822, 216.392, 252.962, 170.31 , 234.099, 169.183, 262.147,\n",
       "       216.207, 233.739, 239.786, 224.109, 228.582, 243.344, 209.062,\n",
       "       273.058, 172.232, 209.178, 218.943, 237.382, 232.745, 239.421,\n",
       "       160.732, 237.934, 208.361, 241.086, 244.969, 271.443, 226.844,\n",
       "       195.399, 262.836, 227.6  , 241.06 , 220.555, 235.026, 188.434,\n",
       "       261.623, 218.395, 215.366, 219.084, 277.967, 159.56 , 228.856,\n",
       "       210.929, 302.396, 243.083, 204.135, 261.378, 222.988, 236.028,\n",
       "       212.02 , 267.699, 163.001])"
      ]
     },
     "execution_count": 52,
     "metadata": {},
     "output_type": "execute_result"
    }
   ],
   "source": [
    "joined_df['NP'].unique()"
   ]
  },
  {
   "cell_type": "code",
   "execution_count": 42,
   "metadata": {},
   "outputs": [
    {
     "data": {
      "image/png": "[encoded data removed]",
      "text/plain": [
       "<Figure size 360x360 with 6 Axes>"
      ]
     },
     "metadata": {},
     "output_type": "display_data"
    }
   ],
   "source": [
    "import seaborn as sns\n",
    "import matplotlib.pyplot as plt\n",
    "sns.set(style=\"ticks\", color_codes=True)\n",
    "pp = sns.pairplot(joined_df, vars=['workout_type', 'NP'])\n",
    "\n",
    "plt.show()"
   ]
  },
  {
   "cell_type": "code",
   "execution_count": 54,
   "metadata": {},
   "outputs": [
    {
     "ename": "ValueError",
     "evalue": "could not convert string to float: 'Ride'",
     "output_type": "error",
     "traceback": [
      "\u001b[1;31m---------------------------------------------------------------------------\u001b[0m",
      "\u001b[1;31mValueError\u001b[0m                                Traceback (most recent call last)",
      "\u001b[1;32m<ipython-input-54-9681ecedfa98>\u001b[0m in \u001b[0;36m<module>\u001b[1;34m\u001b[0m\n\u001b[1;32m----> 1\u001b[1;33m \u001b[0mp\u001b[0m \u001b[1;33m=\u001b[0m \u001b[0msns\u001b[0m\u001b[1;33m.\u001b[0m\u001b[0mpairplot\u001b[0m\u001b[1;33m(\u001b[0m\u001b[0mjoined_df\u001b[0m\u001b[1;33m,\u001b[0m\u001b[0mvars\u001b[0m\u001b[1;33m=\u001b[0m\u001b[1;33m[\u001b[0m\u001b[1;34m'workout_type'\u001b[0m\u001b[1;33m,\u001b[0m \u001b[1;34m'NP'\u001b[0m\u001b[1;33m]\u001b[0m\u001b[1;33m,\u001b[0m \u001b[0mhue\u001b[0m\u001b[1;33m=\u001b[0m\u001b[1;34m\"workout_type\"\u001b[0m\u001b[1;33m)\u001b[0m\u001b[1;33m\u001b[0m\u001b[1;33m\u001b[0m\u001b[0m\n\u001b[0m\u001b[0;32m      2\u001b[0m \u001b[0mplt\u001b[0m\u001b[1;33m.\u001b[0m\u001b[0mshow\u001b[0m\u001b[1;33m(\u001b[0m\u001b[1;33m)\u001b[0m\u001b[1;33m\u001b[0m\u001b[1;33m\u001b[0m\u001b[0m\n",
      "\u001b[1;32m~\\Anaconda3\\lib\\site-packages\\seaborn\\axisgrid.py\u001b[0m in \u001b[0;36mpairplot\u001b[1;34m(data, hue, hue_order, palette, vars, x_vars, y_vars, kind, diag_kind, markers, height, aspect, dropna, plot_kws, diag_kws, grid_kws, size)\u001b[0m\n\u001b[0;32m   2109\u001b[0m             \u001b[0mdiag_kws\u001b[0m\u001b[1;33m.\u001b[0m\u001b[0msetdefault\u001b[0m\u001b[1;33m(\u001b[0m\u001b[1;34m\"shade\"\u001b[0m\u001b[1;33m,\u001b[0m \u001b[1;32mTrue\u001b[0m\u001b[1;33m)\u001b[0m\u001b[1;33m\u001b[0m\u001b[1;33m\u001b[0m\u001b[0m\n\u001b[0;32m   2110\u001b[0m             \u001b[0mdiag_kws\u001b[0m\u001b[1;33m[\u001b[0m\u001b[1;34m\"legend\"\u001b[0m\u001b[1;33m]\u001b[0m \u001b[1;33m=\u001b[0m \u001b[1;32mFalse\u001b[0m\u001b[1;33m\u001b[0m\u001b[1;33m\u001b[0m\u001b[0m\n\u001b[1;32m-> 2111\u001b[1;33m             \u001b[0mgrid\u001b[0m\u001b[1;33m.\u001b[0m\u001b[0mmap_diag\u001b[0m\u001b[1;33m(\u001b[0m\u001b[0mkdeplot\u001b[0m\u001b[1;33m,\u001b[0m \u001b[1;33m**\u001b[0m\u001b[0mdiag_kws\u001b[0m\u001b[1;33m)\u001b[0m\u001b[1;33m\u001b[0m\u001b[1;33m\u001b[0m\u001b[0m\n\u001b[0m\u001b[0;32m   2112\u001b[0m \u001b[1;33m\u001b[0m\u001b[0m\n\u001b[0;32m   2113\u001b[0m     \u001b[1;31m# Maybe plot on the off-diagonals\u001b[0m\u001b[1;33m\u001b[0m\u001b[1;33m\u001b[0m\u001b[1;33m\u001b[0m\u001b[0m\n",
      "\u001b[1;32m~\\Anaconda3\\lib\\site-packages\\seaborn\\axisgrid.py\u001b[0m in \u001b[0;36mmap_diag\u001b[1;34m(self, func, **kwargs)\u001b[0m\n\u001b[0;32m   1397\u001b[0m                     \u001b[0mcolor\u001b[0m \u001b[1;33m=\u001b[0m \u001b[0mfixed_color\u001b[0m\u001b[1;33m\u001b[0m\u001b[1;33m\u001b[0m\u001b[0m\n\u001b[0;32m   1398\u001b[0m \u001b[1;33m\u001b[0m\u001b[0m\n\u001b[1;32m-> 1399\u001b[1;33m                 \u001b[0mfunc\u001b[0m\u001b[1;33m(\u001b[0m\u001b[0mdata_k\u001b[0m\u001b[1;33m,\u001b[0m \u001b[0mlabel\u001b[0m\u001b[1;33m=\u001b[0m\u001b[0mlabel_k\u001b[0m\u001b[1;33m,\u001b[0m \u001b[0mcolor\u001b[0m\u001b[1;33m=\u001b[0m\u001b[0mcolor\u001b[0m\u001b[1;33m,\u001b[0m \u001b[1;33m**\u001b[0m\u001b[0mkwargs\u001b[0m\u001b[1;33m)\u001b[0m\u001b[1;33m\u001b[0m\u001b[1;33m\u001b[0m\u001b[0m\n\u001b[0m\u001b[0;32m   1400\u001b[0m \u001b[1;33m\u001b[0m\u001b[0m\n\u001b[0;32m   1401\u001b[0m             \u001b[0mself\u001b[0m\u001b[1;33m.\u001b[0m\u001b[0m_clean_axis\u001b[0m\u001b[1;33m(\u001b[0m\u001b[0max\u001b[0m\u001b[1;33m)\u001b[0m\u001b[1;33m\u001b[0m\u001b[1;33m\u001b[0m\u001b[0m\n",
      "\u001b[1;32m~\\Anaconda3\\lib\\site-packages\\seaborn\\distributions.py\u001b[0m in \u001b[0;36mkdeplot\u001b[1;34m(data, data2, shade, vertical, kernel, bw, gridsize, cut, clip, legend, cumulative, shade_lowest, cbar, cbar_ax, cbar_kws, ax, **kwargs)\u001b[0m\n\u001b[0;32m    651\u001b[0m         \u001b[1;32mreturn\u001b[0m \u001b[0max\u001b[0m\u001b[1;33m\u001b[0m\u001b[1;33m\u001b[0m\u001b[0m\n\u001b[0;32m    652\u001b[0m \u001b[1;33m\u001b[0m\u001b[0m\n\u001b[1;32m--> 653\u001b[1;33m     \u001b[0mdata\u001b[0m \u001b[1;33m=\u001b[0m \u001b[0mdata\u001b[0m\u001b[1;33m.\u001b[0m\u001b[0mastype\u001b[0m\u001b[1;33m(\u001b[0m\u001b[0mnp\u001b[0m\u001b[1;33m.\u001b[0m\u001b[0mfloat64\u001b[0m\u001b[1;33m)\u001b[0m\u001b[1;33m\u001b[0m\u001b[1;33m\u001b[0m\u001b[0m\n\u001b[0m\u001b[0;32m    654\u001b[0m     \u001b[1;32mif\u001b[0m \u001b[0mdata2\u001b[0m \u001b[1;32mis\u001b[0m \u001b[1;32mnot\u001b[0m \u001b[1;32mNone\u001b[0m\u001b[1;33m:\u001b[0m\u001b[1;33m\u001b[0m\u001b[1;33m\u001b[0m\u001b[0m\n\u001b[0;32m    655\u001b[0m         \u001b[1;32mif\u001b[0m \u001b[0misinstance\u001b[0m\u001b[1;33m(\u001b[0m\u001b[0mdata2\u001b[0m\u001b[1;33m,\u001b[0m \u001b[0mlist\u001b[0m\u001b[1;33m)\u001b[0m\u001b[1;33m:\u001b[0m\u001b[1;33m\u001b[0m\u001b[1;33m\u001b[0m\u001b[0m\n",
      "\u001b[1;31mValueError\u001b[0m: could not convert string to float: 'Ride'"
     ]
    },
    {
     "data": {
      "image/png": "[encoded data removed]",
      "text/plain": [
       "<Figure size 360x360 with 6 Axes>"
      ]
     },
     "metadata": {},
     "output_type": "display_data"
    }
   ],
   "source": [
    "p = sns.pairplot(joined_df,vars=['workout_type', 'NP'], hue=\"workout_type\")\n",
    "plt.show()"
   ]
  },
  {
   "cell_type": "markdown",
   "metadata": {},
   "source": [
    "# 5. It is useful to see a summary of rides over the year. Generate a plot that summarises the number of km ridden each month over the period of the data. Overlay this with the sum of the Training Stress Score and the average of the Average Speed to generate an overall summary of activity."
   ]
  },
  {
   "cell_type": "code",
   "execution_count": 48,
   "metadata": {},
   "outputs": [
    {
     "data": {
      "text/plain": [
       "Index(['average_heartrate', 'average_temp', 'average_watts', 'device_watts',\n",
       "       'distance', 'elapsed_time', 'elevation_gain', 'kudos', 'moving_time',\n",
       "       'workout_type',\n",
       "       ...\n",
       "       'Rest AVNN', 'Rest SDNN', 'Rest rMSSD', 'Rest PNN50', 'Rest LF',\n",
       "       'Rest HF', 'HRV Recovery Points', 'NP', 'IF', 'TSS'],\n",
       "      dtype='object', length=372)"
      ]
     },
     "execution_count": 48,
     "metadata": {},
     "output_type": "execute_result"
    }
   ],
   "source": [
    "joined_df.columns"
   ]
  },
  {
   "cell_type": "code",
   "execution_count": 75,
   "metadata": {},
   "outputs": [],
   "source": [
    "ride_summary=joined_df.groupby(['date', 'workout_type', 'TSS','Average Speed']).sum()"
   ]
  },
  {
   "cell_type": "code",
   "execution_count": 79,
   "metadata": {},
   "outputs": [
    {
     "data": {
      "image/png": "[encoded data removed]",
      "text/plain": [
       "<Figure size 720x720 with 20 Axes>"
      ]
     },
     "metadata": {},
     "output_type": "display_data"
    }
   ],
   "source": [
    "rs = sns.pairplot(joined_df, vars=['date', 'workout_type', 'TSS','Average Speed'])"
   ]
  },
  {
   "cell_type": "code",
   "execution_count": 80,
   "metadata": {},
   "outputs": [
    {
     "ename": "AttributeError",
     "evalue": "'Series' object has no attribute 'month'",
     "output_type": "error",
     "traceback": [
      "\u001b[1;31m---------------------------------------------------------------------------\u001b[0m",
      "\u001b[1;31mAttributeError\u001b[0m                            Traceback (most recent call last)",
      "\u001b[1;32m<ipython-input-80-7d5e28af2c88>\u001b[0m in \u001b[0;36m<module>\u001b[1;34m\u001b[0m\n\u001b[0;32m      1\u001b[0m \u001b[0mjoined_df\u001b[0m\u001b[1;33m.\u001b[0m\u001b[0mdate\u001b[0m \u001b[1;33m=\u001b[0m \u001b[0mpd\u001b[0m\u001b[1;33m.\u001b[0m\u001b[0mto_datetime\u001b[0m\u001b[1;33m(\u001b[0m\u001b[0mjoined_df\u001b[0m\u001b[1;33m[\u001b[0m\u001b[1;34m'date'\u001b[0m\u001b[1;33m]\u001b[0m\u001b[1;33m,\u001b[0m\u001b[0mformat\u001b[0m\u001b[1;33m=\u001b[0m\u001b[1;34m'%m/%d/%y'\u001b[0m\u001b[1;33m)\u001b[0m\u001b[1;33m\u001b[0m\u001b[1;33m\u001b[0m\u001b[0m\n\u001b[1;32m----> 2\u001b[1;33m \u001b[0mjoined_df\u001b[0m\u001b[1;33m.\u001b[0m\u001b[0mgroupby\u001b[0m\u001b[1;33m(\u001b[0m\u001b[0mby\u001b[0m\u001b[1;33m=\u001b[0m\u001b[1;33m[\u001b[0m\u001b[0mjoined_df\u001b[0m\u001b[1;33m.\u001b[0m\u001b[0mdate\u001b[0m\u001b[1;33m.\u001b[0m\u001b[0mmonth\u001b[0m\u001b[1;33m]\u001b[0m\u001b[1;33m)\u001b[0m\u001b[1;33m\u001b[0m\u001b[1;33m\u001b[0m\u001b[0m\n\u001b[0m",
      "\u001b[1;32m~\\Anaconda3\\lib\\site-packages\\pandas\\core\\generic.py\u001b[0m in \u001b[0;36m__getattr__\u001b[1;34m(self, name)\u001b[0m\n\u001b[0;32m   5177\u001b[0m             \u001b[1;32mif\u001b[0m \u001b[0mself\u001b[0m\u001b[1;33m.\u001b[0m\u001b[0m_info_axis\u001b[0m\u001b[1;33m.\u001b[0m\u001b[0m_can_hold_identifiers_and_holds_name\u001b[0m\u001b[1;33m(\u001b[0m\u001b[0mname\u001b[0m\u001b[1;33m)\u001b[0m\u001b[1;33m:\u001b[0m\u001b[1;33m\u001b[0m\u001b[1;33m\u001b[0m\u001b[0m\n\u001b[0;32m   5178\u001b[0m                 \u001b[1;32mreturn\u001b[0m \u001b[0mself\u001b[0m\u001b[1;33m[\u001b[0m\u001b[0mname\u001b[0m\u001b[1;33m]\u001b[0m\u001b[1;33m\u001b[0m\u001b[1;33m\u001b[0m\u001b[0m\n\u001b[1;32m-> 5179\u001b[1;33m             \u001b[1;32mreturn\u001b[0m \u001b[0mobject\u001b[0m\u001b[1;33m.\u001b[0m\u001b[0m__getattribute__\u001b[0m\u001b[1;33m(\u001b[0m\u001b[0mself\u001b[0m\u001b[1;33m,\u001b[0m \u001b[0mname\u001b[0m\u001b[1;33m)\u001b[0m\u001b[1;33m\u001b[0m\u001b[1;33m\u001b[0m\u001b[0m\n\u001b[0m\u001b[0;32m   5180\u001b[0m \u001b[1;33m\u001b[0m\u001b[0m\n\u001b[0;32m   5181\u001b[0m     \u001b[1;32mdef\u001b[0m \u001b[0m__setattr__\u001b[0m\u001b[1;33m(\u001b[0m\u001b[0mself\u001b[0m\u001b[1;33m,\u001b[0m \u001b[0mname\u001b[0m\u001b[1;33m,\u001b[0m \u001b[0mvalue\u001b[0m\u001b[1;33m)\u001b[0m\u001b[1;33m:\u001b[0m\u001b[1;33m\u001b[0m\u001b[1;33m\u001b[0m\u001b[0m\n",
      "\u001b[1;31mAttributeError\u001b[0m: 'Series' object has no attribute 'month'"
     ]
    }
   ],
   "source": [
    "joined_df.date = pd.to_datetime(joined_df['date'],format='%m/%d/%y')\n",
    "joined_df.groupby(by=[joined_df.date.month])"
   ]
  },
  {
   "cell_type": "code",
   "execution_count": 71,
   "metadata": {},
   "outputs": [
    {
     "ename": "AttributeError",
     "evalue": "'Series' object has no attribute 'month'",
     "output_type": "error",
     "traceback": [
      "\u001b[1;31m---------------------------------------------------------------------------\u001b[0m",
      "\u001b[1;31mAttributeError\u001b[0m                            Traceback (most recent call last)",
      "\u001b[1;32m<ipython-input-71-984f4d5221d4>\u001b[0m in \u001b[0;36m<module>\u001b[1;34m\u001b[0m\n\u001b[1;32m----> 1\u001b[1;33m \u001b[0mjoined_df\u001b[0m\u001b[1;33m.\u001b[0m\u001b[0mgroupby\u001b[0m\u001b[1;33m(\u001b[0m\u001b[0mby\u001b[0m\u001b[1;33m=\u001b[0m\u001b[1;33m[\u001b[0m\u001b[0mjoined_df\u001b[0m\u001b[1;33m.\u001b[0m\u001b[0mdate\u001b[0m\u001b[1;33m.\u001b[0m\u001b[0mmonth\u001b[0m\u001b[1;33m]\u001b[0m\u001b[1;33m)\u001b[0m\u001b[1;33m\u001b[0m\u001b[1;33m\u001b[0m\u001b[0m\n\u001b[0m",
      "\u001b[1;32m~\\Anaconda3\\lib\\site-packages\\pandas\\core\\generic.py\u001b[0m in \u001b[0;36m__getattr__\u001b[1;34m(self, name)\u001b[0m\n\u001b[0;32m   5177\u001b[0m             \u001b[1;32mif\u001b[0m \u001b[0mself\u001b[0m\u001b[1;33m.\u001b[0m\u001b[0m_info_axis\u001b[0m\u001b[1;33m.\u001b[0m\u001b[0m_can_hold_identifiers_and_holds_name\u001b[0m\u001b[1;33m(\u001b[0m\u001b[0mname\u001b[0m\u001b[1;33m)\u001b[0m\u001b[1;33m:\u001b[0m\u001b[1;33m\u001b[0m\u001b[1;33m\u001b[0m\u001b[0m\n\u001b[0;32m   5178\u001b[0m                 \u001b[1;32mreturn\u001b[0m \u001b[0mself\u001b[0m\u001b[1;33m[\u001b[0m\u001b[0mname\u001b[0m\u001b[1;33m]\u001b[0m\u001b[1;33m\u001b[0m\u001b[1;33m\u001b[0m\u001b[0m\n\u001b[1;32m-> 5179\u001b[1;33m             \u001b[1;32mreturn\u001b[0m \u001b[0mobject\u001b[0m\u001b[1;33m.\u001b[0m\u001b[0m__getattribute__\u001b[0m\u001b[1;33m(\u001b[0m\u001b[0mself\u001b[0m\u001b[1;33m,\u001b[0m \u001b[0mname\u001b[0m\u001b[1;33m)\u001b[0m\u001b[1;33m\u001b[0m\u001b[1;33m\u001b[0m\u001b[0m\n\u001b[0m\u001b[0;32m   5180\u001b[0m \u001b[1;33m\u001b[0m\u001b[0m\n\u001b[0;32m   5181\u001b[0m     \u001b[1;32mdef\u001b[0m \u001b[0m__setattr__\u001b[0m\u001b[1;33m(\u001b[0m\u001b[0mself\u001b[0m\u001b[1;33m,\u001b[0m \u001b[0mname\u001b[0m\u001b[1;33m,\u001b[0m \u001b[0mvalue\u001b[0m\u001b[1;33m)\u001b[0m\u001b[1;33m:\u001b[0m\u001b[1;33m\u001b[0m\u001b[1;33m\u001b[0m\u001b[0m\n",
      "\u001b[1;31mAttributeError\u001b[0m: 'Series' object has no attribute 'month'"
     ]
    }
   ],
   "source": []
  }
 ],
 "metadata": {
  "kernelspec": {
   "display_name": "Python 3",
   "language": "python",
   "name": "python3"
  },
  "language_info": {
   "codemirror_mode": {
    "name": "ipython",
    "version": 3
   },
   "file_extension": ".py",
   "mimetype": "text/x-python",
   "name": "python",
   "nbconvert_exporter": "python",
   "pygments_lexer": "ipython3",
   "version": "3.7.4"
  }
 },
 "nbformat": 4,
 "nbformat_minor": 2
}
